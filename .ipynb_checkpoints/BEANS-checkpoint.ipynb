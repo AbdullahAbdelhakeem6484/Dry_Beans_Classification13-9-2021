{
 "cells": [
  {
   "cell_type": "code",
   "execution_count": null,
   "metadata": {},
   "outputs": [],
   "source": [
    "####################################################################################################################\n",
    "# Competition   : Dry Beans Classification\n",
    "# Team Members  : 1- Abdullah Abdelhakeem\n",
    "#                 2- Mohamed Sebaie                   \n",
    "#                 3- Mohamed Moustafa\n",
    "#                 4- Ossama Ahmed\n",
    "#                 5- Mahmoud Osama\n",
    "#                 6- Hazem\n",
    "#\n",
    "# Problem :       Supervised Classification\n",
    "# version :       0.0.1\n",
    "#\n",
    "###################################################################################################################"
   ]
  },
  {
   "cell_type": "markdown",
   "metadata": {
    "id": "10866f1c",
    "papermill": {
     "duration": 0.029859,
     "end_time": "2021-09-12T00:14:39.644415",
     "exception": false,
     "start_time": "2021-09-12T00:14:39.614556",
     "status": "completed"
    },
    "tags": []
   },
   "source": [
    "# Dataset Information\n",
    "\n"
   ]
  },
  {
   "cell_type": "markdown",
   "metadata": {
    "id": "s9GVuRQ7XD3V"
   },
   "source": [
    "Given a set of features extracted from the shape of the beans in images and  it's required to predict the class of a bean given some features about its shape.\n",
    "There are 7 bean types in this dataset.\n",
    "\n",
    "**Data fields**\n",
    "- ID - an ID for this instance\n",
    "- Area - (A), The area of a bean zone and the number of pixels within its boundaries.\n",
    "- Perimeter - (P), Bean circumference is defined as the length of its border.\n",
    "- MajorAxisLength - (L), The distance between the ends of the longest line that can be drawn from a bean.\n",
    "- MinorAxisLength - (l), The longest line that can be drawn from the bean while standing perpendicular to the main axis.\n",
    "- AspectRatio - (K), Defines the relationship between L and l.\n",
    "- Eccentricity - (Ec), Eccentricity of the ellipse having the same moments as the region.\n",
    "- ConvexArea - (C), Number of pixels in the smallest convex polygon that can contain the area of a bean seed.\n",
    "- EquivDiameter - (Ed), The diameter of a circle having the same area as a bean seed area.\n",
    "- Extent - (Ex), The ratio of the pixels in the bounding box to the bean area.\n",
    "- Solidity - (S), Also known as convexity. The ratio of the pixels in the convex shell to those found in beans.\n",
    "- Roundness - (R), Calculated with the following formula: (4piA)/(P^2)\n",
    "- Compactness - (CO), Measures the roundness of an object: Ed/L\n",
    "- ShapeFactor1 - (SF1)\n",
    "- ShapeFactor2 - (SF2)\n",
    "- ShapeFactor3 - (SF3)\n",
    "- ShapeFactor4 - (SF4)\n",
    "- y - the class of the bean. It can be any of BARBUNYA, SIRA, HOROZ, DERMASON, CALI, BOMBAY, and SEKER.\n"
   ]
  },
  {
   "cell_type": "markdown",
   "metadata": {
    "id": "1a9a99b2",
    "papermill": {
     "duration": 0.030483,
     "end_time": "2021-09-12T00:14:39.703782",
     "exception": false,
     "start_time": "2021-09-12T00:14:39.673299",
     "status": "completed"
    },
    "tags": []
   },
   "source": [
    "<img src= \"https://www.thespruceeats.com/thmb/eeIti36pfkoNBaipXrTHLjIv5YA=/1888x1416/smart/filters:no_upscale()/DriedBeans-56f6c2c43df78c78418c3b46.jpg\" alt =\"Titanic\" style='width: 800px;height:400px'>"
   ]
  },
  {
   "cell_type": "markdown",
   "metadata": {
    "id": "ppF5ildHqk0p"
   },
   "source": [
    "# Import Required Libraries"
   ]
  },
  {
   "cell_type": "code",
   "execution_count": 132,
   "metadata": {
    "id": "eEou8l5UxkHx"
   },
   "outputs": [],
   "source": [
    "# !pip install catboost"
   ]
  },
  {
   "cell_type": "code",
   "execution_count": 133,
   "metadata": {},
   "outputs": [],
   "source": [
    "# pip install mlxtend"
   ]
  },
  {
   "cell_type": "code",
   "execution_count": 134,
   "metadata": {
    "ExecuteTime": {
     "end_time": "2021-09-13T09:09:05.064234Z",
     "start_time": "2021-09-13T09:08:30.772932Z"
    },
    "colab": {
     "base_uri": "https://localhost:8080/"
    },
    "execution": {
     "iopub.execute_input": "2021-08-04T00:03:21.147520Z",
     "iopub.status.busy": "2021-08-04T00:03:21.146838Z",
     "iopub.status.idle": "2021-08-04T00:03:23.076397Z",
     "shell.execute_reply": "2021-08-04T00:03:23.075688Z",
     "shell.execute_reply.started": "2021-08-03T23:53:13.286517Z"
    },
    "id": "B8IAZOPlo_xN",
    "outputId": "c59c4042-b1f1-4fc4-fe35-759646b2490d",
    "papermill": {
     "duration": 1.981628,
     "end_time": "2021-08-04T00:03:23.076546",
     "exception": false,
     "start_time": "2021-08-04T00:03:21.094918",
     "status": "completed"
    },
    "tags": []
   },
   "outputs": [],
   "source": [
    "import numpy as np # linear algebra\n",
    "import pandas as pd # data processing, CSV file I/O (e.g. pd.read_csv)\n",
    "\n",
    "import statsmodels.api as sm\n",
    "from sklearn.preprocessing import LabelEncoder\n",
    "from sklearn.pipeline import Pipeline\n",
    "from sklearn.metrics import ConfusionMatrixDisplay,confusion_matrix\n",
    "from mlxtend.plotting import plot_confusion_matrix\n",
    "#####################################################################\n",
    "# for visualizations\n",
    "from pandas import plotting\n",
    "import matplotlib.pyplot as plt\n",
    "%matplotlib inline\n",
    "import seaborn as sns\n",
    "plt.style.use('fivethirtyeight')\n",
    "sns.set(rc={'figure.figsize': [7, 7]}, font_scale=1.2)\n",
    "###########################################################\n",
    "%config Completer.use_jedi=False\n",
    "pd.set_option(\"display.max_columns\", None)\n",
    "\n",
    "# ignore the warnings\n",
    "import warnings\n",
    "warnings.filterwarnings(\"ignore\")\n",
    "np.set_printoptions(suppress=True)\n",
    "\n",
    "# for path\n",
    "import os\n",
    "for dirname, _, filenames in os.walk('/kaggle/input'):\n",
    "    for filename in filenames:\n",
    "        print(os.path.join(dirname, filename))"
   ]
  },
  {
   "cell_type": "markdown",
   "metadata": {
    "id": "VgZO9uiVqoKD"
   },
   "source": [
    "# Read Train and Test Data"
   ]
  },
  {
   "cell_type": "code",
   "execution_count": 135,
   "metadata": {
    "ExecuteTime": {
     "end_time": "2021-09-13T09:09:12.977547Z",
     "start_time": "2021-09-13T09:09:12.973639Z"
    },
    "execution": {
     "iopub.execute_input": "2021-08-04T00:03:23.175763Z",
     "iopub.status.busy": "2021-08-04T00:03:23.175128Z",
     "iopub.status.idle": "2021-08-04T00:03:23.240424Z",
     "shell.execute_reply": "2021-08-04T00:03:23.240890Z",
     "shell.execute_reply.started": "2021-08-03T23:53:13.336045Z"
    },
    "id": "iQxEasPYo_xX",
    "papermill": {
     "duration": 0.117654,
     "end_time": "2021-08-04T00:03:23.241070",
     "exception": false,
     "start_time": "2021-08-04T00:03:23.123416",
     "status": "completed"
    },
    "tags": []
   },
   "outputs": [],
   "source": [
    "# dataset_path = '/kaggle/input/dry-beans-classification-iti-ai-pro-intake01/'\n",
    "# dfTrainO = pd.read_csv(os.path.join(dataset_path, 'train.csv'))\n",
    "# dfTestO = pd.read_csv(os.path.join(dataset_path, 'test.csv'))\n",
    "# print(\"The shape of the dataset is {}.\\n\\n\".format(dfTrainO.shape))\n",
    "# print(\"The shape of the dataset is {}.\\n\\n\".format(dfTestO.shape))\n",
    "# dfTrainO.head()"
   ]
  },
  {
   "cell_type": "code",
   "execution_count": 136,
   "metadata": {
    "ExecuteTime": {
     "end_time": "2021-09-13T09:09:14.044960Z",
     "start_time": "2021-09-13T09:09:13.688161Z"
    },
    "colab": {
     "base_uri": "https://localhost:8080/",
     "height": 513
    },
    "execution": {
     "iopub.execute_input": "2021-08-04T00:03:23.337946Z",
     "iopub.status.busy": "2021-08-04T00:03:23.337261Z",
     "iopub.status.idle": "2021-08-04T00:03:23.340363Z",
     "shell.execute_reply": "2021-08-04T00:03:23.339737Z",
     "shell.execute_reply.started": "2021-08-03T23:53:13.383335Z"
    },
    "id": "ggCy_Dlmo_xd",
    "outputId": "3cdd824b-63cf-4a2d-83ef-db5f00d177f5",
    "papermill": {
     "duration": 0.05279,
     "end_time": "2021-08-04T00:03:23.340501",
     "exception": false,
     "start_time": "2021-08-04T00:03:23.287711",
     "status": "completed"
    },
    "scrolled": false,
    "tags": []
   },
   "outputs": [
    {
     "name": "stdout",
     "output_type": "stream",
     "text": [
      "------------------------------------------------------------------------------------------\n",
      "Train Head\n",
      "------------------------------------------------------------------------------------------\n"
     ]
    },
    {
     "data": {
      "text/html": [
       "<div>\n",
       "<style scoped>\n",
       "    .dataframe tbody tr th:only-of-type {\n",
       "        vertical-align: middle;\n",
       "    }\n",
       "\n",
       "    .dataframe tbody tr th {\n",
       "        vertical-align: top;\n",
       "    }\n",
       "\n",
       "    .dataframe thead th {\n",
       "        text-align: right;\n",
       "    }\n",
       "</style>\n",
       "<table border=\"1\" class=\"dataframe\">\n",
       "  <thead>\n",
       "    <tr style=\"text-align: right;\">\n",
       "      <th></th>\n",
       "      <th>ID</th>\n",
       "      <th>Area</th>\n",
       "      <th>Perimeter</th>\n",
       "      <th>MajorAxisLength</th>\n",
       "      <th>MinorAxisLength</th>\n",
       "      <th>AspectRation</th>\n",
       "      <th>Eccentricity</th>\n",
       "      <th>ConvexArea</th>\n",
       "      <th>EquivDiameter</th>\n",
       "      <th>Extent</th>\n",
       "      <th>Solidity</th>\n",
       "      <th>roundness</th>\n",
       "      <th>Compactness</th>\n",
       "      <th>ShapeFactor1</th>\n",
       "      <th>ShapeFactor2</th>\n",
       "      <th>ShapeFactor3</th>\n",
       "      <th>ShapeFactor4</th>\n",
       "      <th>y</th>\n",
       "    </tr>\n",
       "  </thead>\n",
       "  <tbody>\n",
       "    <tr>\n",
       "      <th>0</th>\n",
       "      <td>0</td>\n",
       "      <td>58238</td>\n",
       "      <td>971.303</td>\n",
       "      <td>397.202654</td>\n",
       "      <td>186.945510</td>\n",
       "      <td>2.124697</td>\n",
       "      <td>0.882317</td>\n",
       "      <td>58977</td>\n",
       "      <td>272.306674</td>\n",
       "      <td>0.604756</td>\n",
       "      <td>0.987470</td>\n",
       "      <td>0.775723</td>\n",
       "      <td>0.685561</td>\n",
       "      <td>0.006820</td>\n",
       "      <td>0.000929</td>\n",
       "      <td>0.469994</td>\n",
       "      <td>0.998595</td>\n",
       "      <td>HOROZ</td>\n",
       "    </tr>\n",
       "    <tr>\n",
       "      <th>1</th>\n",
       "      <td>1</td>\n",
       "      <td>44515</td>\n",
       "      <td>757.601</td>\n",
       "      <td>265.590470</td>\n",
       "      <td>213.967453</td>\n",
       "      <td>1.241266</td>\n",
       "      <td>0.592420</td>\n",
       "      <td>44780</td>\n",
       "      <td>238.071960</td>\n",
       "      <td>0.771745</td>\n",
       "      <td>0.994082</td>\n",
       "      <td>0.974620</td>\n",
       "      <td>0.896387</td>\n",
       "      <td>0.005966</td>\n",
       "      <td>0.002376</td>\n",
       "      <td>0.803510</td>\n",
       "      <td>0.997370</td>\n",
       "      <td>SEKER</td>\n",
       "    </tr>\n",
       "    <tr>\n",
       "      <th>2</th>\n",
       "      <td>2</td>\n",
       "      <td>31662</td>\n",
       "      <td>653.783</td>\n",
       "      <td>239.902428</td>\n",
       "      <td>168.421505</td>\n",
       "      <td>1.424417</td>\n",
       "      <td>0.712136</td>\n",
       "      <td>32034</td>\n",
       "      <td>200.781748</td>\n",
       "      <td>0.801407</td>\n",
       "      <td>0.988387</td>\n",
       "      <td>0.930853</td>\n",
       "      <td>0.836931</td>\n",
       "      <td>0.007577</td>\n",
       "      <td>0.002293</td>\n",
       "      <td>0.700453</td>\n",
       "      <td>0.997737</td>\n",
       "      <td>DERMASON</td>\n",
       "    </tr>\n",
       "    <tr>\n",
       "      <th>3</th>\n",
       "      <td>3</td>\n",
       "      <td>38778</td>\n",
       "      <td>734.020</td>\n",
       "      <td>268.446281</td>\n",
       "      <td>184.061923</td>\n",
       "      <td>1.458456</td>\n",
       "      <td>0.727925</td>\n",
       "      <td>39208</td>\n",
       "      <td>222.201897</td>\n",
       "      <td>0.766137</td>\n",
       "      <td>0.989033</td>\n",
       "      <td>0.904439</td>\n",
       "      <td>0.827733</td>\n",
       "      <td>0.006923</td>\n",
       "      <td>0.002005</td>\n",
       "      <td>0.685142</td>\n",
       "      <td>0.999250</td>\n",
       "      <td>DERMASON</td>\n",
       "    </tr>\n",
       "    <tr>\n",
       "      <th>4</th>\n",
       "      <td>4</td>\n",
       "      <td>42530</td>\n",
       "      <td>775.403</td>\n",
       "      <td>281.212824</td>\n",
       "      <td>193.236878</td>\n",
       "      <td>1.455275</td>\n",
       "      <td>0.726511</td>\n",
       "      <td>43028</td>\n",
       "      <td>232.703412</td>\n",
       "      <td>0.729816</td>\n",
       "      <td>0.988426</td>\n",
       "      <td>0.888895</td>\n",
       "      <td>0.827499</td>\n",
       "      <td>0.006612</td>\n",
       "      <td>0.001912</td>\n",
       "      <td>0.684755</td>\n",
       "      <td>0.996507</td>\n",
       "      <td>SIRA</td>\n",
       "    </tr>\n",
       "  </tbody>\n",
       "</table>\n",
       "</div>"
      ],
      "text/plain": [
       "   ID   Area  Perimeter  MajorAxisLength  MinorAxisLength  AspectRation  \\\n",
       "0   0  58238    971.303       397.202654       186.945510      2.124697   \n",
       "1   1  44515    757.601       265.590470       213.967453      1.241266   \n",
       "2   2  31662    653.783       239.902428       168.421505      1.424417   \n",
       "3   3  38778    734.020       268.446281       184.061923      1.458456   \n",
       "4   4  42530    775.403       281.212824       193.236878      1.455275   \n",
       "\n",
       "   Eccentricity  ConvexArea  EquivDiameter    Extent  Solidity  roundness  \\\n",
       "0      0.882317       58977     272.306674  0.604756  0.987470   0.775723   \n",
       "1      0.592420       44780     238.071960  0.771745  0.994082   0.974620   \n",
       "2      0.712136       32034     200.781748  0.801407  0.988387   0.930853   \n",
       "3      0.727925       39208     222.201897  0.766137  0.989033   0.904439   \n",
       "4      0.726511       43028     232.703412  0.729816  0.988426   0.888895   \n",
       "\n",
       "   Compactness  ShapeFactor1  ShapeFactor2  ShapeFactor3  ShapeFactor4  \\\n",
       "0     0.685561      0.006820      0.000929      0.469994      0.998595   \n",
       "1     0.896387      0.005966      0.002376      0.803510      0.997370   \n",
       "2     0.836931      0.007577      0.002293      0.700453      0.997737   \n",
       "3     0.827733      0.006923      0.002005      0.685142      0.999250   \n",
       "4     0.827499      0.006612      0.001912      0.684755      0.996507   \n",
       "\n",
       "          y  \n",
       "0     HOROZ  \n",
       "1     SEKER  \n",
       "2  DERMASON  \n",
       "3  DERMASON  \n",
       "4      SIRA  "
      ]
     },
     "metadata": {},
     "output_type": "display_data"
    },
    {
     "name": "stdout",
     "output_type": "stream",
     "text": [
      "------------------------------------------------------------------------------------------\n",
      "Test Head\n",
      "------------------------------------------------------------------------------------------\n"
     ]
    },
    {
     "data": {
      "text/html": [
       "<div>\n",
       "<style scoped>\n",
       "    .dataframe tbody tr th:only-of-type {\n",
       "        vertical-align: middle;\n",
       "    }\n",
       "\n",
       "    .dataframe tbody tr th {\n",
       "        vertical-align: top;\n",
       "    }\n",
       "\n",
       "    .dataframe thead th {\n",
       "        text-align: right;\n",
       "    }\n",
       "</style>\n",
       "<table border=\"1\" class=\"dataframe\">\n",
       "  <thead>\n",
       "    <tr style=\"text-align: right;\">\n",
       "      <th></th>\n",
       "      <th>ID</th>\n",
       "      <th>Area</th>\n",
       "      <th>Perimeter</th>\n",
       "      <th>MajorAxisLength</th>\n",
       "      <th>MinorAxisLength</th>\n",
       "      <th>AspectRation</th>\n",
       "      <th>Eccentricity</th>\n",
       "      <th>ConvexArea</th>\n",
       "      <th>EquivDiameter</th>\n",
       "      <th>Extent</th>\n",
       "      <th>Solidity</th>\n",
       "      <th>roundness</th>\n",
       "      <th>Compactness</th>\n",
       "      <th>ShapeFactor1</th>\n",
       "      <th>ShapeFactor2</th>\n",
       "      <th>ShapeFactor3</th>\n",
       "      <th>ShapeFactor4</th>\n",
       "    </tr>\n",
       "  </thead>\n",
       "  <tbody>\n",
       "    <tr>\n",
       "      <th>0</th>\n",
       "      <td>10834</td>\n",
       "      <td>57659</td>\n",
       "      <td>955.434</td>\n",
       "      <td>387.757607</td>\n",
       "      <td>196.625782</td>\n",
       "      <td>1.972059</td>\n",
       "      <td>0.861896</td>\n",
       "      <td>60188</td>\n",
       "      <td>270.949661</td>\n",
       "      <td>0.620790</td>\n",
       "      <td>0.957982</td>\n",
       "      <td>0.793735</td>\n",
       "      <td>0.698760</td>\n",
       "      <td>0.006725</td>\n",
       "      <td>0.000989</td>\n",
       "      <td>0.488266</td>\n",
       "      <td>0.962889</td>\n",
       "    </tr>\n",
       "    <tr>\n",
       "      <th>1</th>\n",
       "      <td>10835</td>\n",
       "      <td>28772</td>\n",
       "      <td>630.362</td>\n",
       "      <td>229.990785</td>\n",
       "      <td>159.609367</td>\n",
       "      <td>1.440960</td>\n",
       "      <td>0.719993</td>\n",
       "      <td>29127</td>\n",
       "      <td>191.399185</td>\n",
       "      <td>0.767458</td>\n",
       "      <td>0.987812</td>\n",
       "      <td>0.909913</td>\n",
       "      <td>0.832204</td>\n",
       "      <td>0.007994</td>\n",
       "      <td>0.002365</td>\n",
       "      <td>0.692563</td>\n",
       "      <td>0.997956</td>\n",
       "    </tr>\n",
       "    <tr>\n",
       "      <th>2</th>\n",
       "      <td>10836</td>\n",
       "      <td>54677</td>\n",
       "      <td>911.022</td>\n",
       "      <td>308.853903</td>\n",
       "      <td>226.398571</td>\n",
       "      <td>1.364204</td>\n",
       "      <td>0.680198</td>\n",
       "      <td>55858</td>\n",
       "      <td>263.850182</td>\n",
       "      <td>0.753013</td>\n",
       "      <td>0.978857</td>\n",
       "      <td>0.827860</td>\n",
       "      <td>0.854288</td>\n",
       "      <td>0.005649</td>\n",
       "      <td>0.001856</td>\n",
       "      <td>0.729808</td>\n",
       "      <td>0.995607</td>\n",
       "    </tr>\n",
       "    <tr>\n",
       "      <th>3</th>\n",
       "      <td>10837</td>\n",
       "      <td>24827</td>\n",
       "      <td>578.304</td>\n",
       "      <td>214.192699</td>\n",
       "      <td>147.788172</td>\n",
       "      <td>1.449322</td>\n",
       "      <td>0.723831</td>\n",
       "      <td>25121</td>\n",
       "      <td>177.794033</td>\n",
       "      <td>0.716508</td>\n",
       "      <td>0.988297</td>\n",
       "      <td>0.932871</td>\n",
       "      <td>0.830066</td>\n",
       "      <td>0.008627</td>\n",
       "      <td>0.002526</td>\n",
       "      <td>0.689009</td>\n",
       "      <td>0.998596</td>\n",
       "    </tr>\n",
       "    <tr>\n",
       "      <th>4</th>\n",
       "      <td>10838</td>\n",
       "      <td>141850</td>\n",
       "      <td>1432.847</td>\n",
       "      <td>524.923471</td>\n",
       "      <td>346.910920</td>\n",
       "      <td>1.513136</td>\n",
       "      <td>0.750492</td>\n",
       "      <td>143680</td>\n",
       "      <td>424.981211</td>\n",
       "      <td>0.804617</td>\n",
       "      <td>0.987263</td>\n",
       "      <td>0.868240</td>\n",
       "      <td>0.809606</td>\n",
       "      <td>0.003701</td>\n",
       "      <td>0.000981</td>\n",
       "      <td>0.655462</td>\n",
       "      <td>0.991803</td>\n",
       "    </tr>\n",
       "  </tbody>\n",
       "</table>\n",
       "</div>"
      ],
      "text/plain": [
       "      ID    Area  Perimeter  MajorAxisLength  MinorAxisLength  AspectRation  \\\n",
       "0  10834   57659    955.434       387.757607       196.625782      1.972059   \n",
       "1  10835   28772    630.362       229.990785       159.609367      1.440960   \n",
       "2  10836   54677    911.022       308.853903       226.398571      1.364204   \n",
       "3  10837   24827    578.304       214.192699       147.788172      1.449322   \n",
       "4  10838  141850   1432.847       524.923471       346.910920      1.513136   \n",
       "\n",
       "   Eccentricity  ConvexArea  EquivDiameter    Extent  Solidity  roundness  \\\n",
       "0      0.861896       60188     270.949661  0.620790  0.957982   0.793735   \n",
       "1      0.719993       29127     191.399185  0.767458  0.987812   0.909913   \n",
       "2      0.680198       55858     263.850182  0.753013  0.978857   0.827860   \n",
       "3      0.723831       25121     177.794033  0.716508  0.988297   0.932871   \n",
       "4      0.750492      143680     424.981211  0.804617  0.987263   0.868240   \n",
       "\n",
       "   Compactness  ShapeFactor1  ShapeFactor2  ShapeFactor3  ShapeFactor4  \n",
       "0     0.698760      0.006725      0.000989      0.488266      0.962889  \n",
       "1     0.832204      0.007994      0.002365      0.692563      0.997956  \n",
       "2     0.854288      0.005649      0.001856      0.729808      0.995607  \n",
       "3     0.830066      0.008627      0.002526      0.689009      0.998596  \n",
       "4     0.809606      0.003701      0.000981      0.655462      0.991803  "
      ]
     },
     "metadata": {},
     "output_type": "display_data"
    }
   ],
   "source": [
    "dfTrainO=pd.read_csv(\"train.csv\")\n",
    "print('---'*30)\n",
    "print('Train Head')\n",
    "print('---'*30)\n",
    "display(dfTrainO.head())\n",
    "dfTestO=pd.read_csv(\"test.csv\")\n",
    "print('---'*30)\n",
    "print('Test Head')\n",
    "print('---'*30)\n",
    "display(dfTestO.head())"
   ]
  },
  {
   "cell_type": "code",
   "execution_count": 137,
   "metadata": {},
   "outputs": [
    {
     "data": {
      "text/html": [
       "<div>\n",
       "<style scoped>\n",
       "    .dataframe tbody tr th:only-of-type {\n",
       "        vertical-align: middle;\n",
       "    }\n",
       "\n",
       "    .dataframe tbody tr th {\n",
       "        vertical-align: top;\n",
       "    }\n",
       "\n",
       "    .dataframe thead th {\n",
       "        text-align: right;\n",
       "    }\n",
       "</style>\n",
       "<table border=\"1\" class=\"dataframe\">\n",
       "  <thead>\n",
       "    <tr style=\"text-align: right;\">\n",
       "      <th></th>\n",
       "      <th>ID</th>\n",
       "      <th>Area</th>\n",
       "      <th>Perimeter</th>\n",
       "      <th>MajorAxisLength</th>\n",
       "      <th>MinorAxisLength</th>\n",
       "      <th>AspectRation</th>\n",
       "      <th>Eccentricity</th>\n",
       "      <th>ConvexArea</th>\n",
       "      <th>EquivDiameter</th>\n",
       "      <th>Extent</th>\n",
       "      <th>Solidity</th>\n",
       "      <th>roundness</th>\n",
       "      <th>Compactness</th>\n",
       "      <th>ShapeFactor1</th>\n",
       "      <th>ShapeFactor2</th>\n",
       "      <th>ShapeFactor3</th>\n",
       "      <th>ShapeFactor4</th>\n",
       "    </tr>\n",
       "  </thead>\n",
       "  <tbody>\n",
       "    <tr>\n",
       "      <th>0</th>\n",
       "      <td>10834</td>\n",
       "      <td>57659</td>\n",
       "      <td>955.434</td>\n",
       "      <td>387.757607</td>\n",
       "      <td>196.625782</td>\n",
       "      <td>1.972059</td>\n",
       "      <td>0.861896</td>\n",
       "      <td>60188</td>\n",
       "      <td>270.949661</td>\n",
       "      <td>0.620790</td>\n",
       "      <td>0.957982</td>\n",
       "      <td>0.793735</td>\n",
       "      <td>0.698760</td>\n",
       "      <td>0.006725</td>\n",
       "      <td>0.000989</td>\n",
       "      <td>0.488266</td>\n",
       "      <td>0.962889</td>\n",
       "    </tr>\n",
       "    <tr>\n",
       "      <th>1</th>\n",
       "      <td>10835</td>\n",
       "      <td>28772</td>\n",
       "      <td>630.362</td>\n",
       "      <td>229.990785</td>\n",
       "      <td>159.609367</td>\n",
       "      <td>1.440960</td>\n",
       "      <td>0.719993</td>\n",
       "      <td>29127</td>\n",
       "      <td>191.399185</td>\n",
       "      <td>0.767458</td>\n",
       "      <td>0.987812</td>\n",
       "      <td>0.909913</td>\n",
       "      <td>0.832204</td>\n",
       "      <td>0.007994</td>\n",
       "      <td>0.002365</td>\n",
       "      <td>0.692563</td>\n",
       "      <td>0.997956</td>\n",
       "    </tr>\n",
       "    <tr>\n",
       "      <th>2</th>\n",
       "      <td>10836</td>\n",
       "      <td>54677</td>\n",
       "      <td>911.022</td>\n",
       "      <td>308.853903</td>\n",
       "      <td>226.398571</td>\n",
       "      <td>1.364204</td>\n",
       "      <td>0.680198</td>\n",
       "      <td>55858</td>\n",
       "      <td>263.850182</td>\n",
       "      <td>0.753013</td>\n",
       "      <td>0.978857</td>\n",
       "      <td>0.827860</td>\n",
       "      <td>0.854288</td>\n",
       "      <td>0.005649</td>\n",
       "      <td>0.001856</td>\n",
       "      <td>0.729808</td>\n",
       "      <td>0.995607</td>\n",
       "    </tr>\n",
       "    <tr>\n",
       "      <th>3</th>\n",
       "      <td>10837</td>\n",
       "      <td>24827</td>\n",
       "      <td>578.304</td>\n",
       "      <td>214.192699</td>\n",
       "      <td>147.788172</td>\n",
       "      <td>1.449322</td>\n",
       "      <td>0.723831</td>\n",
       "      <td>25121</td>\n",
       "      <td>177.794033</td>\n",
       "      <td>0.716508</td>\n",
       "      <td>0.988297</td>\n",
       "      <td>0.932871</td>\n",
       "      <td>0.830066</td>\n",
       "      <td>0.008627</td>\n",
       "      <td>0.002526</td>\n",
       "      <td>0.689009</td>\n",
       "      <td>0.998596</td>\n",
       "    </tr>\n",
       "    <tr>\n",
       "      <th>4</th>\n",
       "      <td>10838</td>\n",
       "      <td>141850</td>\n",
       "      <td>1432.847</td>\n",
       "      <td>524.923471</td>\n",
       "      <td>346.910920</td>\n",
       "      <td>1.513136</td>\n",
       "      <td>0.750492</td>\n",
       "      <td>143680</td>\n",
       "      <td>424.981211</td>\n",
       "      <td>0.804617</td>\n",
       "      <td>0.987263</td>\n",
       "      <td>0.868240</td>\n",
       "      <td>0.809606</td>\n",
       "      <td>0.003701</td>\n",
       "      <td>0.000981</td>\n",
       "      <td>0.655462</td>\n",
       "      <td>0.991803</td>\n",
       "    </tr>\n",
       "    <tr>\n",
       "      <th>...</th>\n",
       "      <td>...</td>\n",
       "      <td>...</td>\n",
       "      <td>...</td>\n",
       "      <td>...</td>\n",
       "      <td>...</td>\n",
       "      <td>...</td>\n",
       "      <td>...</td>\n",
       "      <td>...</td>\n",
       "      <td>...</td>\n",
       "      <td>...</td>\n",
       "      <td>...</td>\n",
       "      <td>...</td>\n",
       "      <td>...</td>\n",
       "      <td>...</td>\n",
       "      <td>...</td>\n",
       "      <td>...</td>\n",
       "      <td>...</td>\n",
       "    </tr>\n",
       "    <tr>\n",
       "      <th>2704</th>\n",
       "      <td>13538</td>\n",
       "      <td>66833</td>\n",
       "      <td>1018.336</td>\n",
       "      <td>400.397077</td>\n",
       "      <td>214.346215</td>\n",
       "      <td>1.867992</td>\n",
       "      <td>0.844640</td>\n",
       "      <td>67787</td>\n",
       "      <td>291.709476</td>\n",
       "      <td>0.759604</td>\n",
       "      <td>0.985927</td>\n",
       "      <td>0.809876</td>\n",
       "      <td>0.728550</td>\n",
       "      <td>0.005991</td>\n",
       "      <td>0.001041</td>\n",
       "      <td>0.530786</td>\n",
       "      <td>0.991504</td>\n",
       "    </tr>\n",
       "    <tr>\n",
       "      <th>2705</th>\n",
       "      <td>13539</td>\n",
       "      <td>40572</td>\n",
       "      <td>725.331</td>\n",
       "      <td>250.714014</td>\n",
       "      <td>206.471935</td>\n",
       "      <td>1.214276</td>\n",
       "      <td>0.567264</td>\n",
       "      <td>40900</td>\n",
       "      <td>227.283688</td>\n",
       "      <td>0.767479</td>\n",
       "      <td>0.991980</td>\n",
       "      <td>0.969089</td>\n",
       "      <td>0.906546</td>\n",
       "      <td>0.006179</td>\n",
       "      <td>0.002574</td>\n",
       "      <td>0.821825</td>\n",
       "      <td>0.997923</td>\n",
       "    </tr>\n",
       "    <tr>\n",
       "      <th>2706</th>\n",
       "      <td>13540</td>\n",
       "      <td>61226</td>\n",
       "      <td>1008.378</td>\n",
       "      <td>408.227467</td>\n",
       "      <td>199.385082</td>\n",
       "      <td>2.047432</td>\n",
       "      <td>0.872611</td>\n",
       "      <td>63901</td>\n",
       "      <td>279.204879</td>\n",
       "      <td>0.611648</td>\n",
       "      <td>0.958138</td>\n",
       "      <td>0.756657</td>\n",
       "      <td>0.683944</td>\n",
       "      <td>0.006668</td>\n",
       "      <td>0.000900</td>\n",
       "      <td>0.467780</td>\n",
       "      <td>0.957748</td>\n",
       "    </tr>\n",
       "    <tr>\n",
       "      <th>2707</th>\n",
       "      <td>13541</td>\n",
       "      <td>34238</td>\n",
       "      <td>698.847</td>\n",
       "      <td>255.829224</td>\n",
       "      <td>170.867099</td>\n",
       "      <td>1.497241</td>\n",
       "      <td>0.744255</td>\n",
       "      <td>34724</td>\n",
       "      <td>208.789788</td>\n",
       "      <td>0.724890</td>\n",
       "      <td>0.986004</td>\n",
       "      <td>0.880956</td>\n",
       "      <td>0.816130</td>\n",
       "      <td>0.007472</td>\n",
       "      <td>0.002045</td>\n",
       "      <td>0.666067</td>\n",
       "      <td>0.997263</td>\n",
       "    </tr>\n",
       "    <tr>\n",
       "      <th>2708</th>\n",
       "      <td>13542</td>\n",
       "      <td>49175</td>\n",
       "      <td>828.597</td>\n",
       "      <td>310.354804</td>\n",
       "      <td>202.329323</td>\n",
       "      <td>1.533909</td>\n",
       "      <td>0.758280</td>\n",
       "      <td>49668</td>\n",
       "      <td>250.223010</td>\n",
       "      <td>0.798166</td>\n",
       "      <td>0.990074</td>\n",
       "      <td>0.900052</td>\n",
       "      <td>0.806248</td>\n",
       "      <td>0.006311</td>\n",
       "      <td>0.001645</td>\n",
       "      <td>0.650036</td>\n",
       "      <td>0.997096</td>\n",
       "    </tr>\n",
       "  </tbody>\n",
       "</table>\n",
       "<p>2709 rows × 17 columns</p>\n",
       "</div>"
      ],
      "text/plain": [
       "         ID    Area  Perimeter  MajorAxisLength  MinorAxisLength  \\\n",
       "0     10834   57659    955.434       387.757607       196.625782   \n",
       "1     10835   28772    630.362       229.990785       159.609367   \n",
       "2     10836   54677    911.022       308.853903       226.398571   \n",
       "3     10837   24827    578.304       214.192699       147.788172   \n",
       "4     10838  141850   1432.847       524.923471       346.910920   \n",
       "...     ...     ...        ...              ...              ...   \n",
       "2704  13538   66833   1018.336       400.397077       214.346215   \n",
       "2705  13539   40572    725.331       250.714014       206.471935   \n",
       "2706  13540   61226   1008.378       408.227467       199.385082   \n",
       "2707  13541   34238    698.847       255.829224       170.867099   \n",
       "2708  13542   49175    828.597       310.354804       202.329323   \n",
       "\n",
       "      AspectRation  Eccentricity  ConvexArea  EquivDiameter    Extent  \\\n",
       "0         1.972059      0.861896       60188     270.949661  0.620790   \n",
       "1         1.440960      0.719993       29127     191.399185  0.767458   \n",
       "2         1.364204      0.680198       55858     263.850182  0.753013   \n",
       "3         1.449322      0.723831       25121     177.794033  0.716508   \n",
       "4         1.513136      0.750492      143680     424.981211  0.804617   \n",
       "...            ...           ...         ...            ...       ...   \n",
       "2704      1.867992      0.844640       67787     291.709476  0.759604   \n",
       "2705      1.214276      0.567264       40900     227.283688  0.767479   \n",
       "2706      2.047432      0.872611       63901     279.204879  0.611648   \n",
       "2707      1.497241      0.744255       34724     208.789788  0.724890   \n",
       "2708      1.533909      0.758280       49668     250.223010  0.798166   \n",
       "\n",
       "      Solidity  roundness  Compactness  ShapeFactor1  ShapeFactor2  \\\n",
       "0     0.957982   0.793735     0.698760      0.006725      0.000989   \n",
       "1     0.987812   0.909913     0.832204      0.007994      0.002365   \n",
       "2     0.978857   0.827860     0.854288      0.005649      0.001856   \n",
       "3     0.988297   0.932871     0.830066      0.008627      0.002526   \n",
       "4     0.987263   0.868240     0.809606      0.003701      0.000981   \n",
       "...        ...        ...          ...           ...           ...   \n",
       "2704  0.985927   0.809876     0.728550      0.005991      0.001041   \n",
       "2705  0.991980   0.969089     0.906546      0.006179      0.002574   \n",
       "2706  0.958138   0.756657     0.683944      0.006668      0.000900   \n",
       "2707  0.986004   0.880956     0.816130      0.007472      0.002045   \n",
       "2708  0.990074   0.900052     0.806248      0.006311      0.001645   \n",
       "\n",
       "      ShapeFactor3  ShapeFactor4  \n",
       "0         0.488266      0.962889  \n",
       "1         0.692563      0.997956  \n",
       "2         0.729808      0.995607  \n",
       "3         0.689009      0.998596  \n",
       "4         0.655462      0.991803  \n",
       "...            ...           ...  \n",
       "2704      0.530786      0.991504  \n",
       "2705      0.821825      0.997923  \n",
       "2706      0.467780      0.957748  \n",
       "2707      0.666067      0.997263  \n",
       "2708      0.650036      0.997096  \n",
       "\n",
       "[2709 rows x 17 columns]"
      ]
     },
     "execution_count": 137,
     "metadata": {},
     "output_type": "execute_result"
    }
   ],
   "source": [
    "dfTestO"
   ]
  },
  {
   "cell_type": "code",
   "execution_count": 138,
   "metadata": {},
   "outputs": [
    {
     "data": {
      "text/html": [
       "<div>\n",
       "<style scoped>\n",
       "    .dataframe tbody tr th:only-of-type {\n",
       "        vertical-align: middle;\n",
       "    }\n",
       "\n",
       "    .dataframe tbody tr th {\n",
       "        vertical-align: top;\n",
       "    }\n",
       "\n",
       "    .dataframe thead th {\n",
       "        text-align: right;\n",
       "    }\n",
       "</style>\n",
       "<table border=\"1\" class=\"dataframe\">\n",
       "  <thead>\n",
       "    <tr style=\"text-align: right;\">\n",
       "      <th></th>\n",
       "      <th>ID</th>\n",
       "      <th>Area</th>\n",
       "      <th>Perimeter</th>\n",
       "      <th>MajorAxisLength</th>\n",
       "      <th>MinorAxisLength</th>\n",
       "      <th>AspectRation</th>\n",
       "      <th>Eccentricity</th>\n",
       "      <th>ConvexArea</th>\n",
       "      <th>EquivDiameter</th>\n",
       "      <th>Extent</th>\n",
       "      <th>Solidity</th>\n",
       "      <th>roundness</th>\n",
       "      <th>Compactness</th>\n",
       "      <th>ShapeFactor1</th>\n",
       "      <th>ShapeFactor2</th>\n",
       "      <th>ShapeFactor3</th>\n",
       "      <th>ShapeFactor4</th>\n",
       "    </tr>\n",
       "  </thead>\n",
       "  <tbody>\n",
       "    <tr>\n",
       "      <th>0</th>\n",
       "      <td>10834</td>\n",
       "      <td>57659</td>\n",
       "      <td>955.434</td>\n",
       "      <td>387.757607</td>\n",
       "      <td>196.625782</td>\n",
       "      <td>1.972059</td>\n",
       "      <td>0.861896</td>\n",
       "      <td>60188</td>\n",
       "      <td>270.949661</td>\n",
       "      <td>0.62079</td>\n",
       "      <td>0.957982</td>\n",
       "      <td>0.793735</td>\n",
       "      <td>0.69876</td>\n",
       "      <td>0.006725</td>\n",
       "      <td>0.000989</td>\n",
       "      <td>0.488266</td>\n",
       "      <td>0.962889</td>\n",
       "    </tr>\n",
       "  </tbody>\n",
       "</table>\n",
       "</div>"
      ],
      "text/plain": [
       "      ID   Area  Perimeter  MajorAxisLength  MinorAxisLength  AspectRation  \\\n",
       "0  10834  57659    955.434       387.757607       196.625782      1.972059   \n",
       "\n",
       "   Eccentricity  ConvexArea  EquivDiameter   Extent  Solidity  roundness  \\\n",
       "0      0.861896       60188     270.949661  0.62079  0.957982   0.793735   \n",
       "\n",
       "   Compactness  ShapeFactor1  ShapeFactor2  ShapeFactor3  ShapeFactor4  \n",
       "0      0.69876      0.006725      0.000989      0.488266      0.962889  "
      ]
     },
     "execution_count": 138,
     "metadata": {},
     "output_type": "execute_result"
    }
   ],
   "source": [
    "dfTestO[dfTestO[\"ID\"]==10834]"
   ]
  },
  {
   "cell_type": "code",
   "execution_count": 139,
   "metadata": {},
   "outputs": [
    {
     "data": {
      "text/html": [
       "<div>\n",
       "<style scoped>\n",
       "    .dataframe tbody tr th:only-of-type {\n",
       "        vertical-align: middle;\n",
       "    }\n",
       "\n",
       "    .dataframe tbody tr th {\n",
       "        vertical-align: top;\n",
       "    }\n",
       "\n",
       "    .dataframe thead th {\n",
       "        text-align: right;\n",
       "    }\n",
       "</style>\n",
       "<table border=\"1\" class=\"dataframe\">\n",
       "  <thead>\n",
       "    <tr style=\"text-align: right;\">\n",
       "      <th></th>\n",
       "      <th>ID</th>\n",
       "      <th>Area</th>\n",
       "      <th>Perimeter</th>\n",
       "      <th>MajorAxisLength</th>\n",
       "      <th>MinorAxisLength</th>\n",
       "      <th>AspectRation</th>\n",
       "      <th>Eccentricity</th>\n",
       "      <th>ConvexArea</th>\n",
       "      <th>EquivDiameter</th>\n",
       "      <th>Extent</th>\n",
       "      <th>Solidity</th>\n",
       "      <th>roundness</th>\n",
       "      <th>Compactness</th>\n",
       "      <th>ShapeFactor1</th>\n",
       "      <th>ShapeFactor2</th>\n",
       "      <th>ShapeFactor3</th>\n",
       "      <th>ShapeFactor4</th>\n",
       "      <th>y</th>\n",
       "    </tr>\n",
       "  </thead>\n",
       "  <tbody>\n",
       "    <tr>\n",
       "      <th>131</th>\n",
       "      <td>131</td>\n",
       "      <td>42008</td>\n",
       "      <td>759.454</td>\n",
       "      <td>280.332717</td>\n",
       "      <td>191.218136</td>\n",
       "      <td>1.466036</td>\n",
       "      <td>0.731248</td>\n",
       "      <td>42419</td>\n",
       "      <td>231.270938</td>\n",
       "      <td>0.711710</td>\n",
       "      <td>0.990311</td>\n",
       "      <td>0.915248</td>\n",
       "      <td>0.824987</td>\n",
       "      <td>0.006673</td>\n",
       "      <td>0.001907</td>\n",
       "      <td>0.680604</td>\n",
       "      <td>0.997790</td>\n",
       "      <td>DERMASON</td>\n",
       "    </tr>\n",
       "    <tr>\n",
       "      <th>2861</th>\n",
       "      <td>2861</td>\n",
       "      <td>42008</td>\n",
       "      <td>738.016</td>\n",
       "      <td>248.360274</td>\n",
       "      <td>215.662286</td>\n",
       "      <td>1.151617</td>\n",
       "      <td>0.495961</td>\n",
       "      <td>42361</td>\n",
       "      <td>231.270938</td>\n",
       "      <td>0.784683</td>\n",
       "      <td>0.991667</td>\n",
       "      <td>0.969193</td>\n",
       "      <td>0.931191</td>\n",
       "      <td>0.005912</td>\n",
       "      <td>0.002742</td>\n",
       "      <td>0.867117</td>\n",
       "      <td>0.998587</td>\n",
       "      <td>SEKER</td>\n",
       "    </tr>\n",
       "    <tr>\n",
       "      <th>3805</th>\n",
       "      <td>3805</td>\n",
       "      <td>42008</td>\n",
       "      <td>773.158</td>\n",
       "      <td>294.492203</td>\n",
       "      <td>181.847359</td>\n",
       "      <td>1.619447</td>\n",
       "      <td>0.786575</td>\n",
       "      <td>42547</td>\n",
       "      <td>231.270938</td>\n",
       "      <td>0.692230</td>\n",
       "      <td>0.987332</td>\n",
       "      <td>0.883091</td>\n",
       "      <td>0.785321</td>\n",
       "      <td>0.007010</td>\n",
       "      <td>0.001645</td>\n",
       "      <td>0.616729</td>\n",
       "      <td>0.998760</td>\n",
       "      <td>DERMASON</td>\n",
       "    </tr>\n",
       "  </tbody>\n",
       "</table>\n",
       "</div>"
      ],
      "text/plain": [
       "        ID   Area  Perimeter  MajorAxisLength  MinorAxisLength  AspectRation  \\\n",
       "131    131  42008    759.454       280.332717       191.218136      1.466036   \n",
       "2861  2861  42008    738.016       248.360274       215.662286      1.151617   \n",
       "3805  3805  42008    773.158       294.492203       181.847359      1.619447   \n",
       "\n",
       "      Eccentricity  ConvexArea  EquivDiameter    Extent  Solidity  roundness  \\\n",
       "131       0.731248       42419     231.270938  0.711710  0.990311   0.915248   \n",
       "2861      0.495961       42361     231.270938  0.784683  0.991667   0.969193   \n",
       "3805      0.786575       42547     231.270938  0.692230  0.987332   0.883091   \n",
       "\n",
       "      Compactness  ShapeFactor1  ShapeFactor2  ShapeFactor3  ShapeFactor4  \\\n",
       "131      0.824987      0.006673      0.001907      0.680604      0.997790   \n",
       "2861     0.931191      0.005912      0.002742      0.867117      0.998587   \n",
       "3805     0.785321      0.007010      0.001645      0.616729      0.998760   \n",
       "\n",
       "             y  \n",
       "131   DERMASON  \n",
       "2861     SEKER  \n",
       "3805  DERMASON  "
      ]
     },
     "execution_count": 139,
     "metadata": {},
     "output_type": "execute_result"
    }
   ],
   "source": [
    "dfTrainO[dfTrainO[\"Area\"]==42008]"
   ]
  },
  {
   "cell_type": "markdown",
   "metadata": {
    "id": "2Gz6y6x3o_xh"
   },
   "source": [
    "__________________________________________________"
   ]
  },
  {
   "cell_type": "code",
   "execution_count": 185,
   "metadata": {
    "ExecuteTime": {
     "end_time": "2021-09-11T23:03:21.615000Z",
     "start_time": "2021-09-11T23:03:21.538846Z"
    },
    "execution": {
     "iopub.execute_input": "2021-08-04T00:03:26.998420Z",
     "iopub.status.busy": "2021-08-04T00:03:26.997696Z",
     "iopub.status.idle": "2021-08-04T00:03:27.124639Z",
     "shell.execute_reply": "2021-08-04T00:03:27.125220Z",
     "shell.execute_reply.started": "2021-08-03T23:53:14.345887Z"
    },
    "id": "RWEVgd4wo_yg",
    "papermill": {
     "duration": 0.186166,
     "end_time": "2021-08-04T00:03:27.125396",
     "exception": false,
     "start_time": "2021-08-04T00:03:26.939230",
     "status": "completed"
    },
    "tags": []
   },
   "outputs": [],
   "source": [
    "from sklearn.model_selection import train_test_split\n",
    "train_df, val_df = train_test_split(dfTrainNEW, test_size=0.33, random_state=0,stratify =dfTrainNEW['y'])\n",
    "X_train = train_df.drop(columns=[\"ID\",\"y\"])\n",
    "y_train = train_df['y']\n",
    "################################################################################################\n",
    "X_val = val_df.drop(columns=[\"ID\",\"y\"])\n",
    "y_val = val_df['y']"
   ]
  },
  {
   "cell_type": "code",
   "execution_count": 188,
   "metadata": {
    "ExecuteTime": {
     "end_time": "2021-09-11T23:03:23.979636Z",
     "start_time": "2021-09-11T23:03:23.949370Z"
    },
    "execution": {
     "iopub.execute_input": "2021-08-04T00:03:26.880418Z",
     "iopub.status.busy": "2021-08-04T00:03:26.879776Z",
     "iopub.status.idle": "2021-08-04T00:03:26.884945Z",
     "shell.execute_reply": "2021-08-04T00:03:26.885489Z",
     "shell.execute_reply.started": "2021-08-03T23:53:14.333289Z"
    },
    "id": "CFrmTMf9o_yg",
    "papermill": {
     "duration": 0.062567,
     "end_time": "2021-08-04T00:03:26.885687",
     "exception": false,
     "start_time": "2021-08-04T00:03:26.823120",
     "status": "completed"
    },
    "tags": []
   },
   "outputs": [],
   "source": [
    "def normalize(df):\n",
    "    result = df.copy()\n",
    "    for feature_name in df.columns:\n",
    "        max_value = df[feature_name].max()\n",
    "        min_value = df[feature_name].min()\n",
    "        result[feature_name] = (df[feature_name] - min_value) / (max_value - min_value)\n",
    "    return result\n",
    "\n",
    "# X_train=normalize(X_train)\n",
    "# X_val=normalize(X_val)\n",
    "# dfTest=normalize(dfTest)\n",
    "\n",
    "# from sklearn.preprocessing import MinMaxScaler\n",
    "# scaler = MinMaxScaler()\n",
    "# scaler.fit(X_train)\n",
    "# X_train = scaler.transform(X_train)\n",
    "# X_val = scaler.transform(X_val)\n",
    "\n",
    "# from sklearn.preprocessing import minmax_scale\n",
    "# X_train = minmax_scale(X_train, feature_range=(0, 1))\n",
    "# X_val = minmax_scale(X_val, feature_range=(0, 1))\n",
    "\n",
    "# from sklearn.preprocessing import RobustScaler\n",
    "# rb = RobustScaler()\n",
    "# X_train= rb.fit_transform(X_train)\n",
    "# X_val = rb.fit_transform(X_val)\n",
    "\n",
    "from sklearn.preprocessing import StandardScaler\n",
    "scaler  = StandardScaler()\n",
    "scaler.fit(X_train)\n",
    "X_train = scaler.transform(X_train)\n",
    "X_val = scaler.transform(X_val)"
   ]
  },
  {
   "cell_type": "code",
   "execution_count": 189,
   "metadata": {},
   "outputs": [],
   "source": [
    "# pip install -U imbalanced-learn\n"
   ]
  },
  {
   "cell_type": "code",
   "execution_count": null,
   "metadata": {},
   "outputs": [],
   "source": [
    "from imblearn.over_sampling import SMOTE\n",
    "smt = SMOTE(random_state=0)\n",
    "X_train, y_train = smt.fit_resample(X_train, y_train)\n",
    "np.unique(y_SMOTE , return_counts=True)"
   ]
  },
  {
   "cell_type": "code",
   "execution_count": null,
   "metadata": {
    "ExecuteTime": {
     "end_time": "2021-09-11T23:03:27.110476Z",
     "start_time": "2021-09-11T23:03:25.652226Z"
    },
    "execution": {
     "iopub.execute_input": "2021-08-04T00:03:27.966169Z",
     "iopub.status.busy": "2021-08-04T00:03:27.965396Z",
     "iopub.status.idle": "2021-08-04T00:03:29.436875Z",
     "shell.execute_reply": "2021-08-04T00:03:29.437399Z",
     "shell.execute_reply.started": "2021-08-03T23:53:14.463530Z"
    },
    "id": "klHKmmmMo_yi",
    "papermill": {
     "duration": 1.529167,
     "end_time": "2021-08-04T00:03:29.437569",
     "exception": false,
     "start_time": "2021-08-04T00:03:27.908402",
     "status": "completed"
    },
    "tags": []
   },
   "outputs": [],
   "source": [
    "from sklearn.linear_model import LogisticRegression\n",
    "from sklearn.neighbors import KNeighborsClassifier\n",
    "from sklearn.discriminant_analysis import LinearDiscriminantAnalysis\n",
    "from sklearn.naive_bayes import GaussianNB\n",
    "from sklearn.svm import SVC\n",
    "from sklearn.linear_model import SGDClassifier\n",
    "from sklearn.tree import DecisionTreeClassifier\n",
    "from xgboost import XGBClassifier\n",
    "from catboost import CatBoostClassifier\n",
    "from lightgbm import LGBMClassifier\n",
    "from sklearn.ensemble import RandomForestClassifier, BaggingClassifier,GradientBoostingClassifier,AdaBoostClassifier\n",
    "from sklearn.model_selection import GridSearchCV, cross_val_score\n",
    "from sklearn.ensemble import BaggingClassifier\n",
    "from sklearn.metrics import classification_report,confusion_matrix,accuracy_score"
   ]
  },
  {
   "cell_type": "code",
   "execution_count": null,
   "metadata": {
    "ExecuteTime": {
     "end_time": "2021-09-11T23:03:36.680792Z",
     "start_time": "2021-09-11T23:03:36.672006Z"
    },
    "execution": {
     "iopub.execute_input": "2021-08-04T00:03:29.557278Z",
     "iopub.status.busy": "2021-08-04T00:03:29.556543Z",
     "iopub.status.idle": "2021-08-04T00:03:29.564592Z",
     "shell.execute_reply": "2021-08-04T00:03:29.565200Z",
     "shell.execute_reply.started": "2021-08-03T23:53:14.479861Z"
    },
    "id": "61ScA4X8o_yi",
    "papermill": {
     "duration": 0.069996,
     "end_time": "2021-08-04T00:03:29.565393",
     "exception": false,
     "start_time": "2021-08-04T00:03:29.495397",
     "status": "completed"
    },
    "tags": []
   },
   "outputs": [],
   "source": [
    "models = {\n",
    "    # \"LogisticRegression\":           LogisticRegression(),\n",
    "    \"KNeighborsClassifier\":         KNeighborsClassifier(), \n",
    "    \"DecisionTreeClassifier\":       DecisionTreeClassifier(),\n",
    "    \"SupportVectorMachine\":         SVC(C=1.0,kernel='rbf',gamma='auto'),\n",
    "    \"LinearDiscriminantAnalysis\":   LinearDiscriminantAnalysis(),\n",
    "    \"GaussianNB\":                   GaussianNB(),\n",
    "    \"SGDClassifier\":                SGDClassifier(),\n",
    "    \"RandomForestClassifier\":       RandomForestClassifier(),\n",
    "    \"BaggingClassifier\":            BaggingClassifier(),\n",
    "    \"CatBoostClassifier\":           CatBoostClassifier(verbose=False,loss_function='MultiClass'),\n",
    "    \"LGBMClassifier\":               LGBMClassifier(),\n",
    "    \"GradientBoostingClassifier\":   GradientBoostingClassifier(),\n",
    "    \"XGBClassifier\":                XGBClassifier(eval_metric='mlogloss')\n",
    "}"
   ]
  },
  {
   "cell_type": "code",
   "execution_count": null,
   "metadata": {
    "colab": {
     "base_uri": "https://localhost:8080/"
    },
    "id": "XVe3Xf-pkWgG",
    "outputId": "c506eb56-403f-4e34-e2c9-507305fd4a5e"
   },
   "outputs": [],
   "source": [
    "X_train.shape"
   ]
  },
  {
   "cell_type": "code",
   "execution_count": null,
   "metadata": {
    "colab": {
     "base_uri": "https://localhost:8080/"
    },
    "id": "bEyEjSVZkbp4",
    "outputId": "d976a1c5-25b9-492d-9ac3-03adf40bf883"
   },
   "outputs": [],
   "source": [
    "y_train.shape"
   ]
  },
  {
   "cell_type": "code",
   "execution_count": null,
   "metadata": {
    "ExecuteTime": {
     "end_time": "2021-09-11T23:06:58.788536Z",
     "start_time": "2021-09-11T23:03:41.450687Z"
    },
    "colab": {
     "base_uri": "https://localhost:8080/"
    },
    "execution": {
     "iopub.execute_input": "2021-08-04T00:03:30.258991Z",
     "iopub.status.busy": "2021-08-04T00:03:30.258307Z",
     "iopub.status.idle": "2021-08-04T00:03:40.260320Z",
     "shell.execute_reply": "2021-08-04T00:03:40.259411Z",
     "shell.execute_reply.started": "2021-08-03T23:53:14.561676Z"
    },
    "id": "vsw-S1_co_yi",
    "outputId": "ebc00aa1-cb3e-4e2f-cb79-ec9e99d5e419",
    "papermill": {
     "duration": 10.059675,
     "end_time": "2021-08-04T00:03:40.260760",
     "exception": false,
     "start_time": "2021-08-04T00:03:30.201085",
     "status": "completed"
    },
    "tags": []
   },
   "outputs": [],
   "source": [
    "for name, model in models.items():\n",
    "    print(f'Using model: {name}')\n",
    "    print('-'*30)\n",
    "    model.fit(X_train, y_train)\n",
    "    y_trainhat = model.predict(X_train)\n",
    "    y_valhat = model.predict(X_val)\n",
    "    acc = accuracy_score(y_val, y_valhat)\n",
    "    # print(f'Train_Report: {classification_report(y_train,y_trainhat)}')\n",
    "    print(f'Train_Accuracy: {accuracy_score(y_train,y_trainhat)}')\n",
    "    # print(f'Validation_Report: {classification_report(y_val,y_valhat)}')\n",
    "    print(f'Validation_Accuracy: {accuracy_score(y_val,y_valhat)}')\n",
    "    print('**'*30)"
   ]
  },
  {
   "cell_type": "code",
   "execution_count": null,
   "metadata": {
    "id": "U_iXSG_liKYL",
    "scrolled": false
   },
   "outputs": [],
   "source": [
    "list(set(dfTrainNEW.columns) - set(dfTestNEW.columns))"
   ]
  },
  {
   "cell_type": "code",
   "execution_count": null,
   "metadata": {},
   "outputs": [],
   "source": [
    "dfTestNEW.head(2)"
   ]
  },
  {
   "cell_type": "markdown",
   "metadata": {
    "id": "Ej3ZUTx6o_yj",
    "papermill": {
     "duration": 0.058036,
     "end_time": "2021-08-04T00:03:40.497139",
     "exception": false,
     "start_time": "2021-08-04T00:03:40.439103",
     "status": "completed"
    },
    "tags": []
   },
   "source": [
    "## Test Data"
   ]
  },
  {
   "cell_type": "code",
   "execution_count": null,
   "metadata": {
    "ExecuteTime": {
     "end_time": "2021-09-11T20:51:24.850788Z",
     "start_time": "2021-09-11T20:51:24.840051Z"
    },
    "id": "kXc1l5px5g-j"
   },
   "outputs": [],
   "source": [
    "# ############################################\n",
    "# TestYTrue= pd.read_csv(\"yTest.csv\")\n",
    "# yTrueTest=TestYTrue[\"y\"]\n",
    "# ############################################\n",
    "\n",
    "ID=dfTestNEW[\"ID\"]\n"
   ]
  },
  {
   "cell_type": "code",
   "execution_count": null,
   "metadata": {},
   "outputs": [],
   "source": [
    "dfTestNEW.shape"
   ]
  },
  {
   "cell_type": "code",
   "execution_count": null,
   "metadata": {},
   "outputs": [],
   "source": [
    "dfTestNEW.loc[: , dfTestNEW.columns!=\"ID\"]"
   ]
  },
  {
   "cell_type": "code",
   "execution_count": null,
   "metadata": {},
   "outputs": [],
   "source": [
    "X_test = dfTestNEW.loc[: , dfTestNEW.columns!=\"ID\"]\n"
   ]
  },
  {
   "cell_type": "code",
   "execution_count": null,
   "metadata": {},
   "outputs": [],
   "source": [
    "# X_test"
   ]
  },
  {
   "cell_type": "code",
   "execution_count": null,
   "metadata": {},
   "outputs": [],
   "source": [
    "X_test=scaler.transform(X_test)"
   ]
  },
  {
   "cell_type": "code",
   "execution_count": null,
   "metadata": {
    "ExecuteTime": {
     "end_time": "2021-09-11T20:51:51.803717Z",
     "start_time": "2021-09-11T20:51:50.168361Z"
    },
    "colab": {
     "base_uri": "https://localhost:8080/"
    },
    "id": "G7YcPp_q5g-j",
    "outputId": "34d68c69-f14b-437c-d095-c87d775e3981"
   },
   "outputs": [],
   "source": [
    "Model=CatBoostClassifier(iterations=700, learning_rate=0.2,verbose=False)\n",
    "Model.fit(X_train, y_train)\n",
    "\n",
    "y_trainhat = Model.predict(X_train)\n",
    "y_valhat = Model.predict(X_val)\n",
    "acc = accuracy_score(y_val, y_valhat)\n",
    "# print(f'Train_Report: {classification_report(y_train,y_trainhat)}')\n",
    "print(f'Train_Accuracy: {accuracy_score(y_train,y_trainhat)}')\n",
    "# print(f'Validation_Report: {classification_report(y_val,y_valhat)}')\n",
    "print(f'Validation_Accuracy: {accuracy_score(y_val,y_valhat)}')\n",
    "print('**'*30)"
   ]
  },
  {
   "cell_type": "code",
   "execution_count": null,
   "metadata": {},
   "outputs": [],
   "source": [
    "y_train"
   ]
  },
  {
   "cell_type": "code",
   "execution_count": null,
   "metadata": {
    "ExecuteTime": {
     "end_time": "2021-09-11T20:52:15.508522Z",
     "start_time": "2021-09-11T20:52:15.267383Z"
    },
    "id": "djFK3cIS5g-k"
   },
   "outputs": [],
   "source": [
    "y_test_predicted = Model.predict(X_test)\n",
    "\n",
    "dfTestO['y'] = y_test_predicted\n",
    "\n",
    "dfTestO.drop(columns=\"ID\",inplace=True)\n",
    "dfTest=pd.concat([dfTestO, ID],axis=1)\n",
    "\n",
    "#dfTestEncoded2[['ID', 'y']].to_csv('/kaggle/working/submission.csv', index=False)\n",
    "dfTest[['ID', 'y']].to_csv('submission.csv', index=False)"
   ]
  },
  {
   "cell_type": "code",
   "execution_count": null,
   "metadata": {},
   "outputs": [],
   "source": [
    "dfTest[['ID', 'y']]"
   ]
  },
  {
   "cell_type": "code",
   "execution_count": null,
   "metadata": {},
   "outputs": [],
   "source": []
  },
  {
   "cell_type": "markdown",
   "metadata": {},
   "source": [
    "# Test ActualData vs TestData"
   ]
  },
  {
   "cell_type": "code",
   "execution_count": null,
   "metadata": {},
   "outputs": [],
   "source": [
    "#DifferenceActualTest.csv\n",
    "testAcual = pd.read_csv(\"DifferenceActualTest.csv\" , )"
   ]
  },
  {
   "cell_type": "code",
   "execution_count": 117,
   "metadata": {},
   "outputs": [
    {
     "data": {
      "text/plain": [
       "Index(['Unnamed: 0', 'Area', 'Perimeter', 'MajorAxisLength', 'MinorAxisLength',\n",
       "       'AspectRation', 'Eccentricity', 'ConvexArea', 'EquivDiameter', 'Extent',\n",
       "       'Solidity', 'roundness', 'Compactness', 'ShapeFactor1', 'ShapeFactor2',\n",
       "       'ShapeFactor3', 'ShapeFactor4', 'Class'],\n",
       "      dtype='object')"
      ]
     },
     "execution_count": 117,
     "metadata": {},
     "output_type": "execute_result"
    }
   ],
   "source": [
    "testAcual.columns"
   ]
  },
  {
   "cell_type": "code",
   "execution_count": 115,
   "metadata": {},
   "outputs": [
    {
     "data": {
      "text/plain": [
       "(array([0, 1, 2, 3, 4, 5, 6]),\n",
       " array([1900, 1900, 1900, 1900, 1900, 1900, 1900], dtype=int64))"
      ]
     },
     "execution_count": 115,
     "metadata": {},
     "output_type": "execute_result"
    }
   ],
   "source": [
    "from imblearn.over_sampling import SMOTE\n",
    "smt = SMOTE(random_state=0)\n",
    "X_train, y_train = smt.fit_resample(X_train, y_train)\n",
    "np.unique(y_SMOTE , return_counts=True)"
   ]
  },
  {
   "cell_type": "code",
   "execution_count": 116,
   "metadata": {},
   "outputs": [
    {
     "data": {
      "text/plain": [
       "0           SEKER\n",
       "1           SEKER\n",
       "2           SEKER\n",
       "3           SEKER\n",
       "4           SEKER\n",
       "           ...   \n",
       "13630    DERMASON\n",
       "13631    DERMASON\n",
       "13632    DERMASON\n",
       "13633    DERMASON\n",
       "13634    DERMASON\n",
       "Name: Class, Length: 13635, dtype: object"
      ]
     },
     "execution_count": 116,
     "metadata": {},
     "output_type": "execute_result"
    }
   ],
   "source": [
    "testAcual[\"Class\"]"
   ]
  },
  {
   "cell_type": "code",
   "execution_count": null,
   "metadata": {},
   "outputs": [],
   "source": []
  },
  {
   "cell_type": "code",
   "execution_count": null,
   "metadata": {},
   "outputs": [],
   "source": []
  },
  {
   "cell_type": "code",
   "execution_count": null,
   "metadata": {},
   "outputs": [],
   "source": []
  },
  {
   "cell_type": "code",
   "execution_count": null,
   "metadata": {},
   "outputs": [],
   "source": []
  },
  {
   "cell_type": "code",
   "execution_count": null,
   "metadata": {},
   "outputs": [],
   "source": []
  },
  {
   "cell_type": "markdown",
   "metadata": {},
   "source": [
    "### END Test"
   ]
  },
  {
   "cell_type": "markdown",
   "metadata": {
    "id": "XmSfUD_go_yl"
   },
   "source": [
    "__________________________________________________"
   ]
  },
  {
   "cell_type": "markdown",
   "metadata": {
    "id": "ql9hVPcUysTn"
   },
   "source": [
    "# DeepLearning"
   ]
  },
  {
   "cell_type": "code",
   "execution_count": null,
   "metadata": {
    "id": "E7lhH7XNyr7_"
   },
   "outputs": [],
   "source": []
  },
  {
   "cell_type": "code",
   "execution_count": null,
   "metadata": {
    "id": "CvC37HQK-7GP"
   },
   "outputs": [],
   "source": [
    "from keras.utils import np_utils"
   ]
  },
  {
   "cell_type": "code",
   "execution_count": null,
   "metadata": {
    "id": "3yhxTPJnAp-E"
   },
   "outputs": [],
   "source": [
    "x=dfTrainNEW.drop(columns=[\"ID\",\"y\"])"
   ]
  },
  {
   "cell_type": "code",
   "execution_count": null,
   "metadata": {
    "id": "DlSexKkPzpYr"
   },
   "outputs": [],
   "source": [
    "yData=dfTrainNEW['y']"
   ]
  },
  {
   "cell_type": "code",
   "execution_count": null,
   "metadata": {
    "colab": {
     "base_uri": "https://localhost:8080/"
    },
    "id": "_amNDkuS-pCp",
    "outputId": "622a2a6f-30db-4fbc-afa9-c0b7171bd034"
   },
   "outputs": [],
   "source": [
    "yData"
   ]
  },
  {
   "cell_type": "code",
   "execution_count": null,
   "metadata": {
    "colab": {
     "base_uri": "https://localhost:8080/"
    },
    "id": "EDX6WK2ozqPJ",
    "outputId": "fad099ac-ce25-4190-b44b-d4939d4fa680"
   },
   "outputs": [],
   "source": [
    "encoder = LabelEncoder()\n",
    "encoder.fit(yData)\n"
   ]
  },
  {
   "cell_type": "code",
   "execution_count": null,
   "metadata": {
    "id": "zl4GKgUPzrOi"
   },
   "outputs": [],
   "source": [
    "encoder = LabelEncoder()\n",
    "encoder.fit(yData)\n",
    "encoded_Y = encoder.transform(yData)\n",
    "# convert integers to dummy variables (i.e. one hot encoded)\n",
    "y = np_utils.to_categorical(encoded_Y)"
   ]
  },
  {
   "cell_type": "code",
   "execution_count": null,
   "metadata": {
    "colab": {
     "base_uri": "https://localhost:8080/"
    },
    "id": "G4b4elBT_D1d",
    "outputId": "b04549a4-6fd0-401c-9dac-2d44a68e47c8"
   },
   "outputs": [],
   "source": [
    "encoded_Y"
   ]
  },
  {
   "cell_type": "code",
   "execution_count": null,
   "metadata": {
    "colab": {
     "base_uri": "https://localhost:8080/"
    },
    "id": "CJyg1K4G-u3t",
    "outputId": "8c733557-e0de-47f5-d983-e65e0b27e03d"
   },
   "outputs": [],
   "source": [
    "y"
   ]
  },
  {
   "cell_type": "code",
   "execution_count": null,
   "metadata": {
    "id": "64prgqvF_P0H"
   },
   "outputs": [],
   "source": [
    "# # define baseline model\n",
    "# def baseline_model():\n",
    "# \t# create model\n",
    "# \tmodel = Sequential()\n",
    "#   model.add(Dense(256, input_shape=[x.shape[1]], activation='relu'))\n",
    "#   model.add(Dropout(0.2))\n",
    "#   model.add(Dense(512, activation='relu'))\n",
    "#   model.add(Dense(y.shape[1], activation='softmax'))\n",
    "# \t# Compile model\n",
    "# \tmodel.compile(loss='categorical_crossentropy', optimizer='adam', metrics=['accuracy'])\n",
    "# \treturn model"
   ]
  },
  {
   "cell_type": "code",
   "execution_count": null,
   "metadata": {
    "id": "NpFPNRb3_QXv"
   },
   "outputs": [],
   "source": [
    "# estimator = KerasClassifier(build_fn=baseline_model, epochs=200, batch_size=32, verbose=0)\n",
    "# kfold = KFold(n_splits=10, shuffle=True)\n",
    "# results = cross_val_score(estimator, X, dummy_y, cv=kfold)\n",
    "# print(\"Baseline: %.2f%% (%.2f%%)\" % (results.mean()*100, results.std()*100))"
   ]
  },
  {
   "cell_type": "code",
   "execution_count": null,
   "metadata": {
    "id": "CIK5psP5_QeE"
   },
   "outputs": [],
   "source": []
  },
  {
   "cell_type": "code",
   "execution_count": null,
   "metadata": {
    "id": "5YbhKejZ_QlT"
   },
   "outputs": [],
   "source": []
  },
  {
   "cell_type": "code",
   "execution_count": null,
   "metadata": {
    "id": "oWnKh23b_QtL"
   },
   "outputs": [],
   "source": []
  },
  {
   "cell_type": "code",
   "execution_count": null,
   "metadata": {
    "ExecuteTime": {
     "end_time": "2021-09-11T23:41:17.015841Z",
     "start_time": "2021-09-11T23:41:17.009984Z"
    },
    "id": "MDippQDKy94M"
   },
   "outputs": [],
   "source": [
    "from sklearn.model_selection import train_test_split"
   ]
  },
  {
   "cell_type": "code",
   "execution_count": null,
   "metadata": {
    "ExecuteTime": {
     "end_time": "2021-09-11T23:41:17.659430Z",
     "start_time": "2021-09-11T23:41:17.633071Z"
    },
    "id": "0a4SR1WSy94M"
   },
   "outputs": [],
   "source": [
    "x_train, x_val, y_train, y_val = train_test_split(x, y, test_size = 0.2, random_state=42,stratify =yData)"
   ]
  },
  {
   "cell_type": "code",
   "execution_count": null,
   "metadata": {
    "ExecuteTime": {
     "end_time": "2021-09-11T23:41:20.189699Z",
     "start_time": "2021-09-11T23:41:20.168521Z"
    },
    "id": "DrfCImRVy94N"
   },
   "outputs": [],
   "source": [
    "from sklearn.preprocessing import StandardScaler\n",
    "\n",
    "sc = StandardScaler()\n",
    "sc.fit(x_train)\n",
    "x_train = sc.transform(x_train)\n",
    "x_val= sc.transform(x_val)"
   ]
  },
  {
   "cell_type": "code",
   "execution_count": null,
   "metadata": {
    "ExecuteTime": {
     "end_time": "2021-09-11T23:41:23.068530Z",
     "start_time": "2021-09-11T23:41:20.790422Z"
    },
    "id": "W78RSN2ny94N"
   },
   "outputs": [],
   "source": [
    "from tensorflow.keras.models import Sequential\n",
    "from tensorflow.keras.layers import Dense, Dropout\n",
    "from tensorflow.keras.optimizers import Adam\n",
    "from tensorflow.keras.callbacks import ReduceLROnPlateau, ModelCheckpoint, EarlyStopping"
   ]
  },
  {
   "cell_type": "code",
   "execution_count": null,
   "metadata": {
    "ExecuteTime": {
     "end_time": "2021-09-11T23:41:23.291097Z",
     "start_time": "2021-09-11T23:41:23.282310Z"
    },
    "colab": {
     "base_uri": "https://localhost:8080/"
    },
    "id": "ZViiRGXHy94O",
    "outputId": "834b2215-17f8-4002-d265-66018158e6b9"
   },
   "outputs": [],
   "source": [
    "x.shape"
   ]
  },
  {
   "cell_type": "code",
   "execution_count": null,
   "metadata": {
    "ExecuteTime": {
     "end_time": "2021-09-11T23:41:23.977893Z",
     "start_time": "2021-09-11T23:41:23.971060Z"
    },
    "colab": {
     "base_uri": "https://localhost:8080/"
    },
    "id": "J36TP4biy94O",
    "outputId": "237b0257-088b-43ab-f077-91ee83825db5"
   },
   "outputs": [],
   "source": [
    "x.shape[1]"
   ]
  },
  {
   "cell_type": "code",
   "execution_count": null,
   "metadata": {
    "ExecuteTime": {
     "end_time": "2021-09-11T23:41:24.523426Z",
     "start_time": "2021-09-11T23:41:24.517567Z"
    },
    "colab": {
     "base_uri": "https://localhost:8080/"
    },
    "id": "Sbrj7sDay94O",
    "outputId": "0e84d98f-1b0a-479e-84ac-e41402f7c40d"
   },
   "outputs": [],
   "source": [
    "y.shape"
   ]
  },
  {
   "cell_type": "code",
   "execution_count": null,
   "metadata": {
    "ExecuteTime": {
     "end_time": "2021-09-11T23:41:25.001922Z",
     "start_time": "2021-09-11T23:41:24.995108Z"
    },
    "colab": {
     "base_uri": "https://localhost:8080/"
    },
    "id": "t0gf2RF3y94P",
    "outputId": "653720bf-0ac2-414c-ec39-d2328821a37c"
   },
   "outputs": [],
   "source": [
    "y.shape[1]"
   ]
  },
  {
   "cell_type": "code",
   "execution_count": null,
   "metadata": {
    "colab": {
     "base_uri": "https://localhost:8080/"
    },
    "id": "YGedE0zwGW37",
    "outputId": "c563c9a1-a4d4-4e69-d8dc-11202801817a"
   },
   "outputs": [],
   "source": [
    "x_train.shape"
   ]
  },
  {
   "cell_type": "code",
   "execution_count": null,
   "metadata": {
    "colab": {
     "base_uri": "https://localhost:8080/"
    },
    "id": "OYEutNaBGbBC",
    "outputId": "7cc51ae3-3518-4127-cad4-ae4df7097b69"
   },
   "outputs": [],
   "source": [
    "x_train"
   ]
  },
  {
   "cell_type": "markdown",
   "metadata": {
    "id": "0jSmvydZy94P"
   },
   "source": [
    "## Defining the model structure"
   ]
  },
  {
   "cell_type": "code",
   "execution_count": null,
   "metadata": {
    "ExecuteTime": {
     "end_time": "2021-09-11T23:41:26.177865Z",
     "start_time": "2021-09-11T23:41:26.105617Z"
    },
    "id": "CnyPvm6Wy94Q"
   },
   "outputs": [],
   "source": [
    "model = Sequential()\n",
    "model.add(Dense(256, input_shape=[x.shape[1]], activation='relu'))\n",
    "model.add(Dropout(0.2))\n",
    "model.add(Dense(512, activation='relu'))\n",
    "model.add(Dense(512, activation='relu'))\n",
    "model.add(Dense(y.shape[1], activation='softmax'))"
   ]
  },
  {
   "cell_type": "code",
   "execution_count": null,
   "metadata": {
    "ExecuteTime": {
     "end_time": "2021-09-11T23:41:27.449142Z",
     "start_time": "2021-09-11T23:41:27.442307Z"
    },
    "colab": {
     "base_uri": "https://localhost:8080/"
    },
    "id": "KS7oIXO9y94R",
    "outputId": "0fb01b6d-a37c-430f-b9d3-d774c1671580"
   },
   "outputs": [],
   "source": [
    "model.summary()"
   ]
  },
  {
   "cell_type": "code",
   "execution_count": null,
   "metadata": {
    "ExecuteTime": {
     "end_time": "2021-09-11T23:41:28.471813Z",
     "start_time": "2021-09-11T23:41:28.453230Z"
    },
    "id": "iDotot1Sy94S"
   },
   "outputs": [],
   "source": [
    "model.compile(optimizer=Adam(), loss='categorical_crossentropy', metrics=['accuracy'])"
   ]
  },
  {
   "cell_type": "code",
   "execution_count": null,
   "metadata": {
    "ExecuteTime": {
     "end_time": "2021-09-11T23:41:29.141071Z",
     "start_time": "2021-09-11T23:41:29.135212Z"
    },
    "id": "oIqKX_eLy94S"
   },
   "outputs": [],
   "source": [
    "lrd = ReduceLROnPlateau(monitor = 'val_loss',\n",
    "                         patience = 10,\n",
    "                         verbose = 1,\n",
    "                         factor = 0.75,\n",
    "                         min_lr = 1e-10)\n",
    "\n",
    "mcp = ModelCheckpoint('model.h5')\n",
    "\n",
    "es = EarlyStopping(verbose=1, patience=100)"
   ]
  },
  {
   "cell_type": "markdown",
   "metadata": {
    "id": "SkRCQNX6y94T"
   },
   "source": [
    "## Training the model"
   ]
  },
  {
   "cell_type": "code",
   "execution_count": null,
   "metadata": {
    "ExecuteTime": {
     "end_time": "2021-09-11T23:43:38.798990Z",
     "start_time": "2021-09-11T23:41:30.231193Z"
    },
    "colab": {
     "base_uri": "https://localhost:8080/"
    },
    "id": "Og15Su6jy94T",
    "outputId": "781f21c4-e264-4285-b7cf-8db7ae7e00f6",
    "scrolled": true
   },
   "outputs": [],
   "source": [
    "history = model.fit(x=x_train, y=y_train, epochs=500, callbacks=[lrd, mcp, es], batch_size=32, validation_split=0.1)"
   ]
  },
  {
   "cell_type": "markdown",
   "metadata": {
    "id": "4EHY6dNby94U"
   },
   "source": [
    "## Testing & evaluating the model"
   ]
  },
  {
   "cell_type": "code",
   "execution_count": null,
   "metadata": {
    "ExecuteTime": {
     "end_time": "2021-09-11T23:44:39.937492Z",
     "start_time": "2021-09-11T23:44:39.741170Z"
    },
    "colab": {
     "base_uri": "https://localhost:8080/"
    },
    "id": "JoO4VNHdy94U",
    "outputId": "ca979973-34e1-402b-8e96-204797f7e6d4",
    "scrolled": true
   },
   "outputs": [],
   "source": [
    "y_pred = np.argmax(model.predict(x_val), axis=-1)\n",
    "y_pred "
   ]
  },
  {
   "cell_type": "code",
   "execution_count": null,
   "metadata": {
    "ExecuteTime": {
     "end_time": "2021-09-11T23:44:40.731508Z",
     "start_time": "2021-09-11T23:44:40.713931Z"
    },
    "colab": {
     "base_uri": "https://localhost:8080/"
    },
    "id": "4OsIlUJzy94U",
    "outputId": "e04ea95e-ee1b-479f-90ef-c174a2a08afc"
   },
   "outputs": [],
   "source": [
    "y_val"
   ]
  },
  {
   "cell_type": "code",
   "execution_count": null,
   "metadata": {
    "ExecuteTime": {
     "end_time": "2021-09-11T23:44:41.943601Z",
     "start_time": "2021-09-11T23:44:41.806914Z"
    },
    "colab": {
     "base_uri": "https://localhost:8080/"
    },
    "id": "MLoGko93y94V",
    "outputId": "aaed865f-4685-4d7c-8b0a-26205378166b"
   },
   "outputs": [],
   "source": [
    "np.argmax(model.predict(x_val), axis=-1)[10]"
   ]
  },
  {
   "cell_type": "code",
   "execution_count": null,
   "metadata": {
    "ExecuteTime": {
     "end_time": "2021-09-11T23:44:43.100349Z",
     "start_time": "2021-09-11T23:44:43.090586Z"
    },
    "colab": {
     "base_uri": "https://localhost:8080/",
     "height": 35
    },
    "id": "kB6vAGrAy94V",
    "outputId": "ad249932-b874-4c8c-d1f6-ed015fef8a6a"
   },
   "outputs": [],
   "source": [
    "yData.iloc[10]"
   ]
  },
  {
   "cell_type": "code",
   "execution_count": null,
   "metadata": {
    "ExecuteTime": {
     "end_time": "2021-09-11T23:44:43.984545Z",
     "start_time": "2021-09-11T23:44:43.801971Z"
    },
    "colab": {
     "base_uri": "https://localhost:8080/"
    },
    "id": "rVsQeJfAy94V",
    "outputId": "2711b70b-7396-4740-8857-528afe90065b"
   },
   "outputs": [],
   "source": [
    "model.evaluate(x_val, y_val)"
   ]
  },
  {
   "cell_type": "code",
   "execution_count": null,
   "metadata": {
    "ExecuteTime": {
     "end_time": "2021-09-11T23:44:46.163998Z",
     "start_time": "2021-09-11T23:44:46.158140Z"
    },
    "colab": {
     "base_uri": "https://localhost:8080/"
    },
    "id": "Hv2lWs0Uy94V",
    "outputId": "003c554c-a28c-4e84-f84f-4a7ba2a3b50d"
   },
   "outputs": [],
   "source": [
    "y_pred"
   ]
  },
  {
   "cell_type": "markdown",
   "metadata": {
    "id": "tP02RK5Py94V"
   },
   "source": [
    "## Visualize Loss"
   ]
  },
  {
   "cell_type": "code",
   "execution_count": null,
   "metadata": {
    "ExecuteTime": {
     "end_time": "2021-09-11T23:44:48.372830Z",
     "start_time": "2021-09-11T23:44:47.792530Z"
    },
    "colab": {
     "base_uri": "https://localhost:8080/",
     "height": 966
    },
    "id": "CvQit0GBy94W",
    "outputId": "92a13a7d-157d-4cd4-d65e-d3adc7abc4f9"
   },
   "outputs": [],
   "source": [
    "# summarize history for loss\n",
    "plt.plot(history.history['loss'])\n",
    "plt.plot(history.history['val_loss'])\n",
    "plt.title('model loss')\n",
    "plt.ylabel('loss')\n",
    "plt.xlabel('epoch')\n",
    "plt.legend(['train', 'val'], loc='upper right')\n",
    "plt.show()\n",
    "\n",
    "# summarize history for accuracy\n",
    "plt.plot(history.history['accuracy'])\n",
    "plt.plot(history.history['val_accuracy'])\n",
    "plt.title('model accuracy')\n",
    "plt.ylabel('accuracy')\n",
    "plt.xlabel('epoch')\n",
    "plt.legend(['train', 'val'], loc='upper left')\n",
    "plt.show()"
   ]
  },
  {
   "cell_type": "markdown",
   "metadata": {
    "id": "4DzXMCggy94W"
   },
   "source": [
    "## True Test"
   ]
  },
  {
   "cell_type": "code",
   "execution_count": null,
   "metadata": {
    "ExecuteTime": {
     "end_time": "2021-09-11T23:44:56.605737Z",
     "start_time": "2021-09-11T23:44:56.585236Z"
    },
    "id": "n76M1qcoy94W"
   },
   "outputs": [],
   "source": [
    "dftest=pd.read_csv(\"testTrue.csv\")"
   ]
  },
  {
   "cell_type": "code",
   "execution_count": null,
   "metadata": {
    "ExecuteTime": {
     "end_time": "2021-09-11T23:44:57.277284Z",
     "start_time": "2021-09-11T23:44:57.269473Z"
    },
    "colab": {
     "base_uri": "https://localhost:8080/"
    },
    "id": "UGutAv-fy94W",
    "outputId": "47751626-074a-474a-db3a-ebc441d372f6"
   },
   "outputs": [],
   "source": [
    "dftest['y'].unique()"
   ]
  },
  {
   "cell_type": "code",
   "execution_count": null,
   "metadata": {
    "id": "ZDwSWHt6F6az"
   },
   "outputs": [],
   "source": [
    "for f in featuersToconvert:\n",
    "  Convert(dftest,f)"
   ]
  },
  {
   "cell_type": "code",
   "execution_count": null,
   "metadata": {
    "ExecuteTime": {
     "end_time": "2021-09-11T23:44:58.004811Z",
     "start_time": "2021-09-11T23:44:57.996023Z"
    },
    "colab": {
     "base_uri": "https://localhost:8080/"
    },
    "id": "wWzLAaFsy94X",
    "outputId": "ecf7eacf-c204-438f-eed2-f2d87c2f4517"
   },
   "outputs": [],
   "source": [
    "df_YTrue=dftest[\"y\"]\n",
    "df_YTrue"
   ]
  },
  {
   "cell_type": "code",
   "execution_count": null,
   "metadata": {
    "id": "0WgDHK0vExXI"
   },
   "outputs": [],
   "source": [
    "encoder = LabelEncoder()\n",
    "encoder.fit(df_YTrue)\n",
    "encoded_Y = encoder.transform(df_YTrue)\n",
    "# convert integers to dummy variables (i.e. one hot encoded)\n",
    "ytest = np_utils.to_categorical(encoded_Y)"
   ]
  },
  {
   "cell_type": "code",
   "execution_count": null,
   "metadata": {
    "colab": {
     "base_uri": "https://localhost:8080/"
    },
    "id": "EWpDdeuiFDJA",
    "outputId": "0203960e-c803-4489-a230-e9411e5372c9"
   },
   "outputs": [],
   "source": [
    "ytest"
   ]
  },
  {
   "cell_type": "code",
   "execution_count": null,
   "metadata": {
    "ExecuteTime": {
     "end_time": "2021-09-11T23:44:58.815057Z",
     "start_time": "2021-09-11T23:44:58.752573Z"
    },
    "id": "zQRCUwg_y94X"
   },
   "outputs": [],
   "source": [
    "# dftest = pd.get_dummies(dftest, columns=['y'])\n",
    "# dftest"
   ]
  },
  {
   "cell_type": "code",
   "execution_count": null,
   "metadata": {
    "ExecuteTime": {
     "end_time": "2021-09-11T23:44:59.487440Z",
     "start_time": "2021-09-11T23:44:59.476703Z"
    },
    "id": "lt6f2BAqy94X"
   },
   "outputs": [],
   "source": [
    "xtest = dftest.drop(columns=\"y\")"
   ]
  },
  {
   "cell_type": "code",
   "execution_count": null,
   "metadata": {
    "colab": {
     "base_uri": "https://localhost:8080/"
    },
    "id": "XgW19X5OGH06",
    "outputId": "5d233597-15a6-482a-8553-e1e2e30b4e35"
   },
   "outputs": [],
   "source": [
    "xtest.shape"
   ]
  },
  {
   "cell_type": "code",
   "execution_count": null,
   "metadata": {
    "ExecuteTime": {
     "end_time": "2021-09-11T23:45:00.112396Z",
     "start_time": "2021-09-11T23:45:00.097304Z"
    },
    "id": "RrTK4MdVy94X"
   },
   "outputs": [],
   "source": [
    "from sklearn.preprocessing import StandardScaler\n",
    "\n",
    "sc = StandardScaler()\n",
    "sc.fit(xtest)\n",
    "xtest = sc.transform(xtest)"
   ]
  },
  {
   "cell_type": "code",
   "execution_count": null,
   "metadata": {
    "ExecuteTime": {
     "end_time": "2021-09-11T23:45:00.876662Z",
     "start_time": "2021-09-11T23:45:00.737047Z"
    },
    "colab": {
     "base_uri": "https://localhost:8080/"
    },
    "id": "g3ZMm7h2y94X",
    "outputId": "4cd9fa82-14dd-4b6a-c53d-37af4952dcf9"
   },
   "outputs": [],
   "source": [
    "y_pred2 = np.argmax(model.predict(xtest), axis=-1)\n",
    "y_pred2"
   ]
  },
  {
   "cell_type": "code",
   "execution_count": null,
   "metadata": {
    "ExecuteTime": {
     "end_time": "2021-09-11T23:45:01.346812Z",
     "start_time": "2021-09-11T23:45:01.341930Z"
    },
    "colab": {
     "base_uri": "https://localhost:8080/"
    },
    "id": "WN7rKhSGy94X",
    "outputId": "8fdd0ce0-1197-4f78-8e4f-7940615edc61"
   },
   "outputs": [],
   "source": [
    "dfyPred = pd.DataFrame(y_pred2, columns = [\"yPred\"])\n",
    "dfyPred['yPredNew']      = np.where((dfyPred['yPred']==0), 'BARBUNYA',dfyPred['yPred'])\n",
    "dfyPred['yPredNew']      = np.where((dfyPred['yPred']==1), 'BOMBAY',dfyPred['yPredNew'])\n",
    "dfyPred['yPredNew']      = np.where((dfyPred['yPred']==2), 'CALI',dfyPred['yPredNew'])\n",
    "dfyPred['yPredNew']      = np.where((dfyPred['yPred']==3), 'DERMASON',dfyPred['yPredNew'])\n",
    "dfyPred['yPredNew']      = np.where((dfyPred['yPred']==4), 'HOROZ',dfyPred['yPredNew'])\n",
    "dfyPred['yPredNew']      = np.where((dfyPred['yPred']==5), 'SEKER',dfyPred['yPredNew'])\n",
    "dfyPred['yPredNew']      = np.where((dfyPred['yPred']==6), 'SIRA',dfyPred['yPredNew'])\n",
    "dfyPred['result'] = dfyPred['yPredNew'].map(lambda x: x.lstrip('y_'))\n",
    "dfyPred=dfyPred[\"result\"]\n",
    "dfyPred"
   ]
  },
  {
   "cell_type": "code",
   "execution_count": null,
   "metadata": {
    "ExecuteTime": {
     "end_time": "2021-09-11T23:45:08.218685Z",
     "start_time": "2021-09-11T23:45:08.004869Z"
    },
    "colab": {
     "base_uri": "https://localhost:8080/"
    },
    "id": "1XWyuvvvy94Y",
    "outputId": "f72992cd-0f41-4f8e-b036-e36a3e4c90b6"
   },
   "outputs": [],
   "source": [
    "model.evaluate(xtest, ytest)"
   ]
  },
  {
   "cell_type": "code",
   "execution_count": null,
   "metadata": {
    "ExecuteTime": {
     "end_time": "2021-09-11T23:45:12.152564Z",
     "start_time": "2021-09-11T23:45:12.147701Z"
    },
    "id": "gwaCYno5y94Y"
   },
   "outputs": [],
   "source": [
    "from sklearn.metrics import classification_report,confusion_matrix,accuracy_score, plot_confusion_matrix"
   ]
  },
  {
   "cell_type": "code",
   "execution_count": null,
   "metadata": {
    "ExecuteTime": {
     "end_time": "2021-09-11T23:45:13.062960Z",
     "start_time": "2021-09-11T23:45:13.051243Z"
    },
    "colab": {
     "base_uri": "https://localhost:8080/"
    },
    "id": "zPwNu2QQy94Y",
    "outputId": "f6fbda3f-fa9d-47d3-e413-fa5581058ca0"
   },
   "outputs": [],
   "source": [
    "accuracy_score(df_YTrue,dfyPred)"
   ]
  },
  {
   "cell_type": "code",
   "execution_count": null,
   "metadata": {
    "ExecuteTime": {
     "end_time": "2021-09-11T23:45:14.167350Z",
     "start_time": "2021-09-11T23:45:14.146847Z"
    },
    "colab": {
     "base_uri": "https://localhost:8080/"
    },
    "id": "mqhwTqp6y94Z",
    "outputId": "970540e8-5b17-4cc2-8f6b-1752235ac123"
   },
   "outputs": [],
   "source": [
    "print(confusion_matrix(df_YTrue,dfyPred))"
   ]
  },
  {
   "cell_type": "code",
   "execution_count": null,
   "metadata": {
    "ExecuteTime": {
     "end_time": "2021-09-11T23:45:15.279782Z",
     "start_time": "2021-09-11T23:45:15.157741Z"
    },
    "colab": {
     "base_uri": "https://localhost:8080/"
    },
    "id": "UBq1bb2Oy94Z",
    "outputId": "6de85275-e539-4e02-9061-92a5cb5e96a6"
   },
   "outputs": [],
   "source": [
    "print(classification_report(df_YTrue,dfyPred))"
   ]
  },
  {
   "cell_type": "code",
   "execution_count": null,
   "metadata": {
    "ExecuteTime": {
     "end_time": "2021-09-11T23:45:20.580352Z",
     "start_time": "2021-09-11T23:45:20.572538Z"
    },
    "colab": {
     "base_uri": "https://localhost:8080/"
    },
    "id": "gu1Y9HWey94Z",
    "outputId": "f9387966-08db-43b5-9ef2-a4fa91516423"
   },
   "outputs": [],
   "source": [
    "print(\"Number of mislabeled points out of a total %d points : %d\"% (xtest.shape[0], (df_YTrue != dfyPred).sum()))"
   ]
  },
  {
   "cell_type": "markdown",
   "metadata": {
    "id": "QYtXh5Q_y94Z"
   },
   "source": [
    "_________________________________________________________"
   ]
  },
  {
   "cell_type": "markdown",
   "metadata": {
    "id": "ASnA-SNDy94Z"
   },
   "source": [
    "## Our Test"
   ]
  },
  {
   "cell_type": "code",
   "execution_count": null,
   "metadata": {
    "colab": {
     "base_uri": "https://localhost:8080/",
     "height": 222
    },
    "id": "3-_SwBdhH3E8",
    "outputId": "c64566c0-5366-4a54-b75e-afb3c795498d"
   },
   "outputs": [],
   "source": [
    "dfTestNEW.sample(5)"
   ]
  },
  {
   "cell_type": "code",
   "execution_count": null,
   "metadata": {
    "ExecuteTime": {
     "end_time": "2021-09-11T23:53:27.983488Z",
     "start_time": "2021-09-11T23:53:27.978604Z"
    },
    "id": "Pr9mUoPAy94a"
   },
   "outputs": [],
   "source": [
    "ID=dfTestNEW[\"ID\"]"
   ]
  },
  {
   "cell_type": "code",
   "execution_count": null,
   "metadata": {
    "ExecuteTime": {
     "end_time": "2021-09-11T23:53:28.508432Z",
     "start_time": "2021-09-11T23:53:28.466452Z"
    },
    "colab": {
     "base_uri": "https://localhost:8080/",
     "height": 434
    },
    "id": "WSq6yuc5y94a",
    "outputId": "96d21e38-d94d-420f-c8fc-516f0476f6de"
   },
   "outputs": [],
   "source": [
    "xtest=dfTestNEW.drop(columns=['ID'])\n",
    "xtest"
   ]
  },
  {
   "cell_type": "code",
   "execution_count": null,
   "metadata": {
    "ExecuteTime": {
     "end_time": "2021-09-11T23:53:29.192470Z",
     "start_time": "2021-09-11T23:53:29.177826Z"
    },
    "id": "B_X2yel7y94a"
   },
   "outputs": [],
   "source": [
    "from sklearn.preprocessing import StandardScaler\n",
    "\n",
    "sc = StandardScaler()\n",
    "sc.fit(xtest)\n",
    "xtest = sc.transform(xtest)"
   ]
  },
  {
   "cell_type": "code",
   "execution_count": null,
   "metadata": {
    "ExecuteTime": {
     "end_time": "2021-09-11T23:53:30.388148Z",
     "start_time": "2021-09-11T23:53:30.258295Z"
    },
    "colab": {
     "base_uri": "https://localhost:8080/"
    },
    "id": "YfhRDNrEy94a",
    "outputId": "3284b196-8a09-4b20-bb66-e1c18388249f"
   },
   "outputs": [],
   "source": [
    "y_pred2 = np.argmax(model.predict(xtest), axis=-1)\n",
    "y_pred2"
   ]
  },
  {
   "cell_type": "code",
   "execution_count": null,
   "metadata": {
    "ExecuteTime": {
     "end_time": "2021-09-11T23:53:31.023889Z",
     "start_time": "2021-09-11T23:53:30.989736Z"
    },
    "colab": {
     "base_uri": "https://localhost:8080/"
    },
    "id": "0LJn-gfhy94a",
    "outputId": "7800d9cc-3862-483c-b738-86a6e75416e7"
   },
   "outputs": [],
   "source": [
    "dfyPred = pd.DataFrame(y_pred2, columns = [\"yPred\"])\n",
    "dfyPred['yPredNew']      = np.where((dfyPred['yPred']==0), 'BARBUNYA',dfyPred['yPred'])\n",
    "dfyPred['yPredNew']      = np.where((dfyPred['yPred']==1), 'BOMBAY'  ,dfyPred['yPredNew'])\n",
    "dfyPred['yPredNew']      = np.where((dfyPred['yPred']==2), 'CALI'    ,dfyPred['yPredNew'])\n",
    "dfyPred['yPredNew']      = np.where((dfyPred['yPred']==3), 'DERMASON',dfyPred['yPredNew'])\n",
    "dfyPred['yPredNew']      = np.where((dfyPred['yPred']==4), 'HOROZ'   ,dfyPred['yPredNew'])\n",
    "dfyPred['yPredNew']      = np.where((dfyPred['yPred']==5), 'SEKER'   ,dfyPred['yPredNew'])\n",
    "dfyPred['yPredNew']      = np.where((dfyPred['yPred']==6), 'SIRA',   dfyPred['yPredNew'])\n",
    "\n",
    "dfyPred=dfyPred[\"yPredNew\"]\n",
    "dfyPred"
   ]
  },
  {
   "cell_type": "code",
   "execution_count": null,
   "metadata": {
    "ExecuteTime": {
     "end_time": "2021-09-11T23:53:31.634578Z",
     "start_time": "2021-09-11T23:53:31.629696Z"
    },
    "id": "X2dArJHwy94b"
   },
   "outputs": [],
   "source": [
    "dfTestNEW['y'] = dfyPred"
   ]
  },
  {
   "cell_type": "code",
   "execution_count": null,
   "metadata": {
    "ExecuteTime": {
     "end_time": "2021-09-11T23:53:32.265274Z",
     "start_time": "2021-09-11T23:53:32.222802Z"
    },
    "colab": {
     "base_uri": "https://localhost:8080/",
     "height": 434
    },
    "id": "TJgR2p-2y94b",
    "outputId": "23b9680c-1791-4625-cf28-89303fbb3d5c"
   },
   "outputs": [],
   "source": [
    "dfTestNEW"
   ]
  },
  {
   "cell_type": "code",
   "execution_count": null,
   "metadata": {
    "ExecuteTime": {
     "end_time": "2021-09-11T23:53:33.029158Z",
     "start_time": "2021-09-11T23:53:33.007679Z"
    },
    "id": "3OEu8EzQy94b"
   },
   "outputs": [],
   "source": [
    "dfTestNEW.drop(columns=\"ID\",inplace=True)\n",
    "dfTestNEW=pd.concat([dfTestNEW, ID],axis=1)\n",
    "\n",
    "#dfTestNEW[['ID', 'y']].to_csv('/kaggle/working/submission.csv', index=False)\n",
    "dfTestNEW[['ID', 'y']].to_csv('submission.csv', index=False)"
   ]
  },
  {
   "cell_type": "markdown",
   "metadata": {
    "id": "odTlAwjvy94b"
   },
   "source": [
    "__________________________"
   ]
  },
  {
   "cell_type": "code",
   "execution_count": null,
   "metadata": {
    "id": "KVznmB5pRzzZ"
   },
   "outputs": [],
   "source": []
  }
 ],
 "metadata": {
  "colab": {
   "collapsed_sections": [
    "eb47725f"
   ],
   "name": "Dry_Beans_Classification.ipynb",
   "provenance": []
  },
  "kernelspec": {
   "display_name": "Python 3",
   "language": "python",
   "name": "python3"
  },
  "language_info": {
   "codemirror_mode": {
    "name": "ipython",
    "version": 3
   },
   "file_extension": ".py",
   "mimetype": "text/x-python",
   "name": "python",
   "nbconvert_exporter": "python",
   "pygments_lexer": "ipython3",
   "version": "3.8.5"
  },
  "papermill": {
   "default_parameters": {},
   "duration": 32.773199,
   "end_time": "2021-08-04T00:03:45.490507",
   "environment_variables": {},
   "exception": null,
   "input_path": "__notebook__.ipynb",
   "output_path": "__notebook__.ipynb",
   "parameters": {},
   "start_time": "2021-08-04T00:03:12.717308",
   "version": "2.3.3"
  },
  "toc": {
   "base_numbering": 1,
   "nav_menu": {},
   "number_sections": true,
   "sideBar": true,
   "skip_h1_title": false,
   "title_cell": "Table of Contents",
   "title_sidebar": "Contents",
   "toc_cell": false,
   "toc_position": {
    "height": "calc(100% - 180px)",
    "left": "10px",
    "top": "150px",
    "width": "238.188px"
   },
   "toc_section_display": true,
   "toc_window_display": false
  },
  "varInspector": {
   "cols": {
    "lenName": 16,
    "lenType": 16,
    "lenVar": 40
   },
   "kernels_config": {
    "python": {
     "delete_cmd_postfix": "",
     "delete_cmd_prefix": "del ",
     "library": "var_list.py",
     "varRefreshCmd": "print(var_dic_list())"
    },
    "r": {
     "delete_cmd_postfix": ") ",
     "delete_cmd_prefix": "rm(",
     "library": "var_list.r",
     "varRefreshCmd": "cat(var_dic_list()) "
    }
   },
   "types_to_exclude": [
    "module",
    "function",
    "builtin_function_or_method",
    "instance",
    "_Feature"
   ],
   "window_display": false
  }
 },
 "nbformat": 4,
 "nbformat_minor": 5
}
