{
 "cells": [
  {
   "cell_type": "code",
   "execution_count": null,
   "metadata": {},
   "outputs": [],
   "source": [
    "####################################################################################################################\n",
    "# Competition   : Dry Beans Classification\n",
    "# Team Members  : 1- Abdullah Abdelhakeem\n",
    "#                 2- Mohamed Sebaie                   \n",
    "#                 3- Mohamed Moustafa\n",
    "#                 4- Ossama Ahmed\n",
    "#                 5- Mahmoud Osama\n",
    "#                 6- Hazem\n",
    "#\n",
    "# Problem :       Supervised Classification\n",
    "# version :       0.0.1\n",
    "#\n",
    "###################################################################################################################"
   ]
  },
  {
   "cell_type": "markdown",
   "metadata": {
    "id": "10866f1c",
    "papermill": {
     "duration": 0.029859,
     "end_time": "2021-09-12T00:14:39.644415",
     "exception": false,
     "start_time": "2021-09-12T00:14:39.614556",
     "status": "completed"
    },
    "tags": []
   },
   "source": [
    "# Dataset Information\n",
    "\n"
   ]
  },
  {
   "cell_type": "markdown",
   "metadata": {
    "id": "s9GVuRQ7XD3V"
   },
   "source": [
    "Given a set of features extracted from the shape of the beans in images and  it's required to predict the class of a bean given some features about its shape.\n",
    "There are 7 bean types in this dataset.\n",
    "\n",
    "**Data fields**\n",
    "- ID - an ID for this instance\n",
    "- Area - (A), The area of a bean zone and the number of pixels within its boundaries.\n",
    "- Perimeter - (P), Bean circumference is defined as the length of its border.\n",
    "- MajorAxisLength - (L), The distance between the ends of the longest line that can be drawn from a bean.\n",
    "- MinorAxisLength - (l), The longest line that can be drawn from the bean while standing perpendicular to the main axis.\n",
    "- AspectRatio - (K), Defines the relationship between L and l.\n",
    "- Eccentricity - (Ec), Eccentricity of the ellipse having the same moments as the region.\n",
    "- ConvexArea - (C), Number of pixels in the smallest convex polygon that can contain the area of a bean seed.\n",
    "- EquivDiameter - (Ed), The diameter of a circle having the same area as a bean seed area.\n",
    "- Extent - (Ex), The ratio of the pixels in the bounding box to the bean area.\n",
    "- Solidity - (S), Also known as convexity. The ratio of the pixels in the convex shell to those found in beans.\n",
    "- Roundness - (R), Calculated with the following formula: (4piA)/(P^2)\n",
    "- Compactness - (CO), Measures the roundness of an object: Ed/L\n",
    "- ShapeFactor1 - (SF1)\n",
    "- ShapeFactor2 - (SF2)\n",
    "- ShapeFactor3 - (SF3)\n",
    "- ShapeFactor4 - (SF4)\n",
    "- y - the class of the bean. It can be any of BARBUNYA, SIRA, HOROZ, DERMASON, CALI, BOMBAY, and SEKER.\n"
   ]
  },
  {
   "cell_type": "markdown",
   "metadata": {
    "id": "1a9a99b2",
    "papermill": {
     "duration": 0.030483,
     "end_time": "2021-09-12T00:14:39.703782",
     "exception": false,
     "start_time": "2021-09-12T00:14:39.673299",
     "status": "completed"
    },
    "tags": []
   },
   "source": [
    "<img src= \"https://www.thespruceeats.com/thmb/eeIti36pfkoNBaipXrTHLjIv5YA=/1888x1416/smart/filters:no_upscale()/DriedBeans-56f6c2c43df78c78418c3b46.jpg\" alt =\"Titanic\" style='width: 800px;height:400px'>"
   ]
  },
  {
   "cell_type": "markdown",
   "metadata": {
    "id": "ppF5ildHqk0p"
   },
   "source": [
    "# Import Required Libraries"
   ]
  },
  {
   "cell_type": "code",
   "execution_count": null,
   "metadata": {
    "id": "eEou8l5UxkHx"
   },
   "outputs": [],
   "source": [
    "# !pip install catboost"
   ]
  },
  {
   "cell_type": "code",
   "execution_count": null,
   "metadata": {},
   "outputs": [],
   "source": [
    "# pip install mlxtend"
   ]
  },
  {
   "cell_type": "code",
   "execution_count": null,
   "metadata": {
    "ExecuteTime": {
     "end_time": "2021-09-13T09:09:05.064234Z",
     "start_time": "2021-09-13T09:08:30.772932Z"
    },
    "colab": {
     "base_uri": "https://localhost:8080/"
    },
    "execution": {
     "iopub.execute_input": "2021-08-04T00:03:21.147520Z",
     "iopub.status.busy": "2021-08-04T00:03:21.146838Z",
     "iopub.status.idle": "2021-08-04T00:03:23.076397Z",
     "shell.execute_reply": "2021-08-04T00:03:23.075688Z",
     "shell.execute_reply.started": "2021-08-03T23:53:13.286517Z"
    },
    "id": "B8IAZOPlo_xN",
    "outputId": "c59c4042-b1f1-4fc4-fe35-759646b2490d",
    "papermill": {
     "duration": 1.981628,
     "end_time": "2021-08-04T00:03:23.076546",
     "exception": false,
     "start_time": "2021-08-04T00:03:21.094918",
     "status": "completed"
    },
    "tags": []
   },
   "outputs": [],
   "source": [
    "import numpy as np # linear algebra\n",
    "import pandas as pd # data processing, CSV file I/O (e.g. pd.read_csv)\n",
    "\n",
    "import statsmodels.api as sm\n",
    "from sklearn.preprocessing import LabelEncoder\n",
    "from sklearn.pipeline import Pipeline\n",
    "from sklearn.metrics import ConfusionMatrixDisplay,confusion_matrix\n",
    "from mlxtend.plotting import plot_confusion_matrix\n",
    "#####################################################################\n",
    "# for visualizations\n",
    "from pandas import plotting\n",
    "import matplotlib.pyplot as plt\n",
    "%matplotlib inline\n",
    "import seaborn as sns\n",
    "plt.style.use('fivethirtyeight')\n",
    "sns.set(rc={'figure.figsize': [7, 7]}, font_scale=1.2)\n",
    "###########################################################\n",
    "%config Completer.use_jedi=False\n",
    "pd.set_option(\"display.max_columns\", None)\n",
    "\n",
    "# ignore the warnings\n",
    "import warnings\n",
    "warnings.filterwarnings(\"ignore\")\n",
    "np.set_printoptions(suppress=True)\n",
    "\n",
    "# for path\n",
    "import os\n",
    "for dirname, _, filenames in os.walk('/kaggle/input'):\n",
    "    for filename in filenames:\n",
    "        print(os.path.join(dirname, filename))"
   ]
  },
  {
   "cell_type": "markdown",
   "metadata": {
    "id": "VgZO9uiVqoKD"
   },
   "source": [
    "# Read Train and Test Data"
   ]
  },
  {
   "cell_type": "code",
   "execution_count": null,
   "metadata": {
    "ExecuteTime": {
     "end_time": "2021-09-13T09:09:12.977547Z",
     "start_time": "2021-09-13T09:09:12.973639Z"
    },
    "execution": {
     "iopub.execute_input": "2021-08-04T00:03:23.175763Z",
     "iopub.status.busy": "2021-08-04T00:03:23.175128Z",
     "iopub.status.idle": "2021-08-04T00:03:23.240424Z",
     "shell.execute_reply": "2021-08-04T00:03:23.240890Z",
     "shell.execute_reply.started": "2021-08-03T23:53:13.336045Z"
    },
    "id": "iQxEasPYo_xX",
    "papermill": {
     "duration": 0.117654,
     "end_time": "2021-08-04T00:03:23.241070",
     "exception": false,
     "start_time": "2021-08-04T00:03:23.123416",
     "status": "completed"
    },
    "tags": []
   },
   "outputs": [],
   "source": [
    "# dataset_path = '/kaggle/input/dry-beans-classification-iti-ai-pro-intake01/'\n",
    "# dfTrainO = pd.read_csv(os.path.join(dataset_path, 'train.csv'))\n",
    "# dfTestO = pd.read_csv(os.path.join(dataset_path, 'test.csv'))\n",
    "# print(\"The shape of the dataset is {}.\\n\\n\".format(dfTrainO.shape))\n",
    "# print(\"The shape of the dataset is {}.\\n\\n\".format(dfTestO.shape))\n",
    "# dfTrainO.head()"
   ]
  },
  {
   "cell_type": "code",
   "execution_count": null,
   "metadata": {
    "ExecuteTime": {
     "end_time": "2021-09-13T09:09:14.044960Z",
     "start_time": "2021-09-13T09:09:13.688161Z"
    },
    "colab": {
     "base_uri": "https://localhost:8080/",
     "height": 513
    },
    "execution": {
     "iopub.execute_input": "2021-08-04T00:03:23.337946Z",
     "iopub.status.busy": "2021-08-04T00:03:23.337261Z",
     "iopub.status.idle": "2021-08-04T00:03:23.340363Z",
     "shell.execute_reply": "2021-08-04T00:03:23.339737Z",
     "shell.execute_reply.started": "2021-08-03T23:53:13.383335Z"
    },
    "id": "ggCy_Dlmo_xd",
    "outputId": "3cdd824b-63cf-4a2d-83ef-db5f00d177f5",
    "papermill": {
     "duration": 0.05279,
     "end_time": "2021-08-04T00:03:23.340501",
     "exception": false,
     "start_time": "2021-08-04T00:03:23.287711",
     "status": "completed"
    },
    "scrolled": false,
    "tags": []
   },
   "outputs": [],
   "source": [
    "dfTrainO=pd.read_csv(\"train.csv\")\n",
    "print('---'*30)\n",
    "print('Train Head')\n",
    "print('---'*30)\n",
    "display(dfTrainO.head())\n",
    "dfTestO=pd.read_csv(\"test.csv\")\n",
    "print('---'*30)\n",
    "print('Test Head')\n",
    "print('---'*30)\n",
    "display(dfTestO.head())"
   ]
  },
  {
   "cell_type": "markdown",
   "metadata": {
    "id": "2Gz6y6x3o_xh"
   },
   "source": [
    "__________________________________________________"
   ]
  },
  {
   "cell_type": "code",
   "execution_count": null,
   "metadata": {
    "ExecuteTime": {
     "end_time": "2021-09-13T09:09:15.291409Z",
     "start_time": "2021-09-13T09:09:15.285552Z"
    },
    "colab": {
     "base_uri": "https://localhost:8080/"
    },
    "id": "4ny0ID8f5g-a",
    "outputId": "eec2dab2-4783-4c83-9951-3075dffcf9a2"
   },
   "outputs": [],
   "source": [
    "print(dfTrainO.shape)\n",
    "\n",
    "print(dfTestO.shape)"
   ]
  },
  {
   "cell_type": "code",
   "execution_count": null,
   "metadata": {
    "ExecuteTime": {
     "end_time": "2021-09-13T09:09:17.612326Z",
     "start_time": "2021-09-13T09:09:17.576202Z"
    },
    "colab": {
     "base_uri": "https://localhost:8080/"
    },
    "id": "Jk8eT8kt5g-b",
    "outputId": "9100eb48-9adc-41fb-959d-6a3a93177a35"
   },
   "outputs": [],
   "source": [
    "print(dfTrainO.info())\n",
    "print(\"***\"*20)\n",
    "print(dfTestO.info())"
   ]
  },
  {
   "cell_type": "code",
   "execution_count": null,
   "metadata": {
    "ExecuteTime": {
     "end_time": "2021-09-13T09:09:19.030620Z",
     "start_time": "2021-09-13T09:09:18.944704Z"
    },
    "colab": {
     "base_uri": "https://localhost:8080/",
     "height": 570
    },
    "id": "15L98th65g-c",
    "outputId": "97802e99-72d0-455e-ac89-25865c75701a"
   },
   "outputs": [],
   "source": [
    "dfTrainO.describe().T"
   ]
  },
  {
   "cell_type": "markdown",
   "metadata": {
    "id": "5877b2f1",
    "papermill": {
     "duration": 0.064241,
     "end_time": "2021-09-12T00:15:25.451276",
     "exception": false,
     "start_time": "2021-09-12T00:15:25.387035",
     "status": "completed"
    },
    "tags": []
   },
   "source": [
    "**Features like:** (Eccentricity , Extent ,Solidity ,roundness ,Compactness ,and shapeFactor3,4 ) **ranges between (0 and 1)**\n",
    "\n",
    "**Features Like:** (shapeFactor1,2) **Ranges in 0.001**\n",
    "\n",
    "**On the other side , there are other features like:**\n",
    "- (Area) ranges between (20420 and 254616 )\n",
    "- (ConvexArea) ranges between (20684 and 263261 )\n",
    "- (Perimeter) ranges between (524 and 1986)\n",
    "- (MajorAxisLength) ranges between (183 and 738)\n",
    "- (MinorAxisLength) ranges between (129 and 451)\n",
    "- (EquivDiameter) ranges between (161 and 570)\n",
    "- (AspectRation) ranges between (1 and 2.4)\n",
    "\n",
    "\n",
    "When a dataset has values of different columns at different scales, it gets tough to analyze the trends and patterns , so we need to make sure that all the columns have a significant difference in their scales, and they can be modified in such a way that all those values fall into the same scale. This process is called Scaling."
   ]
  },
  {
   "cell_type": "code",
   "execution_count": null,
   "metadata": {
    "ExecuteTime": {
     "end_time": "2021-09-13T09:09:19.945492Z",
     "start_time": "2021-09-13T09:09:19.862582Z"
    },
    "colab": {
     "base_uri": "https://localhost:8080/",
     "height": 570
    },
    "id": "1TmDuisH5g-d",
    "outputId": "ca33888d-ed10-470e-c100-54421fdb5929"
   },
   "outputs": [],
   "source": [
    "dfTestO.describe().T"
   ]
  },
  {
   "cell_type": "code",
   "execution_count": null,
   "metadata": {
    "ExecuteTime": {
     "end_time": "2021-09-13T09:09:20.865602Z",
     "start_time": "2021-09-13T09:09:20.455694Z"
    },
    "colab": {
     "base_uri": "https://localhost:8080/",
     "height": 171
    },
    "id": "e_sUcviS5g-d",
    "outputId": "978de28c-659e-4231-ad2f-a86e262c5ef9"
   },
   "outputs": [],
   "source": [
    "dfTrainO.describe(include=object)"
   ]
  },
  {
   "cell_type": "code",
   "execution_count": null,
   "metadata": {
    "ExecuteTime": {
     "end_time": "2021-09-13T09:09:21.692183Z",
     "start_time": "2021-09-13T09:09:21.680469Z"
    },
    "colab": {
     "base_uri": "https://localhost:8080/"
    },
    "id": "_HbQL12R5g-e",
    "outputId": "e4d91bc8-09cb-4124-d957-2432112f10a4"
   },
   "outputs": [],
   "source": [
    "dfTrainO['y'].value_counts()"
   ]
  },
  {
   "cell_type": "markdown",
   "metadata": {
    "id": "8281ad7f",
    "papermill": {
     "duration": 0.029802,
     "end_time": "2021-09-12T00:14:41.917237",
     "exception": false,
     "start_time": "2021-09-12T00:14:41.887435",
     "status": "completed"
    },
    "tags": []
   },
   "source": [
    "# Data Visualization\n",
    "**Heatmap**"
   ]
  },
  {
   "cell_type": "code",
   "execution_count": null,
   "metadata": {
    "colab": {
     "base_uri": "https://localhost:8080/",
     "height": 912
    },
    "execution": {
     "iopub.execute_input": "2021-09-12T00:14:41.980625Z",
     "iopub.status.busy": "2021-09-12T00:14:41.979948Z",
     "iopub.status.idle": "2021-09-12T00:14:43.717125Z",
     "shell.execute_reply": "2021-09-12T00:14:43.717645Z",
     "shell.execute_reply.started": "2021-09-11T23:23:24.466551Z"
    },
    "id": "8d890fa6",
    "outputId": "f8028516-4abc-4cd4-c2dd-6887b2b30c5a",
    "papermill": {
     "duration": 1.770552,
     "end_time": "2021-09-12T00:14:43.717812",
     "exception": false,
     "start_time": "2021-09-12T00:14:41.947260",
     "status": "completed"
    },
    "tags": []
   },
   "outputs": [],
   "source": [
    "corr_matrix = dfTrainO.corr()\n",
    "\n",
    "plt.figure(figsize=(15,15))\n",
    "plt.title('Correlation Heatmap of Beans Dataset')\n",
    "a = sns.heatmap(corr_matrix, square=True, annot=True, fmt='.2f', linecolor='black')\n",
    "a.set_xticklabels(a.get_xticklabels(), rotation=30)\n",
    "a.set_yticklabels(a.get_yticklabels(), rotation=30)\n",
    "plt.show()"
   ]
  },
  {
   "cell_type": "code",
   "execution_count": null,
   "metadata": {
    "colab": {
     "base_uri": "https://localhost:8080/",
     "height": 558
    },
    "id": "jPWaUgRwky68",
    "outputId": "9a77c7fe-be38-4f53-add2-d738785b6463"
   },
   "outputs": [],
   "source": [
    "abs(dfTrainO.drop(columns=\"ID\").corr())"
   ]
  },
  {
   "cell_type": "markdown",
   "metadata": {
    "id": "8922351c",
    "papermill": {
     "duration": 0.038654,
     "end_time": "2021-09-12T00:14:43.795508",
     "exception": false,
     "start_time": "2021-09-12T00:14:43.756854",
     "status": "completed"
    },
    "tags": []
   },
   "source": [
    "From this correlation matrix we can exctract features that are strongly correlated like : \n",
    "- Area\n",
    "- Perimeter\n",
    "- MajorAxisLength\n",
    "- MinorAxisLength\n",
    "- ConvexArea\n",
    "- EquivDiameter\n",
    "- ShapeFactor1\n",
    "\n",
    "Features to be drobbed : \n",
    "\n",
    "- ShapeFactor3\n",
    "- Compactness\n",
    "- AspectRation\n",
    "- Area\n",
    "- MajorAxisLength\n",
    "- MinorAxisLength\n",
    "- ConvexArea\n",
    "- EquivDiameter\n",
    "- ShapeFactor1"
   ]
  },
  {
   "cell_type": "code",
   "execution_count": null,
   "metadata": {
    "colab": {
     "base_uri": "https://localhost:8080/",
     "height": 1000
    },
    "execution": {
     "iopub.execute_input": "2021-09-12T00:14:43.877015Z",
     "iopub.status.busy": "2021-09-12T00:14:43.876300Z",
     "iopub.status.idle": "2021-09-12T00:15:23.347848Z",
     "shell.execute_reply": "2021-09-12T00:15:23.348436Z",
     "shell.execute_reply.started": "2021-09-12T00:03:50.876527Z"
    },
    "id": "490fadc3",
    "outputId": "7dd00aea-42ef-41b0-e77d-95ce13a90c48",
    "papermill": {
     "duration": 39.513994,
     "end_time": "2021-09-12T00:15:23.348634",
     "exception": false,
     "start_time": "2021-09-12T00:14:43.834640",
     "status": "completed"
    },
    "tags": []
   },
   "outputs": [],
   "source": [
    "Strongly_corr_features = dfTrainO.drop(columns=\"ID\")\n",
    "Strongly_corr_features.head()\n",
    "sns.set_theme(style=\"whitegrid\")\n",
    "sns.pairplot(Strongly_corr_features, hue=\"y\")"
   ]
  },
  {
   "cell_type": "markdown",
   "metadata": {
    "id": "1fa3a6f8",
    "papermill": {
     "duration": 0.062306,
     "end_time": "2021-09-12T00:15:23.472335",
     "exception": false,
     "start_time": "2021-09-12T00:15:23.410029",
     "status": "completed"
    },
    "tags": []
   },
   "source": [
    "**From the graph above, Linear and log relations can be detected.**"
   ]
  },
  {
   "cell_type": "markdown",
   "metadata": {
    "id": "206e73c7",
    "papermill": {
     "duration": 0.062041,
     "end_time": "2021-09-12T00:15:23.596412",
     "exception": false,
     "start_time": "2021-09-12T00:15:23.534371",
     "status": "completed"
    },
    "tags": []
   },
   "source": [
    "**Next step will be Detecting how Beans classes can be effected by many features ..**"
   ]
  },
  {
   "cell_type": "code",
   "execution_count": null,
   "metadata": {
    "colab": {
     "base_uri": "https://localhost:8080/",
     "height": 493
    },
    "execution": {
     "iopub.execute_input": "2021-09-12T00:15:23.728313Z",
     "iopub.status.busy": "2021-09-12T00:15:23.721548Z",
     "iopub.status.idle": "2021-09-12T00:15:24.086652Z",
     "shell.execute_reply": "2021-09-12T00:15:24.086032Z",
     "shell.execute_reply.started": "2021-09-11T23:49:55.097476Z"
    },
    "id": "2b814ab0",
    "outputId": "46c8fd62-59c0-421b-ce0a-d47ae00f5ba7",
    "papermill": {
     "duration": 0.429313,
     "end_time": "2021-09-12T00:15:24.086783",
     "exception": false,
     "start_time": "2021-09-12T00:15:23.657470",
     "status": "completed"
    },
    "tags": []
   },
   "outputs": [],
   "source": [
    "sns.boxplot(x=\"y\", y=\"MajorAxisLength\", data=dfTrainO)"
   ]
  },
  {
   "cell_type": "code",
   "execution_count": null,
   "metadata": {
    "colab": {
     "base_uri": "https://localhost:8080/",
     "height": 493
    },
    "execution": {
     "iopub.execute_input": "2021-09-12T00:15:24.223930Z",
     "iopub.status.busy": "2021-09-12T00:15:24.223284Z",
     "iopub.status.idle": "2021-09-12T00:15:24.573512Z",
     "shell.execute_reply": "2021-09-12T00:15:24.572979Z",
     "shell.execute_reply.started": "2021-09-11T23:43:19.269707Z"
    },
    "id": "4e619ed4",
    "outputId": "39f59e0f-7926-47a0-8ab3-791ce73cc652",
    "papermill": {
     "duration": 0.423872,
     "end_time": "2021-09-12T00:15:24.573656",
     "exception": false,
     "start_time": "2021-09-12T00:15:24.149784",
     "status": "completed"
    },
    "tags": []
   },
   "outputs": [],
   "source": [
    "sns.boxplot(x=\"y\", y=\"Perimeter\", data=dfTrainO)"
   ]
  },
  {
   "cell_type": "markdown",
   "metadata": {
    "id": "7f49c73e",
    "papermill": {
     "duration": 0.07298,
     "end_time": "2021-09-12T00:15:24.729342",
     "exception": false,
     "start_time": "2021-09-12T00:15:24.656362",
     "status": "completed"
    },
    "tags": []
   },
   "source": [
    "- A perimeter is  a path that encompasses/surrounds/outlines a shape or its length. 'Wikipedia'\n",
    "- The above graph shows that (BOMBAY) has the highest perimeter"
   ]
  },
  {
   "cell_type": "code",
   "execution_count": null,
   "metadata": {
    "id": "BCXsh2nKn9H3"
   },
   "outputs": [],
   "source": [
    "dfTrainNEW=dfTrainO.copy()"
   ]
  },
  {
   "cell_type": "code",
   "execution_count": null,
   "metadata": {
    "colab": {
     "base_uri": "https://localhost:8080/"
    },
    "id": "qL5Z3GjVpXoM",
    "outputId": "36f10d43-5b15-42fe-c846-1e97f1b121b4"
   },
   "outputs": [],
   "source": [
    "dfTrainNEW.columns"
   ]
  },
  {
   "cell_type": "code",
   "execution_count": null,
   "metadata": {
    "id": "f1bCFvN4tX4K"
   },
   "outputs": [],
   "source": [
    "dfTestNEW=dfTestO.copy()"
   ]
  },
  {
   "cell_type": "markdown",
   "metadata": {
    "id": "UiP-hcM3mI0s"
   },
   "source": [
    "# Value Counts and Uniques Equations"
   ]
  },
  {
   "cell_type": "code",
   "execution_count": null,
   "metadata": {
    "ExecuteTime": {
     "end_time": "2021-08-30T16:34:08.694109Z",
     "start_time": "2021-08-30T16:34:08.679930Z"
    },
    "execution": {
     "iopub.execute_input": "2021-08-04T00:03:23.563056Z",
     "iopub.status.busy": "2021-08-04T00:03:23.562332Z",
     "iopub.status.idle": "2021-08-04T00:03:23.564696Z",
     "shell.execute_reply": "2021-08-04T00:03:23.564022Z",
     "shell.execute_reply.started": "2021-08-03T23:53:13.419750Z"
    },
    "id": "hlkPpuMPmI0s",
    "papermill": {
     "duration": 0.055873,
     "end_time": "2021-08-04T00:03:23.564858",
     "exception": false,
     "start_time": "2021-08-04T00:03:23.508985",
     "status": "completed"
    },
    "tags": []
   },
   "outputs": [],
   "source": [
    "def ValueCounts(df):\n",
    "    for c in df.columns:\n",
    "        print(c+\"\\n\"+\"-----------------\"+\"\\n\")\n",
    "        print(df[c].value_counts().to_frame())\n",
    "        print(\"\\n\"+\"******************\"+\"\\n\")\n",
    "        \n",
    "def UniqueValues(df,l):\n",
    "    for c in l:\n",
    "        print(c+\"\\n\"+\"-----------------\"+\"\\n\")\n",
    "        print(df[c].nunique())\n",
    "        print(\"\\n\"+\"******************\"+\"\\n\")"
   ]
  },
  {
   "cell_type": "code",
   "execution_count": null,
   "metadata": {
    "ExecuteTime": {
     "end_time": "2021-08-30T16:34:09.023463Z",
     "start_time": "2021-08-30T16:34:08.698990Z"
    },
    "colab": {
     "base_uri": "https://localhost:8080/"
    },
    "id": "eQ2dwWhZmI0s",
    "outputId": "1685416e-bf19-4233-ff64-752323669899"
   },
   "outputs": [],
   "source": [
    "ValueCounts(dfTrainNEW)"
   ]
  },
  {
   "cell_type": "code",
   "execution_count": null,
   "metadata": {
    "ExecuteTime": {
     "end_time": "2021-08-30T16:34:09.248176Z",
     "start_time": "2021-08-30T16:34:09.038084Z"
    },
    "colab": {
     "base_uri": "https://localhost:8080/"
    },
    "id": "kLnYG22jmI0s",
    "outputId": "8746284e-5eeb-4232-b961-f024bff1643d"
   },
   "outputs": [],
   "source": [
    "ValueCounts(dfTestNEW)"
   ]
  },
  {
   "cell_type": "code",
   "execution_count": null,
   "metadata": {
    "ExecuteTime": {
     "end_time": "2021-08-30T16:34:09.320972Z",
     "start_time": "2021-08-30T16:34:09.252081Z"
    },
    "colab": {
     "base_uri": "https://localhost:8080/"
    },
    "id": "PdGMN8FPmI0t",
    "outputId": "b542e7f7-2442-4082-9bca-36f6fbf9c556"
   },
   "outputs": [],
   "source": [
    "UniqueValues(dfTrainNEW,dfTrainNEW.columns)"
   ]
  },
  {
   "cell_type": "code",
   "execution_count": null,
   "metadata": {
    "ExecuteTime": {
     "end_time": "2021-08-30T16:34:09.406941Z",
     "start_time": "2021-08-30T16:34:09.326361Z"
    },
    "colab": {
     "base_uri": "https://localhost:8080/"
    },
    "id": "QLdUcCvvmI0t",
    "outputId": "acc0bca7-f8fa-471b-adca-acca1eacd0bc"
   },
   "outputs": [],
   "source": [
    "UniqueValues(dfTestNEW,dfTestNEW.columns)"
   ]
  },
  {
   "cell_type": "code",
   "execution_count": null,
   "metadata": {
    "ExecuteTime": {
     "end_time": "2021-08-30T16:34:09.672273Z",
     "start_time": "2021-08-30T16:34:09.410847Z"
    },
    "colab": {
     "base_uri": "https://localhost:8080/",
     "height": 570
    },
    "execution": {
     "iopub.execute_input": "2021-08-04T00:03:24.389202Z",
     "iopub.status.busy": "2021-08-04T00:03:24.388488Z",
     "iopub.status.idle": "2021-08-04T00:03:24.435732Z",
     "shell.execute_reply": "2021-08-04T00:03:24.436170Z",
     "shell.execute_reply.started": "2021-08-03T23:53:13.603626Z"
    },
    "id": "dZYmYZl2mI0t",
    "outputId": "8cdf47bf-319d-4f5c-df5a-32cca5bca9a4",
    "papermill": {
     "duration": 0.104077,
     "end_time": "2021-08-04T00:03:24.436339",
     "exception": false,
     "start_time": "2021-08-04T00:03:24.332262",
     "status": "completed"
    },
    "tags": []
   },
   "outputs": [],
   "source": [
    "dfTrainNEW.describe().T"
   ]
  },
  {
   "cell_type": "code",
   "execution_count": null,
   "metadata": {
    "ExecuteTime": {
     "end_time": "2021-08-30T16:34:09.825173Z",
     "start_time": "2021-08-30T16:34:09.677155Z"
    },
    "colab": {
     "base_uri": "https://localhost:8080/",
     "height": 570
    },
    "id": "TnJAdcY8mI0t",
    "outputId": "7594726f-43b3-46bf-f638-856989716e3a"
   },
   "outputs": [],
   "source": [
    "dfTestNEW.describe().T"
   ]
  },
  {
   "cell_type": "markdown",
   "metadata": {
    "id": "xqb0XDIJmI0t"
   },
   "source": [
    "_________________________________________________"
   ]
  },
  {
   "cell_type": "markdown",
   "metadata": {
    "id": "Do8MQ0pUmI0v"
   },
   "source": [
    "_______________________________________________________"
   ]
  },
  {
   "cell_type": "markdown",
   "metadata": {
    "heading_collapsed": true,
    "id": "W8GUT1ZtnUL1"
   },
   "source": [
    "# Check for skewness"
   ]
  },
  {
   "cell_type": "code",
   "execution_count": null,
   "metadata": {
    "ExecuteTime": {
     "end_time": "2021-08-30T16:18:44.417512Z",
     "start_time": "2021-08-30T16:18:40.613591Z"
    },
    "colab": {
     "base_uri": "https://localhost:8080/",
     "height": 824
    },
    "hidden": true,
    "id": "pllVFE37o9MT",
    "outputId": "864151f5-cabd-4738-b742-254deca932f4"
   },
   "outputs": [],
   "source": [
    "figure, axes = plt.subplots(nrows=6, ncols=3)\n",
    "figure.set_size_inches(20,15)\n",
    "figure.tight_layout()\n",
    "sns.kdeplot(dfTrainNEW['Area']                   ,shade=True, ax=axes[0][0]);\n",
    "sns.kdeplot(dfTrainNEW['Perimeter']              ,shade=True, ax=axes[0][1]);\n",
    "sns.kdeplot(dfTrainNEW['MajorAxisLength']        ,shade=True, ax=axes[0][2]);\n",
    "sns.kdeplot(dfTrainNEW['MinorAxisLength']        ,shade=True, ax=axes[1][0]);\n",
    "sns.kdeplot(dfTrainNEW['AspectRation']           ,shade=True, ax=axes[1][1]);\n",
    "sns.kdeplot(dfTrainNEW['Eccentricity']           ,shade=True, ax=axes[1][2]);\n",
    "sns.kdeplot(dfTrainNEW['ConvexArea']             ,shade=True, ax=axes[2][0]);\n",
    "sns.kdeplot(dfTrainNEW['EquivDiameter']          ,shade=True, ax=axes[2][1]);\n",
    "sns.kdeplot(dfTrainNEW['Extent']                 ,shade=True, ax=axes[2][2]);\n",
    "sns.kdeplot(dfTrainNEW['Solidity']               ,shade=True, ax=axes[3][0]);\n",
    "sns.kdeplot(dfTrainNEW['roundness']              ,shade=True, ax=axes[3][1]);\n",
    "sns.kdeplot(dfTrainNEW['Compactness']            ,shade=True, ax=axes[3][2]);\n",
    "# sns.kdeplot(dfTrainNEW['ShapeFactor1']           ,shade=True, ax=axes[4][0]);\n",
    "# sns.kdeplot(dfTrainNEW['ShapeFactor2']           ,shade=True, ax=axes[4][1]);\n",
    "sns.kdeplot(dfTrainNEW['ShapeFactor3']           ,shade=True, ax=axes[4][0]);\n",
    "sns.kdeplot(dfTrainNEW['ShapeFactor4']           ,shade=True, ax=axes[4][1]);\n"
   ]
  },
  {
   "cell_type": "markdown",
   "metadata": {
    "hidden": true,
    "id": "Ijrle1FcmI0h"
   },
   "source": [
    "## Features to Check"
   ]
  },
  {
   "cell_type": "code",
   "execution_count": null,
   "metadata": {
    "ExecuteTime": {
     "end_time": "2021-08-30T16:18:44.457541Z",
     "start_time": "2021-08-30T16:18:44.421416Z"
    },
    "hidden": true,
    "id": "WVeakqbVo9MU"
   },
   "outputs": [],
   "source": [
    "def SkewnessCheck(df,feature):\n",
    "    df=df.copy()\n",
    "    df['log'+feature]   =df[feature].apply(np.log1p)\n",
    "    df['sqrt'+feature]  =df[feature].apply(np.sqrt)\n",
    "    df['squar'+feature] =np.power(df[feature],2)\n",
    "    figure, axes = plt.subplots(nrows=1, ncols=4)\n",
    "    figure.set_size_inches(20,10)\n",
    "    sns.kdeplot(df[feature]          ,shade=True, ax=axes[0]);\n",
    "    sns.kdeplot(df['log'+feature]    ,shade=True, ax=axes[1]);\n",
    "    sns.kdeplot(df['sqrt'+feature]   ,shade=True, ax=axes[2]);\n",
    "    sns.kdeplot(df['squar'+feature]  ,shade=True, ax=axes[3]);"
   ]
  },
  {
   "cell_type": "code",
   "execution_count": null,
   "metadata": {
    "ExecuteTime": {
     "end_time": "2021-08-30T16:18:45.698988Z",
     "start_time": "2021-08-30T16:18:44.467306Z"
    },
    "colab": {
     "base_uri": "https://localhost:8080/",
     "height": 1000
    },
    "hidden": true,
    "id": "jG1QqfXzo9MV",
    "outputId": "7da2a518-3fc7-4e13-ea35-7668e0c552c5"
   },
   "outputs": [],
   "source": [
    "for f in dfTrainNEW.columns.to_list()[1:-5]:\n",
    "      SkewnessCheck(dfTrainNEW,f)"
   ]
  },
  {
   "cell_type": "code",
   "execution_count": null,
   "metadata": {
    "colab": {
     "base_uri": "https://localhost:8080/"
    },
    "id": "JThIcklxvB6L",
    "outputId": "d30b52d5-c70f-45f0-bc62-e8fb0c68117d"
   },
   "outputs": [],
   "source": [
    "dfTrainNEW.columns"
   ]
  },
  {
   "cell_type": "markdown",
   "metadata": {
    "heading_collapsed": true,
    "hidden": true,
    "id": "JD2p9KxEmI0p"
   },
   "source": [
    "### Best Parameters to Use\n",
    "#### `Log` Area, Premeter, MajoirAxesLength, MinorAxesLength,ConvexArea, EquivDiameter"
   ]
  },
  {
   "cell_type": "markdown",
   "metadata": {
    "hidden": true,
    "id": "9YRcIHgnmI0p"
   },
   "source": [
    "## Apply To Train and Test Data"
   ]
  },
  {
   "cell_type": "code",
   "execution_count": null,
   "metadata": {
    "id": "m5gNT-v7wWZ_"
   },
   "outputs": [],
   "source": [
    "def Convert(df,feature):\n",
    "    df['log'+feature]   =df[feature].apply(np.log1p)\n",
    "    "
   ]
  },
  {
   "cell_type": "code",
   "execution_count": null,
   "metadata": {
    "id": "_OrSuacSwiIo"
   },
   "outputs": [],
   "source": [
    "featuersToconvert=['Area', 'Perimeter', 'MajorAxisLength', 'MinorAxisLength', 'ConvexArea', 'EquivDiameter']"
   ]
  },
  {
   "cell_type": "code",
   "execution_count": null,
   "metadata": {
    "id": "LhUikjU_wp43"
   },
   "outputs": [],
   "source": [
    "for f in featuersToconvert:\n",
    "      Convert(dfTrainNEW,f)"
   ]
  },
  {
   "cell_type": "code",
   "execution_count": null,
   "metadata": {
    "id": "j16Ls0j6w6_Z"
   },
   "outputs": [],
   "source": [
    "for f in featuersToconvert:\n",
    "      Convert(dfTestNEW,f)"
   ]
  },
  {
   "cell_type": "code",
   "execution_count": null,
   "metadata": {
    "ExecuteTime": {
     "end_time": "2021-08-30T16:18:53.949285Z",
     "start_time": "2021-08-30T16:18:53.930738Z"
    },
    "colab": {
     "base_uri": "https://localhost:8080/"
    },
    "execution": {
     "iopub.execute_input": "2021-08-22T16:16:30.064371Z",
     "iopub.status.busy": "2021-08-22T16:16:30.063768Z",
     "iopub.status.idle": "2021-08-22T16:16:30.071969Z",
     "shell.execute_reply": "2021-08-22T16:16:30.070831Z",
     "shell.execute_reply.started": "2021-08-22T16:16:30.064326Z"
    },
    "hidden": true,
    "id": "iK1WXhffmI0q",
    "outputId": "a917d2e8-2d68-4bc7-ea85-d94fc241d69b",
    "scrolled": true
   },
   "outputs": [],
   "source": [
    "dfTrainNEW.shape"
   ]
  },
  {
   "cell_type": "code",
   "execution_count": null,
   "metadata": {
    "scrolled": true
   },
   "outputs": [],
   "source": [
    "dfTestNEW.shape"
   ]
  },
  {
   "cell_type": "code",
   "execution_count": null,
   "metadata": {},
   "outputs": [],
   "source": []
  },
  {
   "cell_type": "code",
   "execution_count": null,
   "metadata": {
    "ExecuteTime": {
     "end_time": "2021-08-30T16:18:54.242328Z",
     "start_time": "2021-08-30T16:18:54.120246Z"
    },
    "colab": {
     "base_uri": "https://localhost:8080/"
    },
    "execution": {
     "iopub.execute_input": "2021-08-22T16:16:30.091974Z",
     "iopub.status.busy": "2021-08-22T16:16:30.091319Z",
     "iopub.status.idle": "2021-08-22T16:16:30.115279Z",
     "shell.execute_reply": "2021-08-22T16:16:30.114236Z",
     "shell.execute_reply.started": "2021-08-22T16:16:30.091928Z"
    },
    "hidden": true,
    "id": "HzisUIFtmI0q",
    "outputId": "0b9e8235-73db-4059-ef45-78aaa8d9f903"
   },
   "outputs": [],
   "source": [
    "dfTrainNEW.info()"
   ]
  },
  {
   "cell_type": "code",
   "execution_count": null,
   "metadata": {
    "colab": {
     "base_uri": "https://localhost:8080/"
    },
    "id": "UOm129sExIE2",
    "outputId": "a8e29e1c-2c4e-42a2-e0cb-7a05c08b8970"
   },
   "outputs": [],
   "source": [
    "dfTestNEW.columns"
   ]
  },
  {
   "cell_type": "code",
   "execution_count": null,
   "metadata": {
    "ExecuteTime": {
     "end_time": "2021-08-30T16:18:54.336147Z",
     "start_time": "2021-08-30T16:18:54.298028Z"
    },
    "colab": {
     "base_uri": "https://localhost:8080/"
    },
    "execution": {
     "iopub.execute_input": "2021-08-22T16:16:30.127826Z",
     "iopub.status.busy": "2021-08-22T16:16:30.127222Z",
     "iopub.status.idle": "2021-08-22T16:16:30.151982Z",
     "shell.execute_reply": "2021-08-22T16:16:30.150967Z",
     "shell.execute_reply.started": "2021-08-22T16:16:30.127776Z"
    },
    "hidden": true,
    "id": "KCnte3mkmI0r",
    "outputId": "7552ca65-8d1d-4465-94d4-ac0560604594"
   },
   "outputs": [],
   "source": [
    "dfTestNEW.info()"
   ]
  },
  {
   "cell_type": "markdown",
   "metadata": {
    "hidden": true,
    "id": "PwBxnX9omI0r"
   },
   "source": [
    "________________________________________________"
   ]
  },
  {
   "cell_type": "markdown",
   "metadata": {
    "id": "eb47725f",
    "papermill": {
     "duration": 0.062596,
     "end_time": "2021-09-12T00:15:24.855756",
     "exception": false,
     "start_time": "2021-09-12T00:15:24.793160",
     "status": "completed"
    },
    "tags": []
   },
   "source": [
    "## Data Splitting\n",
    "\n",
    "Now it's time to split the dataset for the training step. Typically the dataset is split into 3 subsets, namely, the training, validation and test sets. In our case, the test set is already predefined. So we'll split the \"training\" set into training and validation sets with 0.8:0.2 ratio. \n"
   ]
  },
  {
   "cell_type": "code",
   "execution_count": null,
   "metadata": {
    "execution": {
     "iopub.execute_input": "2021-09-12T00:15:24.997269Z",
     "iopub.status.busy": "2021-09-12T00:15:24.996606Z",
     "iopub.status.idle": "2021-09-12T00:15:24.999321Z",
     "shell.execute_reply": "2021-09-12T00:15:24.999888Z",
     "shell.execute_reply.started": "2021-09-11T23:23:26.266013Z"
    },
    "id": "b460db1a",
    "outputId": "4defab7c-2fa7-4890-eceb-761d27bb06ad",
    "papermill": {
     "duration": 0.081284,
     "end_time": "2021-09-12T00:15:25.000045",
     "exception": false,
     "start_time": "2021-09-12T00:15:24.918761",
     "status": "completed"
    },
    "tags": []
   },
   "outputs": [],
   "source": [
    "from sklearn.model_selection import cross_val_score,train_test_split\n",
    "\n",
    "df_train, df_val = train_test_split(dfTrainNEW, test_size=0.2, random_state=42)\n",
    "\n",
    "X_train = df_train.drop(columns=['ID', 'y' , 'ShapeFactor3','Compactness','AspectRation','Area','MajorAxisLength','MinorAxisLength','ConvexArea','EquivDiameter','ShapeFactor1' ])\n",
    "y_train = df_train['y']\n",
    "\n",
    "X_val = df_val.drop(columns=['ID', 'y', 'ShapeFactor3','Compactness','AspectRation','Area','MajorAxisLength','MinorAxisLength','ConvexArea','EquivDiameter','ShapeFactor1' ])\n",
    "y_val = df_val['y']\n",
    "\n",
    "\n",
    "print(f\"X_train ={X_train.shape},\\nX_val.shape = {X_val.shape},\\ny_train.shape= {y_train.shape},\\ny_val.shape={y_val.shape}\")"
   ]
  },
  {
   "cell_type": "code",
   "execution_count": null,
   "metadata": {},
   "outputs": [],
   "source": []
  },
  {
   "cell_type": "markdown",
   "metadata": {
    "id": "gTSCneJCo_yf"
   },
   "source": [
    "# Machine Learning Model "
   ]
  },
  {
   "cell_type": "markdown",
   "metadata": {
    "id": "sGx5T9Tjo_yf",
    "papermill": {
     "duration": 0.054994,
     "end_time": "2021-08-04T00:03:26.650621",
     "exception": false,
     "start_time": "2021-08-04T00:03:26.595627",
     "status": "completed"
    },
    "tags": []
   },
   "source": [
    "## Train Data"
   ]
  },
  {
   "cell_type": "code",
   "execution_count": null,
   "metadata": {},
   "outputs": [],
   "source": [
    "# pip install keras "
   ]
  },
  {
   "cell_type": "code",
   "execution_count": null,
   "metadata": {},
   "outputs": [],
   "source": [
    "from keras.utils.np_utils import to_categorical"
   ]
  },
  {
   "cell_type": "code",
   "execution_count": null,
   "metadata": {
    "id": "th-mj2FUjF-U"
   },
   "outputs": [],
   "source": [
    "encoder = LabelEncoder()\n",
    "encoder.fit(dfTrainNEW[\"y\"])\n",
    "encoded_Y = encoder.transform(dfTrainNEW[\"y\"])\n",
    "# convert integers to dummy variables (i.e. one hot encoded)\n",
    "y = to_categorical(encoded_Y)"
   ]
  },
  {
   "cell_type": "code",
   "execution_count": null,
   "metadata": {
    "colab": {
     "base_uri": "https://localhost:8080/"
    },
    "id": "_e3SAQKoi953",
    "outputId": "2f08bd99-4c3d-4a24-eb82-1f12ddc4f194"
   },
   "outputs": [],
   "source": [
    "y"
   ]
  },
  {
   "cell_type": "code",
   "execution_count": null,
   "metadata": {
    "ExecuteTime": {
     "end_time": "2021-09-11T23:03:21.615000Z",
     "start_time": "2021-09-11T23:03:21.538846Z"
    },
    "execution": {
     "iopub.execute_input": "2021-08-04T00:03:26.998420Z",
     "iopub.status.busy": "2021-08-04T00:03:26.997696Z",
     "iopub.status.idle": "2021-08-04T00:03:27.124639Z",
     "shell.execute_reply": "2021-08-04T00:03:27.125220Z",
     "shell.execute_reply.started": "2021-08-03T23:53:14.345887Z"
    },
    "id": "RWEVgd4wo_yg",
    "papermill": {
     "duration": 0.186166,
     "end_time": "2021-08-04T00:03:27.125396",
     "exception": false,
     "start_time": "2021-08-04T00:03:26.939230",
     "status": "completed"
    },
    "tags": []
   },
   "outputs": [],
   "source": [
    "from sklearn.model_selection import train_test_split\n",
    "train_df, val_df = train_test_split(dfTrainNEW, test_size=0.33, random_state=0,stratify =dfTrainNEW['y'])\n",
    "X_train = train_df.drop(columns=[\"ID\",\"y\"])\n",
    "y_train = train_df['y']\n",
    "################################################################################################\n",
    "X_val = val_df.drop(columns=[\"ID\",\"y\"])\n",
    "y_val = val_df['y']"
   ]
  },
  {
   "cell_type": "code",
   "execution_count": null,
   "metadata": {
    "id": "QjIhsb6wjdYh"
   },
   "outputs": [],
   "source": [
    "encoder = LabelEncoder()\n",
    "encoder.fit(y_train)\n",
    "y_train = encoder.transform(y_train)\n",
    "# convert integers to dummy variables (i.e. one hot encoded)\n",
    "# y_train = np_utils.to_categorical(encoded_Y)"
   ]
  },
  {
   "cell_type": "code",
   "execution_count": null,
   "metadata": {
    "id": "dLC43x_xjeWq"
   },
   "outputs": [],
   "source": [
    "encoder = LabelEncoder()\n",
    "encoder.fit(y_val)\n",
    "y_val = encoder.transform(y_val)\n",
    "# convert integers to dummy variables (i.e. one hot encoded)\n",
    "# y_val = np_utils.to_categorical(encoded_Y)"
   ]
  },
  {
   "cell_type": "code",
   "execution_count": null,
   "metadata": {
    "ExecuteTime": {
     "end_time": "2021-09-11T23:03:23.979636Z",
     "start_time": "2021-09-11T23:03:23.949370Z"
    },
    "execution": {
     "iopub.execute_input": "2021-08-04T00:03:26.880418Z",
     "iopub.status.busy": "2021-08-04T00:03:26.879776Z",
     "iopub.status.idle": "2021-08-04T00:03:26.884945Z",
     "shell.execute_reply": "2021-08-04T00:03:26.885489Z",
     "shell.execute_reply.started": "2021-08-03T23:53:14.333289Z"
    },
    "id": "CFrmTMf9o_yg",
    "papermill": {
     "duration": 0.062567,
     "end_time": "2021-08-04T00:03:26.885687",
     "exception": false,
     "start_time": "2021-08-04T00:03:26.823120",
     "status": "completed"
    },
    "tags": []
   },
   "outputs": [],
   "source": [
    "def normalize(df):\n",
    "    result = df.copy()\n",
    "    for feature_name in df.columns:\n",
    "        max_value = df[feature_name].max()\n",
    "        min_value = df[feature_name].min()\n",
    "        result[feature_name] = (df[feature_name] - min_value) / (max_value - min_value)\n",
    "    return result\n",
    "\n",
    "# X_train=normalize(X_train)\n",
    "# X_val=normalize(X_val)\n",
    "# dfTest=normalize(dfTest)\n",
    "\n",
    "# from sklearn.preprocessing import MinMaxScaler\n",
    "# scaler = MinMaxScaler()\n",
    "# scaler.fit(X_train)\n",
    "# X_train = scaler.transform(X_train)\n",
    "# X_val = scaler.transform(X_val)\n",
    "\n",
    "# from sklearn.preprocessing import minmax_scale\n",
    "# X_train = minmax_scale(X_train, feature_range=(0, 1))\n",
    "# X_val = minmax_scale(X_val, feature_range=(0, 1))\n",
    "\n",
    "# from sklearn.preprocessing import RobustScaler\n",
    "# rb = RobustScaler()\n",
    "# X_train= rb.fit_transform(X_train)\n",
    "# X_val = rb.fit_transform(X_val)\n",
    "\n",
    "from sklearn.preprocessing import StandardScaler\n",
    "scaler  = StandardScaler()\n",
    "scaler.fit(X_train)\n",
    "X_train = scaler.transform(X_train)\n",
    "X_val = scaler.transform(X_val)"
   ]
  },
  {
   "cell_type": "code",
   "execution_count": null,
   "metadata": {},
   "outputs": [],
   "source": [
    "# pip install -U imbalanced-learn\n"
   ]
  },
  {
   "cell_type": "code",
   "execution_count": null,
   "metadata": {},
   "outputs": [],
   "source": [
    "from imblearn.over_sampling import SMOTE\n",
    "smt = SMOTE(random_state=0)\n",
    "X_train, y_train = smt.fit_resample(X_train, y_train)\n",
    "np.unique(y_SMOTE , return_counts=True)"
   ]
  },
  {
   "cell_type": "code",
   "execution_count": null,
   "metadata": {
    "ExecuteTime": {
     "end_time": "2021-09-11T23:03:27.110476Z",
     "start_time": "2021-09-11T23:03:25.652226Z"
    },
    "execution": {
     "iopub.execute_input": "2021-08-04T00:03:27.966169Z",
     "iopub.status.busy": "2021-08-04T00:03:27.965396Z",
     "iopub.status.idle": "2021-08-04T00:03:29.436875Z",
     "shell.execute_reply": "2021-08-04T00:03:29.437399Z",
     "shell.execute_reply.started": "2021-08-03T23:53:14.463530Z"
    },
    "id": "klHKmmmMo_yi",
    "papermill": {
     "duration": 1.529167,
     "end_time": "2021-08-04T00:03:29.437569",
     "exception": false,
     "start_time": "2021-08-04T00:03:27.908402",
     "status": "completed"
    },
    "tags": []
   },
   "outputs": [],
   "source": [
    "from sklearn.linear_model import LogisticRegression\n",
    "from sklearn.neighbors import KNeighborsClassifier\n",
    "from sklearn.discriminant_analysis import LinearDiscriminantAnalysis\n",
    "from sklearn.naive_bayes import GaussianNB\n",
    "from sklearn.svm import SVC\n",
    "from sklearn.linear_model import SGDClassifier\n",
    "from sklearn.tree import DecisionTreeClassifier\n",
    "from xgboost import XGBClassifier\n",
    "from catboost import CatBoostClassifier\n",
    "from lightgbm import LGBMClassifier\n",
    "from sklearn.ensemble import RandomForestClassifier, BaggingClassifier,GradientBoostingClassifier,AdaBoostClassifier\n",
    "from sklearn.model_selection import GridSearchCV, cross_val_score\n",
    "from sklearn.ensemble import BaggingClassifier\n",
    "from sklearn.metrics import classification_report,confusion_matrix,accuracy_score"
   ]
  },
  {
   "cell_type": "code",
   "execution_count": null,
   "metadata": {
    "ExecuteTime": {
     "end_time": "2021-09-11T23:03:36.680792Z",
     "start_time": "2021-09-11T23:03:36.672006Z"
    },
    "execution": {
     "iopub.execute_input": "2021-08-04T00:03:29.557278Z",
     "iopub.status.busy": "2021-08-04T00:03:29.556543Z",
     "iopub.status.idle": "2021-08-04T00:03:29.564592Z",
     "shell.execute_reply": "2021-08-04T00:03:29.565200Z",
     "shell.execute_reply.started": "2021-08-03T23:53:14.479861Z"
    },
    "id": "61ScA4X8o_yi",
    "papermill": {
     "duration": 0.069996,
     "end_time": "2021-08-04T00:03:29.565393",
     "exception": false,
     "start_time": "2021-08-04T00:03:29.495397",
     "status": "completed"
    },
    "tags": []
   },
   "outputs": [],
   "source": [
    "models = {\n",
    "    # \"LogisticRegression\":           LogisticRegression(),\n",
    "    \"KNeighborsClassifier\":         KNeighborsClassifier(), \n",
    "    \"DecisionTreeClassifier\":       DecisionTreeClassifier(),\n",
    "    \"SupportVectorMachine\":         SVC(C=1.0,kernel='rbf',gamma='auto'),\n",
    "    \"LinearDiscriminantAnalysis\":   LinearDiscriminantAnalysis(),\n",
    "    \"GaussianNB\":                   GaussianNB(),\n",
    "    \"SGDClassifier\":                SGDClassifier(),\n",
    "    \"RandomForestClassifier\":       RandomForestClassifier(),\n",
    "    \"BaggingClassifier\":            BaggingClassifier(),\n",
    "    \"CatBoostClassifier\":           CatBoostClassifier(verbose=False,loss_function='MultiClass'),\n",
    "    \"LGBMClassifier\":               LGBMClassifier(),\n",
    "    \"GradientBoostingClassifier\":   GradientBoostingClassifier(),\n",
    "    \"XGBClassifier\":                XGBClassifier(eval_metric='mlogloss')\n",
    "}"
   ]
  },
  {
   "cell_type": "code",
   "execution_count": null,
   "metadata": {
    "colab": {
     "base_uri": "https://localhost:8080/"
    },
    "id": "XVe3Xf-pkWgG",
    "outputId": "c506eb56-403f-4e34-e2c9-507305fd4a5e"
   },
   "outputs": [],
   "source": [
    "X_train.shape"
   ]
  },
  {
   "cell_type": "code",
   "execution_count": null,
   "metadata": {
    "colab": {
     "base_uri": "https://localhost:8080/"
    },
    "id": "bEyEjSVZkbp4",
    "outputId": "d976a1c5-25b9-492d-9ac3-03adf40bf883"
   },
   "outputs": [],
   "source": [
    "y_train.shape"
   ]
  },
  {
   "cell_type": "code",
   "execution_count": null,
   "metadata": {
    "ExecuteTime": {
     "end_time": "2021-09-11T23:06:58.788536Z",
     "start_time": "2021-09-11T23:03:41.450687Z"
    },
    "colab": {
     "base_uri": "https://localhost:8080/"
    },
    "execution": {
     "iopub.execute_input": "2021-08-04T00:03:30.258991Z",
     "iopub.status.busy": "2021-08-04T00:03:30.258307Z",
     "iopub.status.idle": "2021-08-04T00:03:40.260320Z",
     "shell.execute_reply": "2021-08-04T00:03:40.259411Z",
     "shell.execute_reply.started": "2021-08-03T23:53:14.561676Z"
    },
    "id": "vsw-S1_co_yi",
    "outputId": "ebc00aa1-cb3e-4e2f-cb79-ec9e99d5e419",
    "papermill": {
     "duration": 10.059675,
     "end_time": "2021-08-04T00:03:40.260760",
     "exception": false,
     "start_time": "2021-08-04T00:03:30.201085",
     "status": "completed"
    },
    "tags": []
   },
   "outputs": [],
   "source": [
    "for name, model in models.items():\n",
    "    print(f'Using model: {name}')\n",
    "    print('-'*30)\n",
    "    model.fit(X_train, y_train)\n",
    "    y_trainhat = model.predict(X_train)\n",
    "    y_valhat = model.predict(X_val)\n",
    "    acc = accuracy_score(y_val, y_valhat)\n",
    "    # print(f'Train_Report: {classification_report(y_train,y_trainhat)}')\n",
    "    print(f'Train_Accuracy: {accuracy_score(y_train,y_trainhat)}')\n",
    "    # print(f'Validation_Report: {classification_report(y_val,y_valhat)}')\n",
    "    print(f'Validation_Accuracy: {accuracy_score(y_val,y_valhat)}')\n",
    "    print('**'*30)"
   ]
  },
  {
   "cell_type": "code",
   "execution_count": null,
   "metadata": {
    "id": "U_iXSG_liKYL",
    "scrolled": false
   },
   "outputs": [],
   "source": [
    "list(set(dfTrainNEW.columns) - set(dfTestNEW.columns))"
   ]
  },
  {
   "cell_type": "code",
   "execution_count": null,
   "metadata": {},
   "outputs": [],
   "source": [
    "dfTestNEW.head(2)"
   ]
  },
  {
   "cell_type": "markdown",
   "metadata": {
    "id": "Ej3ZUTx6o_yj",
    "papermill": {
     "duration": 0.058036,
     "end_time": "2021-08-04T00:03:40.497139",
     "exception": false,
     "start_time": "2021-08-04T00:03:40.439103",
     "status": "completed"
    },
    "tags": []
   },
   "source": [
    "## Test Data"
   ]
  },
  {
   "cell_type": "code",
   "execution_count": null,
   "metadata": {
    "ExecuteTime": {
     "end_time": "2021-09-11T20:51:24.850788Z",
     "start_time": "2021-09-11T20:51:24.840051Z"
    },
    "id": "kXc1l5px5g-j"
   },
   "outputs": [],
   "source": [
    "# ############################################\n",
    "# TestYTrue= pd.read_csv(\"yTest.csv\")\n",
    "# yTrueTest=TestYTrue[\"y\"]\n",
    "# ############################################\n",
    "\n",
    "ID=dfTestNEW[\"ID\"]\n"
   ]
  },
  {
   "cell_type": "code",
   "execution_count": null,
   "metadata": {},
   "outputs": [],
   "source": [
    "dfTestNEW.shape"
   ]
  },
  {
   "cell_type": "code",
   "execution_count": null,
   "metadata": {},
   "outputs": [],
   "source": [
    "dfTestNEW.loc[: , dfTestNEW.columns!=\"ID\"]"
   ]
  },
  {
   "cell_type": "code",
   "execution_count": null,
   "metadata": {},
   "outputs": [],
   "source": [
    "X_test = dfTestNEW.loc[: , dfTestNEW.columns!=\"ID\"]\n"
   ]
  },
  {
   "cell_type": "code",
   "execution_count": null,
   "metadata": {},
   "outputs": [],
   "source": [
    "# X_test"
   ]
  },
  {
   "cell_type": "code",
   "execution_count": null,
   "metadata": {},
   "outputs": [],
   "source": [
    "X_test=scaler.transform(X_test)"
   ]
  },
  {
   "cell_type": "code",
   "execution_count": null,
   "metadata": {
    "ExecuteTime": {
     "end_time": "2021-09-11T20:51:51.803717Z",
     "start_time": "2021-09-11T20:51:50.168361Z"
    },
    "colab": {
     "base_uri": "https://localhost:8080/"
    },
    "id": "G7YcPp_q5g-j",
    "outputId": "34d68c69-f14b-437c-d095-c87d775e3981"
   },
   "outputs": [],
   "source": [
    "Model=CatBoostClassifier(iterations=700, learning_rate=0.2,verbose=False)\n",
    "Model.fit(X_train, y_train)\n",
    "\n",
    "y_trainhat = Model.predict(X_train)\n",
    "y_valhat = Model.predict(X_val)\n",
    "acc = accuracy_score(y_val, y_valhat)\n",
    "# print(f'Train_Report: {classification_report(y_train,y_trainhat)}')\n",
    "print(f'Train_Accuracy: {accuracy_score(y_train,y_trainhat)}')\n",
    "# print(f'Validation_Report: {classification_report(y_val,y_valhat)}')\n",
    "print(f'Validation_Accuracy: {accuracy_score(y_val,y_valhat)}')\n",
    "print('**'*30)"
   ]
  },
  {
   "cell_type": "code",
   "execution_count": null,
   "metadata": {},
   "outputs": [],
   "source": [
    "y_train"
   ]
  },
  {
   "cell_type": "code",
   "execution_count": null,
   "metadata": {
    "ExecuteTime": {
     "end_time": "2021-09-11T20:52:15.508522Z",
     "start_time": "2021-09-11T20:52:15.267383Z"
    },
    "id": "djFK3cIS5g-k"
   },
   "outputs": [],
   "source": [
    "y_test_predicted = Model.predict(X_test)\n",
    "\n",
    "dfTestO['y'] = y_test_predicted\n",
    "\n",
    "dfTestO.drop(columns=\"ID\",inplace=True)\n",
    "dfTest=pd.concat([dfTestO, ID],axis=1)\n",
    "\n",
    "#dfTestEncoded2[['ID', 'y']].to_csv('/kaggle/working/submission.csv', index=False)\n",
    "dfTest[['ID', 'y']].to_csv('submission.csv', index=False)"
   ]
  },
  {
   "cell_type": "code",
   "execution_count": null,
   "metadata": {},
   "outputs": [],
   "source": [
    "dfTest[['ID', 'y']]"
   ]
  },
  {
   "cell_type": "code",
   "execution_count": null,
   "metadata": {},
   "outputs": [],
   "source": []
  },
  {
   "cell_type": "markdown",
   "metadata": {},
   "source": [
    "# Test ActualData vs TestData"
   ]
  },
  {
   "cell_type": "code",
   "execution_count": null,
   "metadata": {},
   "outputs": [],
   "source": [
    "#DifferenceActualTest.csv\n",
    "testAcual = pd.read_csv(\"DifferenceActualTest.csv\" , )"
   ]
  },
  {
   "cell_type": "code",
   "execution_count": null,
   "metadata": {},
   "outputs": [],
   "source": [
    "testAcual.columns"
   ]
  },
  {
   "cell_type": "code",
   "execution_count": null,
   "metadata": {},
   "outputs": [],
   "source": [
    "from imblearn.over_sampling import SMOTE\n",
    "smt = SMOTE(random_state=0)\n",
    "X_train, y_train = smt.fit_resample(X_train, y_train)\n",
    "np.unique(y_SMOTE , return_counts=True)"
   ]
  },
  {
   "cell_type": "code",
   "execution_count": null,
   "metadata": {},
   "outputs": [],
   "source": [
    "testAcual[\"Class\"]"
   ]
  },
  {
   "cell_type": "code",
   "execution_count": null,
   "metadata": {},
   "outputs": [],
   "source": []
  },
  {
   "cell_type": "code",
   "execution_count": null,
   "metadata": {},
   "outputs": [],
   "source": []
  },
  {
   "cell_type": "code",
   "execution_count": null,
   "metadata": {},
   "outputs": [],
   "source": []
  },
  {
   "cell_type": "code",
   "execution_count": null,
   "metadata": {},
   "outputs": [],
   "source": []
  },
  {
   "cell_type": "code",
   "execution_count": null,
   "metadata": {},
   "outputs": [],
   "source": []
  },
  {
   "cell_type": "markdown",
   "metadata": {},
   "source": [
    "### END Test"
   ]
  },
  {
   "cell_type": "markdown",
   "metadata": {
    "id": "XmSfUD_go_yl"
   },
   "source": [
    "__________________________________________________"
   ]
  },
  {
   "cell_type": "markdown",
   "metadata": {
    "id": "ql9hVPcUysTn"
   },
   "source": [
    "# DeepLearning"
   ]
  },
  {
   "cell_type": "code",
   "execution_count": null,
   "metadata": {
    "id": "E7lhH7XNyr7_"
   },
   "outputs": [],
   "source": []
  },
  {
   "cell_type": "code",
   "execution_count": null,
   "metadata": {
    "id": "CvC37HQK-7GP"
   },
   "outputs": [],
   "source": [
    "from keras.utils import np_utils"
   ]
  },
  {
   "cell_type": "code",
   "execution_count": null,
   "metadata": {
    "id": "3yhxTPJnAp-E"
   },
   "outputs": [],
   "source": [
    "x=dfTrainNEW.drop(columns=[\"ID\",\"y\"])"
   ]
  },
  {
   "cell_type": "code",
   "execution_count": null,
   "metadata": {
    "id": "DlSexKkPzpYr"
   },
   "outputs": [],
   "source": [
    "yData=dfTrainNEW['y']"
   ]
  },
  {
   "cell_type": "code",
   "execution_count": null,
   "metadata": {
    "colab": {
     "base_uri": "https://localhost:8080/"
    },
    "id": "_amNDkuS-pCp",
    "outputId": "622a2a6f-30db-4fbc-afa9-c0b7171bd034"
   },
   "outputs": [],
   "source": [
    "yData"
   ]
  },
  {
   "cell_type": "code",
   "execution_count": null,
   "metadata": {
    "colab": {
     "base_uri": "https://localhost:8080/"
    },
    "id": "EDX6WK2ozqPJ",
    "outputId": "fad099ac-ce25-4190-b44b-d4939d4fa680"
   },
   "outputs": [],
   "source": [
    "encoder = LabelEncoder()\n",
    "encoder.fit(yData)\n"
   ]
  },
  {
   "cell_type": "code",
   "execution_count": null,
   "metadata": {
    "id": "zl4GKgUPzrOi"
   },
   "outputs": [],
   "source": [
    "encoder = LabelEncoder()\n",
    "encoder.fit(yData)\n",
    "encoded_Y = encoder.transform(yData)\n",
    "# convert integers to dummy variables (i.e. one hot encoded)\n",
    "y = np_utils.to_categorical(encoded_Y)"
   ]
  },
  {
   "cell_type": "code",
   "execution_count": null,
   "metadata": {
    "colab": {
     "base_uri": "https://localhost:8080/"
    },
    "id": "G4b4elBT_D1d",
    "outputId": "b04549a4-6fd0-401c-9dac-2d44a68e47c8"
   },
   "outputs": [],
   "source": [
    "encoded_Y"
   ]
  },
  {
   "cell_type": "code",
   "execution_count": null,
   "metadata": {
    "colab": {
     "base_uri": "https://localhost:8080/"
    },
    "id": "CJyg1K4G-u3t",
    "outputId": "8c733557-e0de-47f5-d983-e65e0b27e03d"
   },
   "outputs": [],
   "source": [
    "y"
   ]
  },
  {
   "cell_type": "code",
   "execution_count": null,
   "metadata": {
    "id": "64prgqvF_P0H"
   },
   "outputs": [],
   "source": [
    "# # define baseline model\n",
    "# def baseline_model():\n",
    "# \t# create model\n",
    "# \tmodel = Sequential()\n",
    "#   model.add(Dense(256, input_shape=[x.shape[1]], activation='relu'))\n",
    "#   model.add(Dropout(0.2))\n",
    "#   model.add(Dense(512, activation='relu'))\n",
    "#   model.add(Dense(y.shape[1], activation='softmax'))\n",
    "# \t# Compile model\n",
    "# \tmodel.compile(loss='categorical_crossentropy', optimizer='adam', metrics=['accuracy'])\n",
    "# \treturn model"
   ]
  },
  {
   "cell_type": "code",
   "execution_count": null,
   "metadata": {
    "id": "NpFPNRb3_QXv"
   },
   "outputs": [],
   "source": [
    "# estimator = KerasClassifier(build_fn=baseline_model, epochs=200, batch_size=32, verbose=0)\n",
    "# kfold = KFold(n_splits=10, shuffle=True)\n",
    "# results = cross_val_score(estimator, X, dummy_y, cv=kfold)\n",
    "# print(\"Baseline: %.2f%% (%.2f%%)\" % (results.mean()*100, results.std()*100))"
   ]
  },
  {
   "cell_type": "code",
   "execution_count": null,
   "metadata": {
    "id": "CIK5psP5_QeE"
   },
   "outputs": [],
   "source": []
  },
  {
   "cell_type": "code",
   "execution_count": null,
   "metadata": {
    "id": "5YbhKejZ_QlT"
   },
   "outputs": [],
   "source": []
  },
  {
   "cell_type": "code",
   "execution_count": null,
   "metadata": {
    "id": "oWnKh23b_QtL"
   },
   "outputs": [],
   "source": []
  },
  {
   "cell_type": "code",
   "execution_count": null,
   "metadata": {
    "ExecuteTime": {
     "end_time": "2021-09-11T23:41:17.015841Z",
     "start_time": "2021-09-11T23:41:17.009984Z"
    },
    "id": "MDippQDKy94M"
   },
   "outputs": [],
   "source": [
    "from sklearn.model_selection import train_test_split"
   ]
  },
  {
   "cell_type": "code",
   "execution_count": null,
   "metadata": {
    "ExecuteTime": {
     "end_time": "2021-09-11T23:41:17.659430Z",
     "start_time": "2021-09-11T23:41:17.633071Z"
    },
    "id": "0a4SR1WSy94M"
   },
   "outputs": [],
   "source": [
    "x_train, x_val, y_train, y_val = train_test_split(x, y, test_size = 0.2, random_state=42,stratify =yData)"
   ]
  },
  {
   "cell_type": "code",
   "execution_count": null,
   "metadata": {
    "ExecuteTime": {
     "end_time": "2021-09-11T23:41:20.189699Z",
     "start_time": "2021-09-11T23:41:20.168521Z"
    },
    "id": "DrfCImRVy94N"
   },
   "outputs": [],
   "source": [
    "from sklearn.preprocessing import StandardScaler\n",
    "\n",
    "sc = StandardScaler()\n",
    "sc.fit(x_train)\n",
    "x_train = sc.transform(x_train)\n",
    "x_val= sc.transform(x_val)"
   ]
  },
  {
   "cell_type": "code",
   "execution_count": null,
   "metadata": {
    "ExecuteTime": {
     "end_time": "2021-09-11T23:41:23.068530Z",
     "start_time": "2021-09-11T23:41:20.790422Z"
    },
    "id": "W78RSN2ny94N"
   },
   "outputs": [],
   "source": [
    "from tensorflow.keras.models import Sequential\n",
    "from tensorflow.keras.layers import Dense, Dropout\n",
    "from tensorflow.keras.optimizers import Adam\n",
    "from tensorflow.keras.callbacks import ReduceLROnPlateau, ModelCheckpoint, EarlyStopping"
   ]
  },
  {
   "cell_type": "code",
   "execution_count": null,
   "metadata": {
    "ExecuteTime": {
     "end_time": "2021-09-11T23:41:23.291097Z",
     "start_time": "2021-09-11T23:41:23.282310Z"
    },
    "colab": {
     "base_uri": "https://localhost:8080/"
    },
    "id": "ZViiRGXHy94O",
    "outputId": "834b2215-17f8-4002-d265-66018158e6b9"
   },
   "outputs": [],
   "source": [
    "x.shape"
   ]
  },
  {
   "cell_type": "code",
   "execution_count": null,
   "metadata": {
    "ExecuteTime": {
     "end_time": "2021-09-11T23:41:23.977893Z",
     "start_time": "2021-09-11T23:41:23.971060Z"
    },
    "colab": {
     "base_uri": "https://localhost:8080/"
    },
    "id": "J36TP4biy94O",
    "outputId": "237b0257-088b-43ab-f077-91ee83825db5"
   },
   "outputs": [],
   "source": [
    "x.shape[1]"
   ]
  },
  {
   "cell_type": "code",
   "execution_count": null,
   "metadata": {
    "ExecuteTime": {
     "end_time": "2021-09-11T23:41:24.523426Z",
     "start_time": "2021-09-11T23:41:24.517567Z"
    },
    "colab": {
     "base_uri": "https://localhost:8080/"
    },
    "id": "Sbrj7sDay94O",
    "outputId": "0e84d98f-1b0a-479e-84ac-e41402f7c40d"
   },
   "outputs": [],
   "source": [
    "y.shape"
   ]
  },
  {
   "cell_type": "code",
   "execution_count": null,
   "metadata": {
    "ExecuteTime": {
     "end_time": "2021-09-11T23:41:25.001922Z",
     "start_time": "2021-09-11T23:41:24.995108Z"
    },
    "colab": {
     "base_uri": "https://localhost:8080/"
    },
    "id": "t0gf2RF3y94P",
    "outputId": "653720bf-0ac2-414c-ec39-d2328821a37c"
   },
   "outputs": [],
   "source": [
    "y.shape[1]"
   ]
  },
  {
   "cell_type": "code",
   "execution_count": null,
   "metadata": {
    "colab": {
     "base_uri": "https://localhost:8080/"
    },
    "id": "YGedE0zwGW37",
    "outputId": "c563c9a1-a4d4-4e69-d8dc-11202801817a"
   },
   "outputs": [],
   "source": [
    "x_train.shape"
   ]
  },
  {
   "cell_type": "code",
   "execution_count": null,
   "metadata": {
    "colab": {
     "base_uri": "https://localhost:8080/"
    },
    "id": "OYEutNaBGbBC",
    "outputId": "7cc51ae3-3518-4127-cad4-ae4df7097b69"
   },
   "outputs": [],
   "source": [
    "x_train"
   ]
  },
  {
   "cell_type": "markdown",
   "metadata": {
    "id": "0jSmvydZy94P"
   },
   "source": [
    "## Defining the model structure"
   ]
  },
  {
   "cell_type": "code",
   "execution_count": null,
   "metadata": {
    "ExecuteTime": {
     "end_time": "2021-09-11T23:41:26.177865Z",
     "start_time": "2021-09-11T23:41:26.105617Z"
    },
    "id": "CnyPvm6Wy94Q"
   },
   "outputs": [],
   "source": [
    "model = Sequential()\n",
    "model.add(Dense(256, input_shape=[x.shape[1]], activation='relu'))\n",
    "model.add(Dropout(0.2))\n",
    "model.add(Dense(512, activation='relu'))\n",
    "model.add(Dense(512, activation='relu'))\n",
    "model.add(Dense(y.shape[1], activation='softmax'))"
   ]
  },
  {
   "cell_type": "code",
   "execution_count": null,
   "metadata": {
    "ExecuteTime": {
     "end_time": "2021-09-11T23:41:27.449142Z",
     "start_time": "2021-09-11T23:41:27.442307Z"
    },
    "colab": {
     "base_uri": "https://localhost:8080/"
    },
    "id": "KS7oIXO9y94R",
    "outputId": "0fb01b6d-a37c-430f-b9d3-d774c1671580"
   },
   "outputs": [],
   "source": [
    "model.summary()"
   ]
  },
  {
   "cell_type": "code",
   "execution_count": null,
   "metadata": {
    "ExecuteTime": {
     "end_time": "2021-09-11T23:41:28.471813Z",
     "start_time": "2021-09-11T23:41:28.453230Z"
    },
    "id": "iDotot1Sy94S"
   },
   "outputs": [],
   "source": [
    "model.compile(optimizer=Adam(), loss='categorical_crossentropy', metrics=['accuracy'])"
   ]
  },
  {
   "cell_type": "code",
   "execution_count": null,
   "metadata": {
    "ExecuteTime": {
     "end_time": "2021-09-11T23:41:29.141071Z",
     "start_time": "2021-09-11T23:41:29.135212Z"
    },
    "id": "oIqKX_eLy94S"
   },
   "outputs": [],
   "source": [
    "lrd = ReduceLROnPlateau(monitor = 'val_loss',\n",
    "                         patience = 10,\n",
    "                         verbose = 1,\n",
    "                         factor = 0.75,\n",
    "                         min_lr = 1e-10)\n",
    "\n",
    "mcp = ModelCheckpoint('model.h5')\n",
    "\n",
    "es = EarlyStopping(verbose=1, patience=100)"
   ]
  },
  {
   "cell_type": "markdown",
   "metadata": {
    "id": "SkRCQNX6y94T"
   },
   "source": [
    "## Training the model"
   ]
  },
  {
   "cell_type": "code",
   "execution_count": null,
   "metadata": {
    "ExecuteTime": {
     "end_time": "2021-09-11T23:43:38.798990Z",
     "start_time": "2021-09-11T23:41:30.231193Z"
    },
    "colab": {
     "base_uri": "https://localhost:8080/"
    },
    "id": "Og15Su6jy94T",
    "outputId": "781f21c4-e264-4285-b7cf-8db7ae7e00f6",
    "scrolled": true
   },
   "outputs": [],
   "source": [
    "history = model.fit(x=x_train, y=y_train, epochs=500, callbacks=[lrd, mcp, es], batch_size=32, validation_split=0.1)"
   ]
  },
  {
   "cell_type": "markdown",
   "metadata": {
    "id": "4EHY6dNby94U"
   },
   "source": [
    "## Testing & evaluating the model"
   ]
  },
  {
   "cell_type": "code",
   "execution_count": null,
   "metadata": {
    "ExecuteTime": {
     "end_time": "2021-09-11T23:44:39.937492Z",
     "start_time": "2021-09-11T23:44:39.741170Z"
    },
    "colab": {
     "base_uri": "https://localhost:8080/"
    },
    "id": "JoO4VNHdy94U",
    "outputId": "ca979973-34e1-402b-8e96-204797f7e6d4",
    "scrolled": true
   },
   "outputs": [],
   "source": [
    "y_pred = np.argmax(model.predict(x_val), axis=-1)\n",
    "y_pred "
   ]
  },
  {
   "cell_type": "code",
   "execution_count": null,
   "metadata": {
    "ExecuteTime": {
     "end_time": "2021-09-11T23:44:40.731508Z",
     "start_time": "2021-09-11T23:44:40.713931Z"
    },
    "colab": {
     "base_uri": "https://localhost:8080/"
    },
    "id": "4OsIlUJzy94U",
    "outputId": "e04ea95e-ee1b-479f-90ef-c174a2a08afc"
   },
   "outputs": [],
   "source": [
    "y_val"
   ]
  },
  {
   "cell_type": "code",
   "execution_count": null,
   "metadata": {
    "ExecuteTime": {
     "end_time": "2021-09-11T23:44:41.943601Z",
     "start_time": "2021-09-11T23:44:41.806914Z"
    },
    "colab": {
     "base_uri": "https://localhost:8080/"
    },
    "id": "MLoGko93y94V",
    "outputId": "aaed865f-4685-4d7c-8b0a-26205378166b"
   },
   "outputs": [],
   "source": [
    "np.argmax(model.predict(x_val), axis=-1)[10]"
   ]
  },
  {
   "cell_type": "code",
   "execution_count": null,
   "metadata": {
    "ExecuteTime": {
     "end_time": "2021-09-11T23:44:43.100349Z",
     "start_time": "2021-09-11T23:44:43.090586Z"
    },
    "colab": {
     "base_uri": "https://localhost:8080/",
     "height": 35
    },
    "id": "kB6vAGrAy94V",
    "outputId": "ad249932-b874-4c8c-d1f6-ed015fef8a6a"
   },
   "outputs": [],
   "source": [
    "yData.iloc[10]"
   ]
  },
  {
   "cell_type": "code",
   "execution_count": null,
   "metadata": {
    "ExecuteTime": {
     "end_time": "2021-09-11T23:44:43.984545Z",
     "start_time": "2021-09-11T23:44:43.801971Z"
    },
    "colab": {
     "base_uri": "https://localhost:8080/"
    },
    "id": "rVsQeJfAy94V",
    "outputId": "2711b70b-7396-4740-8857-528afe90065b"
   },
   "outputs": [],
   "source": [
    "model.evaluate(x_val, y_val)"
   ]
  },
  {
   "cell_type": "code",
   "execution_count": null,
   "metadata": {
    "ExecuteTime": {
     "end_time": "2021-09-11T23:44:46.163998Z",
     "start_time": "2021-09-11T23:44:46.158140Z"
    },
    "colab": {
     "base_uri": "https://localhost:8080/"
    },
    "id": "Hv2lWs0Uy94V",
    "outputId": "003c554c-a28c-4e84-f84f-4a7ba2a3b50d"
   },
   "outputs": [],
   "source": [
    "y_pred"
   ]
  },
  {
   "cell_type": "markdown",
   "metadata": {
    "id": "tP02RK5Py94V"
   },
   "source": [
    "## Visualize Loss"
   ]
  },
  {
   "cell_type": "code",
   "execution_count": null,
   "metadata": {
    "ExecuteTime": {
     "end_time": "2021-09-11T23:44:48.372830Z",
     "start_time": "2021-09-11T23:44:47.792530Z"
    },
    "colab": {
     "base_uri": "https://localhost:8080/",
     "height": 966
    },
    "id": "CvQit0GBy94W",
    "outputId": "92a13a7d-157d-4cd4-d65e-d3adc7abc4f9"
   },
   "outputs": [],
   "source": [
    "# summarize history for loss\n",
    "plt.plot(history.history['loss'])\n",
    "plt.plot(history.history['val_loss'])\n",
    "plt.title('model loss')\n",
    "plt.ylabel('loss')\n",
    "plt.xlabel('epoch')\n",
    "plt.legend(['train', 'val'], loc='upper right')\n",
    "plt.show()\n",
    "\n",
    "# summarize history for accuracy\n",
    "plt.plot(history.history['accuracy'])\n",
    "plt.plot(history.history['val_accuracy'])\n",
    "plt.title('model accuracy')\n",
    "plt.ylabel('accuracy')\n",
    "plt.xlabel('epoch')\n",
    "plt.legend(['train', 'val'], loc='upper left')\n",
    "plt.show()"
   ]
  },
  {
   "cell_type": "markdown",
   "metadata": {
    "id": "4DzXMCggy94W"
   },
   "source": [
    "## True Test"
   ]
  },
  {
   "cell_type": "code",
   "execution_count": null,
   "metadata": {
    "ExecuteTime": {
     "end_time": "2021-09-11T23:44:56.605737Z",
     "start_time": "2021-09-11T23:44:56.585236Z"
    },
    "id": "n76M1qcoy94W"
   },
   "outputs": [],
   "source": [
    "dftest=pd.read_csv(\"testTrue.csv\")"
   ]
  },
  {
   "cell_type": "code",
   "execution_count": null,
   "metadata": {
    "ExecuteTime": {
     "end_time": "2021-09-11T23:44:57.277284Z",
     "start_time": "2021-09-11T23:44:57.269473Z"
    },
    "colab": {
     "base_uri": "https://localhost:8080/"
    },
    "id": "UGutAv-fy94W",
    "outputId": "47751626-074a-474a-db3a-ebc441d372f6"
   },
   "outputs": [],
   "source": [
    "dftest['y'].unique()"
   ]
  },
  {
   "cell_type": "code",
   "execution_count": null,
   "metadata": {
    "id": "ZDwSWHt6F6az"
   },
   "outputs": [],
   "source": [
    "for f in featuersToconvert:\n",
    "  Convert(dftest,f)"
   ]
  },
  {
   "cell_type": "code",
   "execution_count": null,
   "metadata": {
    "ExecuteTime": {
     "end_time": "2021-09-11T23:44:58.004811Z",
     "start_time": "2021-09-11T23:44:57.996023Z"
    },
    "colab": {
     "base_uri": "https://localhost:8080/"
    },
    "id": "wWzLAaFsy94X",
    "outputId": "ecf7eacf-c204-438f-eed2-f2d87c2f4517"
   },
   "outputs": [],
   "source": [
    "df_YTrue=dftest[\"y\"]\n",
    "df_YTrue"
   ]
  },
  {
   "cell_type": "code",
   "execution_count": null,
   "metadata": {
    "id": "0WgDHK0vExXI"
   },
   "outputs": [],
   "source": [
    "encoder = LabelEncoder()\n",
    "encoder.fit(df_YTrue)\n",
    "encoded_Y = encoder.transform(df_YTrue)\n",
    "# convert integers to dummy variables (i.e. one hot encoded)\n",
    "ytest = np_utils.to_categorical(encoded_Y)"
   ]
  },
  {
   "cell_type": "code",
   "execution_count": null,
   "metadata": {
    "colab": {
     "base_uri": "https://localhost:8080/"
    },
    "id": "EWpDdeuiFDJA",
    "outputId": "0203960e-c803-4489-a230-e9411e5372c9"
   },
   "outputs": [],
   "source": [
    "ytest"
   ]
  },
  {
   "cell_type": "code",
   "execution_count": null,
   "metadata": {
    "ExecuteTime": {
     "end_time": "2021-09-11T23:44:58.815057Z",
     "start_time": "2021-09-11T23:44:58.752573Z"
    },
    "id": "zQRCUwg_y94X"
   },
   "outputs": [],
   "source": [
    "# dftest = pd.get_dummies(dftest, columns=['y'])\n",
    "# dftest"
   ]
  },
  {
   "cell_type": "code",
   "execution_count": null,
   "metadata": {
    "ExecuteTime": {
     "end_time": "2021-09-11T23:44:59.487440Z",
     "start_time": "2021-09-11T23:44:59.476703Z"
    },
    "id": "lt6f2BAqy94X"
   },
   "outputs": [],
   "source": [
    "xtest = dftest.drop(columns=\"y\")"
   ]
  },
  {
   "cell_type": "code",
   "execution_count": null,
   "metadata": {
    "colab": {
     "base_uri": "https://localhost:8080/"
    },
    "id": "XgW19X5OGH06",
    "outputId": "5d233597-15a6-482a-8553-e1e2e30b4e35"
   },
   "outputs": [],
   "source": [
    "xtest.shape"
   ]
  },
  {
   "cell_type": "code",
   "execution_count": null,
   "metadata": {
    "ExecuteTime": {
     "end_time": "2021-09-11T23:45:00.112396Z",
     "start_time": "2021-09-11T23:45:00.097304Z"
    },
    "id": "RrTK4MdVy94X"
   },
   "outputs": [],
   "source": [
    "from sklearn.preprocessing import StandardScaler\n",
    "\n",
    "sc = StandardScaler()\n",
    "sc.fit(xtest)\n",
    "xtest = sc.transform(xtest)"
   ]
  },
  {
   "cell_type": "code",
   "execution_count": null,
   "metadata": {
    "ExecuteTime": {
     "end_time": "2021-09-11T23:45:00.876662Z",
     "start_time": "2021-09-11T23:45:00.737047Z"
    },
    "colab": {
     "base_uri": "https://localhost:8080/"
    },
    "id": "g3ZMm7h2y94X",
    "outputId": "4cd9fa82-14dd-4b6a-c53d-37af4952dcf9"
   },
   "outputs": [],
   "source": [
    "y_pred2 = np.argmax(model.predict(xtest), axis=-1)\n",
    "y_pred2"
   ]
  },
  {
   "cell_type": "code",
   "execution_count": null,
   "metadata": {
    "ExecuteTime": {
     "end_time": "2021-09-11T23:45:01.346812Z",
     "start_time": "2021-09-11T23:45:01.341930Z"
    },
    "colab": {
     "base_uri": "https://localhost:8080/"
    },
    "id": "WN7rKhSGy94X",
    "outputId": "8fdd0ce0-1197-4f78-8e4f-7940615edc61"
   },
   "outputs": [],
   "source": [
    "dfyPred = pd.DataFrame(y_pred2, columns = [\"yPred\"])\n",
    "dfyPred['yPredNew']      = np.where((dfyPred['yPred']==0), 'BARBUNYA',dfyPred['yPred'])\n",
    "dfyPred['yPredNew']      = np.where((dfyPred['yPred']==1), 'BOMBAY',dfyPred['yPredNew'])\n",
    "dfyPred['yPredNew']      = np.where((dfyPred['yPred']==2), 'CALI',dfyPred['yPredNew'])\n",
    "dfyPred['yPredNew']      = np.where((dfyPred['yPred']==3), 'DERMASON',dfyPred['yPredNew'])\n",
    "dfyPred['yPredNew']      = np.where((dfyPred['yPred']==4), 'HOROZ',dfyPred['yPredNew'])\n",
    "dfyPred['yPredNew']      = np.where((dfyPred['yPred']==5), 'SEKER',dfyPred['yPredNew'])\n",
    "dfyPred['yPredNew']      = np.where((dfyPred['yPred']==6), 'SIRA',dfyPred['yPredNew'])\n",
    "dfyPred['result'] = dfyPred['yPredNew'].map(lambda x: x.lstrip('y_'))\n",
    "dfyPred=dfyPred[\"result\"]\n",
    "dfyPred"
   ]
  },
  {
   "cell_type": "code",
   "execution_count": null,
   "metadata": {
    "ExecuteTime": {
     "end_time": "2021-09-11T23:45:08.218685Z",
     "start_time": "2021-09-11T23:45:08.004869Z"
    },
    "colab": {
     "base_uri": "https://localhost:8080/"
    },
    "id": "1XWyuvvvy94Y",
    "outputId": "f72992cd-0f41-4f8e-b036-e36a3e4c90b6"
   },
   "outputs": [],
   "source": [
    "model.evaluate(xtest, ytest)"
   ]
  },
  {
   "cell_type": "code",
   "execution_count": null,
   "metadata": {
    "ExecuteTime": {
     "end_time": "2021-09-11T23:45:12.152564Z",
     "start_time": "2021-09-11T23:45:12.147701Z"
    },
    "id": "gwaCYno5y94Y"
   },
   "outputs": [],
   "source": [
    "from sklearn.metrics import classification_report,confusion_matrix,accuracy_score, plot_confusion_matrix"
   ]
  },
  {
   "cell_type": "code",
   "execution_count": null,
   "metadata": {
    "ExecuteTime": {
     "end_time": "2021-09-11T23:45:13.062960Z",
     "start_time": "2021-09-11T23:45:13.051243Z"
    },
    "colab": {
     "base_uri": "https://localhost:8080/"
    },
    "id": "zPwNu2QQy94Y",
    "outputId": "f6fbda3f-fa9d-47d3-e413-fa5581058ca0"
   },
   "outputs": [],
   "source": [
    "accuracy_score(df_YTrue,dfyPred)"
   ]
  },
  {
   "cell_type": "code",
   "execution_count": null,
   "metadata": {
    "ExecuteTime": {
     "end_time": "2021-09-11T23:45:14.167350Z",
     "start_time": "2021-09-11T23:45:14.146847Z"
    },
    "colab": {
     "base_uri": "https://localhost:8080/"
    },
    "id": "mqhwTqp6y94Z",
    "outputId": "970540e8-5b17-4cc2-8f6b-1752235ac123"
   },
   "outputs": [],
   "source": [
    "print(confusion_matrix(df_YTrue,dfyPred))"
   ]
  },
  {
   "cell_type": "code",
   "execution_count": null,
   "metadata": {
    "ExecuteTime": {
     "end_time": "2021-09-11T23:45:15.279782Z",
     "start_time": "2021-09-11T23:45:15.157741Z"
    },
    "colab": {
     "base_uri": "https://localhost:8080/"
    },
    "id": "UBq1bb2Oy94Z",
    "outputId": "6de85275-e539-4e02-9061-92a5cb5e96a6"
   },
   "outputs": [],
   "source": [
    "print(classification_report(df_YTrue,dfyPred))"
   ]
  },
  {
   "cell_type": "code",
   "execution_count": null,
   "metadata": {
    "ExecuteTime": {
     "end_time": "2021-09-11T23:45:20.580352Z",
     "start_time": "2021-09-11T23:45:20.572538Z"
    },
    "colab": {
     "base_uri": "https://localhost:8080/"
    },
    "id": "gu1Y9HWey94Z",
    "outputId": "f9387966-08db-43b5-9ef2-a4fa91516423"
   },
   "outputs": [],
   "source": [
    "print(\"Number of mislabeled points out of a total %d points : %d\"% (xtest.shape[0], (df_YTrue != dfyPred).sum()))"
   ]
  },
  {
   "cell_type": "markdown",
   "metadata": {
    "id": "QYtXh5Q_y94Z"
   },
   "source": [
    "_________________________________________________________"
   ]
  },
  {
   "cell_type": "markdown",
   "metadata": {
    "id": "ASnA-SNDy94Z"
   },
   "source": [
    "## Our Test"
   ]
  },
  {
   "cell_type": "code",
   "execution_count": null,
   "metadata": {
    "colab": {
     "base_uri": "https://localhost:8080/",
     "height": 222
    },
    "id": "3-_SwBdhH3E8",
    "outputId": "c64566c0-5366-4a54-b75e-afb3c795498d"
   },
   "outputs": [],
   "source": [
    "dfTestNEW.sample(5)"
   ]
  },
  {
   "cell_type": "code",
   "execution_count": null,
   "metadata": {
    "ExecuteTime": {
     "end_time": "2021-09-11T23:53:27.983488Z",
     "start_time": "2021-09-11T23:53:27.978604Z"
    },
    "id": "Pr9mUoPAy94a"
   },
   "outputs": [],
   "source": [
    "ID=dfTestNEW[\"ID\"]"
   ]
  },
  {
   "cell_type": "code",
   "execution_count": null,
   "metadata": {
    "ExecuteTime": {
     "end_time": "2021-09-11T23:53:28.508432Z",
     "start_time": "2021-09-11T23:53:28.466452Z"
    },
    "colab": {
     "base_uri": "https://localhost:8080/",
     "height": 434
    },
    "id": "WSq6yuc5y94a",
    "outputId": "96d21e38-d94d-420f-c8fc-516f0476f6de"
   },
   "outputs": [],
   "source": [
    "xtest=dfTestNEW.drop(columns=['ID'])\n",
    "xtest"
   ]
  },
  {
   "cell_type": "code",
   "execution_count": null,
   "metadata": {
    "ExecuteTime": {
     "end_time": "2021-09-11T23:53:29.192470Z",
     "start_time": "2021-09-11T23:53:29.177826Z"
    },
    "id": "B_X2yel7y94a"
   },
   "outputs": [],
   "source": [
    "from sklearn.preprocessing import StandardScaler\n",
    "\n",
    "sc = StandardScaler()\n",
    "sc.fit(xtest)\n",
    "xtest = sc.transform(xtest)"
   ]
  },
  {
   "cell_type": "code",
   "execution_count": null,
   "metadata": {
    "ExecuteTime": {
     "end_time": "2021-09-11T23:53:30.388148Z",
     "start_time": "2021-09-11T23:53:30.258295Z"
    },
    "colab": {
     "base_uri": "https://localhost:8080/"
    },
    "id": "YfhRDNrEy94a",
    "outputId": "3284b196-8a09-4b20-bb66-e1c18388249f"
   },
   "outputs": [],
   "source": [
    "y_pred2 = np.argmax(model.predict(xtest), axis=-1)\n",
    "y_pred2"
   ]
  },
  {
   "cell_type": "code",
   "execution_count": null,
   "metadata": {
    "ExecuteTime": {
     "end_time": "2021-09-11T23:53:31.023889Z",
     "start_time": "2021-09-11T23:53:30.989736Z"
    },
    "colab": {
     "base_uri": "https://localhost:8080/"
    },
    "id": "0LJn-gfhy94a",
    "outputId": "7800d9cc-3862-483c-b738-86a6e75416e7"
   },
   "outputs": [],
   "source": [
    "dfyPred = pd.DataFrame(y_pred2, columns = [\"yPred\"])\n",
    "dfyPred['yPredNew']      = np.where((dfyPred['yPred']==0), 'BARBUNYA',dfyPred['yPred'])\n",
    "dfyPred['yPredNew']      = np.where((dfyPred['yPred']==1), 'BOMBAY'  ,dfyPred['yPredNew'])\n",
    "dfyPred['yPredNew']      = np.where((dfyPred['yPred']==2), 'CALI'    ,dfyPred['yPredNew'])\n",
    "dfyPred['yPredNew']      = np.where((dfyPred['yPred']==3), 'DERMASON',dfyPred['yPredNew'])\n",
    "dfyPred['yPredNew']      = np.where((dfyPred['yPred']==4), 'HOROZ'   ,dfyPred['yPredNew'])\n",
    "dfyPred['yPredNew']      = np.where((dfyPred['yPred']==5), 'SEKER'   ,dfyPred['yPredNew'])\n",
    "dfyPred['yPredNew']      = np.where((dfyPred['yPred']==6), 'SIRA',   dfyPred['yPredNew'])\n",
    "\n",
    "dfyPred=dfyPred[\"yPredNew\"]\n",
    "dfyPred"
   ]
  },
  {
   "cell_type": "code",
   "execution_count": null,
   "metadata": {
    "ExecuteTime": {
     "end_time": "2021-09-11T23:53:31.634578Z",
     "start_time": "2021-09-11T23:53:31.629696Z"
    },
    "id": "X2dArJHwy94b"
   },
   "outputs": [],
   "source": [
    "dfTestNEW['y'] = dfyPred"
   ]
  },
  {
   "cell_type": "code",
   "execution_count": null,
   "metadata": {
    "ExecuteTime": {
     "end_time": "2021-09-11T23:53:32.265274Z",
     "start_time": "2021-09-11T23:53:32.222802Z"
    },
    "colab": {
     "base_uri": "https://localhost:8080/",
     "height": 434
    },
    "id": "TJgR2p-2y94b",
    "outputId": "23b9680c-1791-4625-cf28-89303fbb3d5c"
   },
   "outputs": [],
   "source": [
    "dfTestNEW"
   ]
  },
  {
   "cell_type": "code",
   "execution_count": null,
   "metadata": {
    "ExecuteTime": {
     "end_time": "2021-09-11T23:53:33.029158Z",
     "start_time": "2021-09-11T23:53:33.007679Z"
    },
    "id": "3OEu8EzQy94b"
   },
   "outputs": [],
   "source": [
    "dfTestNEW.drop(columns=\"ID\",inplace=True)\n",
    "dfTestNEW=pd.concat([dfTestNEW, ID],axis=1)\n",
    "\n",
    "#dfTestNEW[['ID', 'y']].to_csv('/kaggle/working/submission.csv', index=False)\n",
    "dfTestNEW[['ID', 'y']].to_csv('submission.csv', index=False)"
   ]
  },
  {
   "cell_type": "markdown",
   "metadata": {
    "id": "odTlAwjvy94b"
   },
   "source": [
    "__________________________"
   ]
  },
  {
   "cell_type": "code",
   "execution_count": null,
   "metadata": {
    "id": "KVznmB5pRzzZ"
   },
   "outputs": [],
   "source": []
  }
 ],
 "metadata": {
  "colab": {
   "collapsed_sections": [
    "eb47725f"
   ],
   "name": "Dry_Beans_Classification.ipynb",
   "provenance": []
  },
  "kernelspec": {
   "display_name": "Python 3",
   "language": "python",
   "name": "python3"
  },
  "language_info": {
   "codemirror_mode": {
    "name": "ipython",
    "version": 3
   },
   "file_extension": ".py",
   "mimetype": "text/x-python",
   "name": "python",
   "nbconvert_exporter": "python",
   "pygments_lexer": "ipython3",
   "version": "3.8.5"
  },
  "papermill": {
   "default_parameters": {},
   "duration": 32.773199,
   "end_time": "2021-08-04T00:03:45.490507",
   "environment_variables": {},
   "exception": null,
   "input_path": "__notebook__.ipynb",
   "output_path": "__notebook__.ipynb",
   "parameters": {},
   "start_time": "2021-08-04T00:03:12.717308",
   "version": "2.3.3"
  },
  "toc": {
   "base_numbering": 1,
   "nav_menu": {},
   "number_sections": true,
   "sideBar": true,
   "skip_h1_title": false,
   "title_cell": "Table of Contents",
   "title_sidebar": "Contents",
   "toc_cell": false,
   "toc_position": {
    "height": "calc(100% - 180px)",
    "left": "10px",
    "top": "150px",
    "width": "238.188px"
   },
   "toc_section_display": true,
   "toc_window_display": false
  },
  "varInspector": {
   "cols": {
    "lenName": 16,
    "lenType": 16,
    "lenVar": 40
   },
   "kernels_config": {
    "python": {
     "delete_cmd_postfix": "",
     "delete_cmd_prefix": "del ",
     "library": "var_list.py",
     "varRefreshCmd": "print(var_dic_list())"
    },
    "r": {
     "delete_cmd_postfix": ") ",
     "delete_cmd_prefix": "rm(",
     "library": "var_list.r",
     "varRefreshCmd": "cat(var_dic_list()) "
    }
   },
   "types_to_exclude": [
    "module",
    "function",
    "builtin_function_or_method",
    "instance",
    "_Feature"
   ],
   "window_display": false
  }
 },
 "nbformat": 4,
 "nbformat_minor": 5
}
