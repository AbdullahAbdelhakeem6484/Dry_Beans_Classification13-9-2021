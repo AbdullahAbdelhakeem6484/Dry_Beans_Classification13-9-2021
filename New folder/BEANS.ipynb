{
 "cells": [
  {
   "cell_type": "code",
   "execution_count": null,
   "metadata": {},
   "outputs": [],
   "source": [
    "####################################################################################################################\n",
    "# Competition   : Dry Beans Classification\n",
    "# Team Members  : 1- Abdullah Abdelhakeem\n",
    "#                 2- Mohamed Sebaie                   \n",
    "#                 3- Mohamed Moustafa\n",
    "#                 4- Ossama Ahmed\n",
    "#                 5- Mahmoud Osama\n",
    "#                 6- Hazem\n",
    "#\n",
    "# Problem :       Supervised Classification\n",
    "# version :       0.0.1\n",
    "#\n",
    "###################################################################################################################"
   ]
  },
  {
   "cell_type": "markdown",
   "metadata": {
    "id": "ppF5ildHqk0p"
   },
   "source": [
    "# Import Required Libraries"
   ]
  },
  {
   "cell_type": "code",
   "execution_count": 2,
   "metadata": {
    "ExecuteTime": {
     "end_time": "2021-09-13T09:09:05.064234Z",
     "start_time": "2021-09-13T09:08:30.772932Z"
    },
    "colab": {
     "base_uri": "https://localhost:8080/"
    },
    "execution": {
     "iopub.execute_input": "2021-08-04T00:03:21.147520Z",
     "iopub.status.busy": "2021-08-04T00:03:21.146838Z",
     "iopub.status.idle": "2021-08-04T00:03:23.076397Z",
     "shell.execute_reply": "2021-08-04T00:03:23.075688Z",
     "shell.execute_reply.started": "2021-08-03T23:53:13.286517Z"
    },
    "id": "B8IAZOPlo_xN",
    "outputId": "c59c4042-b1f1-4fc4-fe35-759646b2490d",
    "papermill": {
     "duration": 1.981628,
     "end_time": "2021-08-04T00:03:23.076546",
     "exception": false,
     "start_time": "2021-08-04T00:03:21.094918",
     "status": "completed"
    },
    "tags": []
   },
   "outputs": [],
   "source": [
    "import numpy as np # linear algebra\n",
    "import pandas as pd # data processing, CSV file I/O (e.g. pd.read_csv)\n",
    "\n",
    "import statsmodels.api as sm\n",
    "from sklearn.preprocessing import LabelEncoder\n",
    "from sklearn.pipeline import Pipeline\n",
    "from sklearn.metrics import ConfusionMatrixDisplay,confusion_matrix\n",
    "from mlxtend.plotting import plot_confusion_matrix\n",
    "#####################################################################\n",
    "# for visualizations\n",
    "from pandas import plotting\n",
    "import matplotlib.pyplot as plt\n",
    "%matplotlib inline\n",
    "import seaborn as sns\n",
    "plt.style.use('fivethirtyeight')\n",
    "sns.set(rc={'figure.figsize': [7, 7]}, font_scale=1.2)\n",
    "###########################################################\n",
    "%config Completer.use_jedi=False\n",
    "pd.set_option(\"display.max_columns\", None)\n",
    "\n",
    "# ignore the warnings\n",
    "import warnings\n",
    "warnings.filterwarnings(\"ignore\")\n",
    "np.set_printoptions(suppress=True)\n",
    "\n",
    "# for path\n",
    "import os\n",
    "for dirname, _, filenames in os.walk('/kaggle/input'):\n",
    "    for filename in filenames:\n",
    "        print(os.path.join(dirname, filename))"
   ]
  },
  {
   "cell_type": "markdown",
   "metadata": {
    "id": "VgZO9uiVqoKD"
   },
   "source": [
    "# Read Train and Test Data"
   ]
  },
  {
   "cell_type": "code",
   "execution_count": 3,
   "metadata": {
    "ExecuteTime": {
     "end_time": "2021-09-13T09:09:14.044960Z",
     "start_time": "2021-09-13T09:09:13.688161Z"
    },
    "colab": {
     "base_uri": "https://localhost:8080/",
     "height": 513
    },
    "execution": {
     "iopub.execute_input": "2021-08-04T00:03:23.337946Z",
     "iopub.status.busy": "2021-08-04T00:03:23.337261Z",
     "iopub.status.idle": "2021-08-04T00:03:23.340363Z",
     "shell.execute_reply": "2021-08-04T00:03:23.339737Z",
     "shell.execute_reply.started": "2021-08-03T23:53:13.383335Z"
    },
    "id": "ggCy_Dlmo_xd",
    "outputId": "3cdd824b-63cf-4a2d-83ef-db5f00d177f5",
    "papermill": {
     "duration": 0.05279,
     "end_time": "2021-08-04T00:03:23.340501",
     "exception": false,
     "start_time": "2021-08-04T00:03:23.287711",
     "status": "completed"
    },
    "scrolled": false,
    "tags": []
   },
   "outputs": [
    {
     "name": "stdout",
     "output_type": "stream",
     "text": [
      "------------------------------------------------------------------------------------------\n",
      "Train Head\n",
      "------------------------------------------------------------------------------------------\n"
     ]
    },
    {
     "data": {
      "text/html": [
       "<div>\n",
       "<style scoped>\n",
       "    .dataframe tbody tr th:only-of-type {\n",
       "        vertical-align: middle;\n",
       "    }\n",
       "\n",
       "    .dataframe tbody tr th {\n",
       "        vertical-align: top;\n",
       "    }\n",
       "\n",
       "    .dataframe thead th {\n",
       "        text-align: right;\n",
       "    }\n",
       "</style>\n",
       "<table border=\"1\" class=\"dataframe\">\n",
       "  <thead>\n",
       "    <tr style=\"text-align: right;\">\n",
       "      <th></th>\n",
       "      <th>ID</th>\n",
       "      <th>Area</th>\n",
       "      <th>Perimeter</th>\n",
       "      <th>MajorAxisLength</th>\n",
       "      <th>MinorAxisLength</th>\n",
       "      <th>AspectRation</th>\n",
       "      <th>Eccentricity</th>\n",
       "      <th>ConvexArea</th>\n",
       "      <th>EquivDiameter</th>\n",
       "      <th>Extent</th>\n",
       "      <th>Solidity</th>\n",
       "      <th>roundness</th>\n",
       "      <th>Compactness</th>\n",
       "      <th>ShapeFactor1</th>\n",
       "      <th>ShapeFactor2</th>\n",
       "      <th>ShapeFactor3</th>\n",
       "      <th>ShapeFactor4</th>\n",
       "      <th>y</th>\n",
       "    </tr>\n",
       "  </thead>\n",
       "  <tbody>\n",
       "    <tr>\n",
       "      <th>0</th>\n",
       "      <td>0</td>\n",
       "      <td>58238</td>\n",
       "      <td>971.303</td>\n",
       "      <td>397.202654</td>\n",
       "      <td>186.945510</td>\n",
       "      <td>2.124697</td>\n",
       "      <td>0.882317</td>\n",
       "      <td>58977</td>\n",
       "      <td>272.306674</td>\n",
       "      <td>0.604756</td>\n",
       "      <td>0.987470</td>\n",
       "      <td>0.775723</td>\n",
       "      <td>0.685561</td>\n",
       "      <td>0.006820</td>\n",
       "      <td>0.000929</td>\n",
       "      <td>0.469994</td>\n",
       "      <td>0.998595</td>\n",
       "      <td>HOROZ</td>\n",
       "    </tr>\n",
       "    <tr>\n",
       "      <th>1</th>\n",
       "      <td>1</td>\n",
       "      <td>44515</td>\n",
       "      <td>757.601</td>\n",
       "      <td>265.590470</td>\n",
       "      <td>213.967453</td>\n",
       "      <td>1.241266</td>\n",
       "      <td>0.592420</td>\n",
       "      <td>44780</td>\n",
       "      <td>238.071960</td>\n",
       "      <td>0.771745</td>\n",
       "      <td>0.994082</td>\n",
       "      <td>0.974620</td>\n",
       "      <td>0.896387</td>\n",
       "      <td>0.005966</td>\n",
       "      <td>0.002376</td>\n",
       "      <td>0.803510</td>\n",
       "      <td>0.997370</td>\n",
       "      <td>SEKER</td>\n",
       "    </tr>\n",
       "    <tr>\n",
       "      <th>2</th>\n",
       "      <td>2</td>\n",
       "      <td>31662</td>\n",
       "      <td>653.783</td>\n",
       "      <td>239.902428</td>\n",
       "      <td>168.421505</td>\n",
       "      <td>1.424417</td>\n",
       "      <td>0.712136</td>\n",
       "      <td>32034</td>\n",
       "      <td>200.781748</td>\n",
       "      <td>0.801407</td>\n",
       "      <td>0.988387</td>\n",
       "      <td>0.930853</td>\n",
       "      <td>0.836931</td>\n",
       "      <td>0.007577</td>\n",
       "      <td>0.002293</td>\n",
       "      <td>0.700453</td>\n",
       "      <td>0.997737</td>\n",
       "      <td>DERMASON</td>\n",
       "    </tr>\n",
       "    <tr>\n",
       "      <th>3</th>\n",
       "      <td>3</td>\n",
       "      <td>38778</td>\n",
       "      <td>734.020</td>\n",
       "      <td>268.446281</td>\n",
       "      <td>184.061923</td>\n",
       "      <td>1.458456</td>\n",
       "      <td>0.727925</td>\n",
       "      <td>39208</td>\n",
       "      <td>222.201897</td>\n",
       "      <td>0.766137</td>\n",
       "      <td>0.989033</td>\n",
       "      <td>0.904439</td>\n",
       "      <td>0.827733</td>\n",
       "      <td>0.006923</td>\n",
       "      <td>0.002005</td>\n",
       "      <td>0.685142</td>\n",
       "      <td>0.999250</td>\n",
       "      <td>DERMASON</td>\n",
       "    </tr>\n",
       "    <tr>\n",
       "      <th>4</th>\n",
       "      <td>4</td>\n",
       "      <td>42530</td>\n",
       "      <td>775.403</td>\n",
       "      <td>281.212824</td>\n",
       "      <td>193.236878</td>\n",
       "      <td>1.455275</td>\n",
       "      <td>0.726511</td>\n",
       "      <td>43028</td>\n",
       "      <td>232.703412</td>\n",
       "      <td>0.729816</td>\n",
       "      <td>0.988426</td>\n",
       "      <td>0.888895</td>\n",
       "      <td>0.827499</td>\n",
       "      <td>0.006612</td>\n",
       "      <td>0.001912</td>\n",
       "      <td>0.684755</td>\n",
       "      <td>0.996507</td>\n",
       "      <td>SIRA</td>\n",
       "    </tr>\n",
       "  </tbody>\n",
       "</table>\n",
       "</div>"
      ],
      "text/plain": [
       "   ID   Area  Perimeter  MajorAxisLength  MinorAxisLength  AspectRation  \\\n",
       "0   0  58238    971.303       397.202654       186.945510      2.124697   \n",
       "1   1  44515    757.601       265.590470       213.967453      1.241266   \n",
       "2   2  31662    653.783       239.902428       168.421505      1.424417   \n",
       "3   3  38778    734.020       268.446281       184.061923      1.458456   \n",
       "4   4  42530    775.403       281.212824       193.236878      1.455275   \n",
       "\n",
       "   Eccentricity  ConvexArea  EquivDiameter    Extent  Solidity  roundness  \\\n",
       "0      0.882317       58977     272.306674  0.604756  0.987470   0.775723   \n",
       "1      0.592420       44780     238.071960  0.771745  0.994082   0.974620   \n",
       "2      0.712136       32034     200.781748  0.801407  0.988387   0.930853   \n",
       "3      0.727925       39208     222.201897  0.766137  0.989033   0.904439   \n",
       "4      0.726511       43028     232.703412  0.729816  0.988426   0.888895   \n",
       "\n",
       "   Compactness  ShapeFactor1  ShapeFactor2  ShapeFactor3  ShapeFactor4  \\\n",
       "0     0.685561      0.006820      0.000929      0.469994      0.998595   \n",
       "1     0.896387      0.005966      0.002376      0.803510      0.997370   \n",
       "2     0.836931      0.007577      0.002293      0.700453      0.997737   \n",
       "3     0.827733      0.006923      0.002005      0.685142      0.999250   \n",
       "4     0.827499      0.006612      0.001912      0.684755      0.996507   \n",
       "\n",
       "          y  \n",
       "0     HOROZ  \n",
       "1     SEKER  \n",
       "2  DERMASON  \n",
       "3  DERMASON  \n",
       "4      SIRA  "
      ]
     },
     "metadata": {},
     "output_type": "display_data"
    },
    {
     "name": "stdout",
     "output_type": "stream",
     "text": [
      "------------------------------------------------------------------------------------------\n",
      "Test Head\n",
      "------------------------------------------------------------------------------------------\n"
     ]
    },
    {
     "data": {
      "text/html": [
       "<div>\n",
       "<style scoped>\n",
       "    .dataframe tbody tr th:only-of-type {\n",
       "        vertical-align: middle;\n",
       "    }\n",
       "\n",
       "    .dataframe tbody tr th {\n",
       "        vertical-align: top;\n",
       "    }\n",
       "\n",
       "    .dataframe thead th {\n",
       "        text-align: right;\n",
       "    }\n",
       "</style>\n",
       "<table border=\"1\" class=\"dataframe\">\n",
       "  <thead>\n",
       "    <tr style=\"text-align: right;\">\n",
       "      <th></th>\n",
       "      <th>ID</th>\n",
       "      <th>Area</th>\n",
       "      <th>Perimeter</th>\n",
       "      <th>MajorAxisLength</th>\n",
       "      <th>MinorAxisLength</th>\n",
       "      <th>AspectRation</th>\n",
       "      <th>Eccentricity</th>\n",
       "      <th>ConvexArea</th>\n",
       "      <th>EquivDiameter</th>\n",
       "      <th>Extent</th>\n",
       "      <th>Solidity</th>\n",
       "      <th>roundness</th>\n",
       "      <th>Compactness</th>\n",
       "      <th>ShapeFactor1</th>\n",
       "      <th>ShapeFactor2</th>\n",
       "      <th>ShapeFactor3</th>\n",
       "      <th>ShapeFactor4</th>\n",
       "    </tr>\n",
       "  </thead>\n",
       "  <tbody>\n",
       "    <tr>\n",
       "      <th>0</th>\n",
       "      <td>10834</td>\n",
       "      <td>57659</td>\n",
       "      <td>955.434</td>\n",
       "      <td>387.757607</td>\n",
       "      <td>196.625782</td>\n",
       "      <td>1.972059</td>\n",
       "      <td>0.861896</td>\n",
       "      <td>60188</td>\n",
       "      <td>270.949661</td>\n",
       "      <td>0.620790</td>\n",
       "      <td>0.957982</td>\n",
       "      <td>0.793735</td>\n",
       "      <td>0.698760</td>\n",
       "      <td>0.006725</td>\n",
       "      <td>0.000989</td>\n",
       "      <td>0.488266</td>\n",
       "      <td>0.962889</td>\n",
       "    </tr>\n",
       "    <tr>\n",
       "      <th>1</th>\n",
       "      <td>10835</td>\n",
       "      <td>28772</td>\n",
       "      <td>630.362</td>\n",
       "      <td>229.990785</td>\n",
       "      <td>159.609367</td>\n",
       "      <td>1.440960</td>\n",
       "      <td>0.719993</td>\n",
       "      <td>29127</td>\n",
       "      <td>191.399185</td>\n",
       "      <td>0.767458</td>\n",
       "      <td>0.987812</td>\n",
       "      <td>0.909913</td>\n",
       "      <td>0.832204</td>\n",
       "      <td>0.007994</td>\n",
       "      <td>0.002365</td>\n",
       "      <td>0.692563</td>\n",
       "      <td>0.997956</td>\n",
       "    </tr>\n",
       "    <tr>\n",
       "      <th>2</th>\n",
       "      <td>10836</td>\n",
       "      <td>54677</td>\n",
       "      <td>911.022</td>\n",
       "      <td>308.853903</td>\n",
       "      <td>226.398571</td>\n",
       "      <td>1.364204</td>\n",
       "      <td>0.680198</td>\n",
       "      <td>55858</td>\n",
       "      <td>263.850182</td>\n",
       "      <td>0.753013</td>\n",
       "      <td>0.978857</td>\n",
       "      <td>0.827860</td>\n",
       "      <td>0.854288</td>\n",
       "      <td>0.005649</td>\n",
       "      <td>0.001856</td>\n",
       "      <td>0.729808</td>\n",
       "      <td>0.995607</td>\n",
       "    </tr>\n",
       "    <tr>\n",
       "      <th>3</th>\n",
       "      <td>10837</td>\n",
       "      <td>24827</td>\n",
       "      <td>578.304</td>\n",
       "      <td>214.192699</td>\n",
       "      <td>147.788172</td>\n",
       "      <td>1.449322</td>\n",
       "      <td>0.723831</td>\n",
       "      <td>25121</td>\n",
       "      <td>177.794033</td>\n",
       "      <td>0.716508</td>\n",
       "      <td>0.988297</td>\n",
       "      <td>0.932871</td>\n",
       "      <td>0.830066</td>\n",
       "      <td>0.008627</td>\n",
       "      <td>0.002526</td>\n",
       "      <td>0.689009</td>\n",
       "      <td>0.998596</td>\n",
       "    </tr>\n",
       "    <tr>\n",
       "      <th>4</th>\n",
       "      <td>10838</td>\n",
       "      <td>141850</td>\n",
       "      <td>1432.847</td>\n",
       "      <td>524.923471</td>\n",
       "      <td>346.910920</td>\n",
       "      <td>1.513136</td>\n",
       "      <td>0.750492</td>\n",
       "      <td>143680</td>\n",
       "      <td>424.981211</td>\n",
       "      <td>0.804617</td>\n",
       "      <td>0.987263</td>\n",
       "      <td>0.868240</td>\n",
       "      <td>0.809606</td>\n",
       "      <td>0.003701</td>\n",
       "      <td>0.000981</td>\n",
       "      <td>0.655462</td>\n",
       "      <td>0.991803</td>\n",
       "    </tr>\n",
       "  </tbody>\n",
       "</table>\n",
       "</div>"
      ],
      "text/plain": [
       "      ID    Area  Perimeter  MajorAxisLength  MinorAxisLength  AspectRation  \\\n",
       "0  10834   57659    955.434       387.757607       196.625782      1.972059   \n",
       "1  10835   28772    630.362       229.990785       159.609367      1.440960   \n",
       "2  10836   54677    911.022       308.853903       226.398571      1.364204   \n",
       "3  10837   24827    578.304       214.192699       147.788172      1.449322   \n",
       "4  10838  141850   1432.847       524.923471       346.910920      1.513136   \n",
       "\n",
       "   Eccentricity  ConvexArea  EquivDiameter    Extent  Solidity  roundness  \\\n",
       "0      0.861896       60188     270.949661  0.620790  0.957982   0.793735   \n",
       "1      0.719993       29127     191.399185  0.767458  0.987812   0.909913   \n",
       "2      0.680198       55858     263.850182  0.753013  0.978857   0.827860   \n",
       "3      0.723831       25121     177.794033  0.716508  0.988297   0.932871   \n",
       "4      0.750492      143680     424.981211  0.804617  0.987263   0.868240   \n",
       "\n",
       "   Compactness  ShapeFactor1  ShapeFactor2  ShapeFactor3  ShapeFactor4  \n",
       "0     0.698760      0.006725      0.000989      0.488266      0.962889  \n",
       "1     0.832204      0.007994      0.002365      0.692563      0.997956  \n",
       "2     0.854288      0.005649      0.001856      0.729808      0.995607  \n",
       "3     0.830066      0.008627      0.002526      0.689009      0.998596  \n",
       "4     0.809606      0.003701      0.000981      0.655462      0.991803  "
      ]
     },
     "metadata": {},
     "output_type": "display_data"
    }
   ],
   "source": [
    "dfTrainO=pd.read_csv(\"train.csv\")\n",
    "print('---'*30)\n",
    "print('Train Head')\n",
    "print('---'*30)\n",
    "display(dfTrainO.head())\n",
    "dfTestO=pd.read_csv(\"test.csv\")\n",
    "print('---'*30)\n",
    "print('Test Head')\n",
    "print('---'*30)\n",
    "display(dfTestO.head())"
   ]
  },
  {
   "cell_type": "markdown",
   "metadata": {
    "id": "2Gz6y6x3o_xh"
   },
   "source": [
    "__________________________________________________"
   ]
  },
  {
   "cell_type": "code",
   "execution_count": 6,
   "metadata": {
    "ExecuteTime": {
     "end_time": "2021-09-11T23:03:21.615000Z",
     "start_time": "2021-09-11T23:03:21.538846Z"
    },
    "execution": {
     "iopub.execute_input": "2021-08-04T00:03:26.998420Z",
     "iopub.status.busy": "2021-08-04T00:03:26.997696Z",
     "iopub.status.idle": "2021-08-04T00:03:27.124639Z",
     "shell.execute_reply": "2021-08-04T00:03:27.125220Z",
     "shell.execute_reply.started": "2021-08-03T23:53:14.345887Z"
    },
    "id": "RWEVgd4wo_yg",
    "papermill": {
     "duration": 0.186166,
     "end_time": "2021-08-04T00:03:27.125396",
     "exception": false,
     "start_time": "2021-08-04T00:03:26.939230",
     "status": "completed"
    },
    "tags": []
   },
   "outputs": [],
   "source": [
    "from sklearn.model_selection import train_test_split\n",
    "train_df, val_df = train_test_split(dfTrainO, test_size=0.33, random_state=0,stratify =dfTrainO['y'])\n",
    "X_train = train_df.drop(columns=[\"ID\",\"y\"])\n",
    "y_train = train_df['y']\n",
    "################################################################################################\n",
    "X_val = val_df.drop(columns=[\"ID\",\"y\"])\n",
    "y_val = val_df['y']"
   ]
  },
  {
   "cell_type": "code",
   "execution_count": 7,
   "metadata": {
    "ExecuteTime": {
     "end_time": "2021-09-11T23:03:23.979636Z",
     "start_time": "2021-09-11T23:03:23.949370Z"
    },
    "execution": {
     "iopub.execute_input": "2021-08-04T00:03:26.880418Z",
     "iopub.status.busy": "2021-08-04T00:03:26.879776Z",
     "iopub.status.idle": "2021-08-04T00:03:26.884945Z",
     "shell.execute_reply": "2021-08-04T00:03:26.885489Z",
     "shell.execute_reply.started": "2021-08-03T23:53:14.333289Z"
    },
    "id": "CFrmTMf9o_yg",
    "papermill": {
     "duration": 0.062567,
     "end_time": "2021-08-04T00:03:26.885687",
     "exception": false,
     "start_time": "2021-08-04T00:03:26.823120",
     "status": "completed"
    },
    "tags": []
   },
   "outputs": [],
   "source": [
    "def normalize(df):\n",
    "    result = df.copy()\n",
    "    for feature_name in df.columns:\n",
    "        max_value = df[feature_name].max()\n",
    "        min_value = df[feature_name].min()\n",
    "        result[feature_name] = (df[feature_name] - min_value) / (max_value - min_value)\n",
    "    return result\n",
    "\n",
    "# X_train=normalize(X_train)\n",
    "# X_val=normalize(X_val)\n",
    "# dfTest=normalize(dfTest)\n",
    "\n",
    "# from sklearn.preprocessing import MinMaxScaler\n",
    "# scaler = MinMaxScaler()\n",
    "# scaler.fit(X_train)\n",
    "# X_train = scaler.transform(X_train)\n",
    "# X_val = scaler.transform(X_val)\n",
    "\n",
    "# from sklearn.preprocessing import minmax_scale\n",
    "# X_train = minmax_scale(X_train, feature_range=(0, 1))\n",
    "# X_val = minmax_scale(X_val, feature_range=(0, 1))\n",
    "\n",
    "# from sklearn.preprocessing import RobustScaler\n",
    "# rb = RobustScaler()\n",
    "# X_train= rb.fit_transform(X_train)\n",
    "# X_val = rb.fit_transform(X_val)\n",
    "\n",
    "from sklearn.preprocessing import StandardScaler\n",
    "scaler  = StandardScaler()\n",
    "scaler.fit(X_train)\n",
    "X_train = scaler.transform(X_train)\n",
    "X_val = scaler.transform(X_val)"
   ]
  },
  {
   "cell_type": "code",
   "execution_count": 9,
   "metadata": {},
   "outputs": [
    {
     "data": {
      "text/plain": [
       "(array(['BARBUNYA', 'BOMBAY', 'CALI', 'DERMASON', 'HOROZ', 'SEKER', 'SIRA'],\n",
       "       dtype=object),\n",
       " array([1900, 1900, 1900, 1900, 1900, 1900, 1900], dtype=int64))"
      ]
     },
     "execution_count": 9,
     "metadata": {},
     "output_type": "execute_result"
    }
   ],
   "source": [
    "from imblearn.over_sampling import SMOTE\n",
    "smt = SMOTE(random_state=0)\n",
    "X_train, y_train = smt.fit_resample(X_train, y_train)\n",
    "np.unique(y_train , return_counts=True)"
   ]
  },
  {
   "cell_type": "code",
   "execution_count": 10,
   "metadata": {
    "ExecuteTime": {
     "end_time": "2021-09-11T23:03:27.110476Z",
     "start_time": "2021-09-11T23:03:25.652226Z"
    },
    "execution": {
     "iopub.execute_input": "2021-08-04T00:03:27.966169Z",
     "iopub.status.busy": "2021-08-04T00:03:27.965396Z",
     "iopub.status.idle": "2021-08-04T00:03:29.436875Z",
     "shell.execute_reply": "2021-08-04T00:03:29.437399Z",
     "shell.execute_reply.started": "2021-08-03T23:53:14.463530Z"
    },
    "id": "klHKmmmMo_yi",
    "papermill": {
     "duration": 1.529167,
     "end_time": "2021-08-04T00:03:29.437569",
     "exception": false,
     "start_time": "2021-08-04T00:03:27.908402",
     "status": "completed"
    },
    "tags": []
   },
   "outputs": [],
   "source": [
    "from sklearn.linear_model import LogisticRegression\n",
    "from sklearn.neighbors import KNeighborsClassifier\n",
    "from sklearn.discriminant_analysis import LinearDiscriminantAnalysis\n",
    "from sklearn.naive_bayes import GaussianNB\n",
    "from sklearn.svm import SVC\n",
    "from sklearn.linear_model import SGDClassifier\n",
    "from sklearn.tree import DecisionTreeClassifier\n",
    "from xgboost import XGBClassifier\n",
    "from catboost import CatBoostClassifier\n",
    "from lightgbm import LGBMClassifier\n",
    "from sklearn.ensemble import RandomForestClassifier, BaggingClassifier,GradientBoostingClassifier,AdaBoostClassifier\n",
    "from sklearn.model_selection import GridSearchCV, cross_val_score\n",
    "from sklearn.ensemble import BaggingClassifier\n",
    "from sklearn.metrics import classification_report,confusion_matrix,accuracy_score"
   ]
  },
  {
   "cell_type": "code",
   "execution_count": 11,
   "metadata": {
    "ExecuteTime": {
     "end_time": "2021-09-11T23:03:36.680792Z",
     "start_time": "2021-09-11T23:03:36.672006Z"
    },
    "execution": {
     "iopub.execute_input": "2021-08-04T00:03:29.557278Z",
     "iopub.status.busy": "2021-08-04T00:03:29.556543Z",
     "iopub.status.idle": "2021-08-04T00:03:29.564592Z",
     "shell.execute_reply": "2021-08-04T00:03:29.565200Z",
     "shell.execute_reply.started": "2021-08-03T23:53:14.479861Z"
    },
    "id": "61ScA4X8o_yi",
    "papermill": {
     "duration": 0.069996,
     "end_time": "2021-08-04T00:03:29.565393",
     "exception": false,
     "start_time": "2021-08-04T00:03:29.495397",
     "status": "completed"
    },
    "tags": []
   },
   "outputs": [],
   "source": [
    "models = {\n",
    "    # \"LogisticRegression\":           LogisticRegression(),\n",
    "    \"KNeighborsClassifier\":         KNeighborsClassifier(), \n",
    "    \"DecisionTreeClassifier\":       DecisionTreeClassifier(),\n",
    "    \"SupportVectorMachine\":         SVC(C=1.0,kernel='rbf',gamma='auto'),\n",
    "    \"LinearDiscriminantAnalysis\":   LinearDiscriminantAnalysis(),\n",
    "    \"GaussianNB\":                   GaussianNB(),\n",
    "    \"SGDClassifier\":                SGDClassifier(),\n",
    "    \"RandomForestClassifier\":       RandomForestClassifier(),\n",
    "    \"BaggingClassifier\":            BaggingClassifier(),\n",
    "    \"CatBoostClassifier\":           CatBoostClassifier(verbose=False,loss_function='MultiClass'),\n",
    "    \"LGBMClassifier\":               LGBMClassifier(),\n",
    "    \"GradientBoostingClassifier\":   GradientBoostingClassifier(),\n",
    "    \"XGBClassifier\":                XGBClassifier(eval_metric='mlogloss')\n",
    "}"
   ]
  },
  {
   "cell_type": "code",
   "execution_count": 12,
   "metadata": {
    "colab": {
     "base_uri": "https://localhost:8080/"
    },
    "id": "XVe3Xf-pkWgG",
    "outputId": "c506eb56-403f-4e34-e2c9-507305fd4a5e"
   },
   "outputs": [
    {
     "data": {
      "text/plain": [
       "(13300, 16)"
      ]
     },
     "execution_count": 12,
     "metadata": {},
     "output_type": "execute_result"
    }
   ],
   "source": [
    "X_train.shape"
   ]
  },
  {
   "cell_type": "code",
   "execution_count": 13,
   "metadata": {
    "colab": {
     "base_uri": "https://localhost:8080/"
    },
    "id": "bEyEjSVZkbp4",
    "outputId": "d976a1c5-25b9-492d-9ac3-03adf40bf883"
   },
   "outputs": [
    {
     "data": {
      "text/plain": [
       "(13300,)"
      ]
     },
     "execution_count": 13,
     "metadata": {},
     "output_type": "execute_result"
    }
   ],
   "source": [
    "y_train.shape"
   ]
  },
  {
   "cell_type": "code",
   "execution_count": 14,
   "metadata": {
    "ExecuteTime": {
     "end_time": "2021-09-11T23:06:58.788536Z",
     "start_time": "2021-09-11T23:03:41.450687Z"
    },
    "colab": {
     "base_uri": "https://localhost:8080/"
    },
    "execution": {
     "iopub.execute_input": "2021-08-04T00:03:30.258991Z",
     "iopub.status.busy": "2021-08-04T00:03:30.258307Z",
     "iopub.status.idle": "2021-08-04T00:03:40.260320Z",
     "shell.execute_reply": "2021-08-04T00:03:40.259411Z",
     "shell.execute_reply.started": "2021-08-03T23:53:14.561676Z"
    },
    "id": "vsw-S1_co_yi",
    "outputId": "ebc00aa1-cb3e-4e2f-cb79-ec9e99d5e419",
    "papermill": {
     "duration": 10.059675,
     "end_time": "2021-08-04T00:03:40.260760",
     "exception": false,
     "start_time": "2021-08-04T00:03:30.201085",
     "status": "completed"
    },
    "tags": []
   },
   "outputs": [
    {
     "name": "stdout",
     "output_type": "stream",
     "text": [
      "Using model: KNeighborsClassifier\n",
      "------------------------------\n",
      "Train_Accuracy: 0.9677443609022557\n",
      "Validation_Accuracy: 0.9147091722595079\n",
      "************************************************************\n",
      "Using model: DecisionTreeClassifier\n",
      "------------------------------\n",
      "Train_Accuracy: 1.0\n",
      "Validation_Accuracy: 0.8831096196868009\n",
      "************************************************************\n",
      "Using model: SupportVectorMachine\n",
      "------------------------------\n",
      "Train_Accuracy: 0.9479699248120301\n",
      "Validation_Accuracy: 0.927013422818792\n",
      "************************************************************\n",
      "Using model: LinearDiscriminantAnalysis\n",
      "------------------------------\n",
      "Train_Accuracy: 0.9196240601503759\n",
      "Validation_Accuracy: 0.8945749440715883\n",
      "************************************************************\n",
      "Using model: GaussianNB\n",
      "------------------------------\n",
      "Train_Accuracy: 0.9085714285714286\n",
      "Validation_Accuracy: 0.8956935123042505\n",
      "************************************************************\n",
      "Using model: SGDClassifier\n",
      "------------------------------\n",
      "Train_Accuracy: 0.9306015037593985\n",
      "Validation_Accuracy: 0.9124720357941835\n",
      "************************************************************\n",
      "Using model: RandomForestClassifier\n",
      "------------------------------\n",
      "Train_Accuracy: 1.0\n",
      "Validation_Accuracy: 0.9175055928411633\n",
      "************************************************************\n",
      "Using model: BaggingClassifier\n",
      "------------------------------\n",
      "Train_Accuracy: 0.9963157894736843\n",
      "Validation_Accuracy: 0.9133109619686801\n",
      "************************************************************\n",
      "Using model: CatBoostClassifier\n",
      "------------------------------\n",
      "Train_Accuracy: 0.992406015037594\n",
      "Validation_Accuracy: 0.9261744966442953\n",
      "************************************************************\n",
      "Using model: LGBMClassifier\n",
      "------------------------------\n",
      "Train_Accuracy: 1.0\n",
      "Validation_Accuracy: 0.921420581655481\n",
      "************************************************************\n",
      "Using model: GradientBoostingClassifier\n",
      "------------------------------\n",
      "Train_Accuracy: 0.9746616541353383\n",
      "Validation_Accuracy: 0.9208612975391499\n",
      "************************************************************\n",
      "Using model: XGBClassifier\n",
      "------------------------------\n",
      "Train_Accuracy: 1.0\n",
      "Validation_Accuracy: 0.9222595078299777\n",
      "************************************************************\n"
     ]
    }
   ],
   "source": [
    "for name, model in models.items():\n",
    "    print(f'Using model: {name}')\n",
    "    print('-'*30)\n",
    "    model.fit(X_train, y_train)\n",
    "    y_trainhat = model.predict(X_train)\n",
    "    y_valhat = model.predict(X_val)\n",
    "    acc = accuracy_score(y_val, y_valhat)\n",
    "    # print(f'Train_Report: {classification_report(y_train,y_trainhat)}')\n",
    "    print(f'Train_Accuracy: {accuracy_score(y_train,y_trainhat)}')\n",
    "    # print(f'Validation_Report: {classification_report(y_val,y_valhat)}')\n",
    "    print(f'Validation_Accuracy: {accuracy_score(y_val,y_valhat)}')\n",
    "    print('**'*30)"
   ]
  },
  {
   "cell_type": "code",
   "execution_count": null,
   "metadata": {},
   "outputs": [],
   "source": [
    "print(\"Number of mislabeled points out of a total %d points : %d\"% (X_test.shape[0], (y_test != y_pred).sum()))"
   ]
  },
  {
   "cell_type": "markdown",
   "metadata": {
    "id": "Ej3ZUTx6o_yj",
    "papermill": {
     "duration": 0.058036,
     "end_time": "2021-08-04T00:03:40.497139",
     "exception": false,
     "start_time": "2021-08-04T00:03:40.439103",
     "status": "completed"
    },
    "tags": []
   },
   "source": [
    "## Test Data"
   ]
  },
  {
   "cell_type": "code",
   "execution_count": null,
   "metadata": {
    "ExecuteTime": {
     "end_time": "2021-09-11T20:51:24.850788Z",
     "start_time": "2021-09-11T20:51:24.840051Z"
    },
    "id": "kXc1l5px5g-j"
   },
   "outputs": [],
   "source": [
    "# ############################################\n",
    "# TestYTrue= pd.read_csv(\"yTest.csv\")\n",
    "# yTrueTest=TestYTrue[\"y\"]\n",
    "# ############################################\n",
    "\n",
    "ID=dfTestO[\"ID\"]\n"
   ]
  },
  {
   "cell_type": "code",
   "execution_count": null,
   "metadata": {},
   "outputs": [],
   "source": [
    "# dfTestNEW.loc[: , dfTestNEW.columns!=\"ID\"]\n",
    "dfTestO"
   ]
  },
  {
   "cell_type": "code",
   "execution_count": null,
   "metadata": {},
   "outputs": [],
   "source": [
    "# X_test = dfTestNEW.loc[: , dfTestNEW.columns!=\"ID\"]\n"
   ]
  },
  {
   "cell_type": "code",
   "execution_count": null,
   "metadata": {
    "ExecuteTime": {
     "end_time": "2021-09-11T20:51:51.803717Z",
     "start_time": "2021-09-11T20:51:50.168361Z"
    },
    "colab": {
     "base_uri": "https://localhost:8080/"
    },
    "id": "G7YcPp_q5g-j",
    "outputId": "34d68c69-f14b-437c-d095-c87d775e3981"
   },
   "outputs": [],
   "source": [
    "Model=CatBoostClassifier(iterations=700, learning_rate=0.2,verbose=False)\n",
    "Model.fit(X_train, y_train)\n",
    "\n",
    "y_trainhat = Model.predict(X_train)\n",
    "y_valhat = Model.predict(X_val)\n",
    "acc = accuracy_score(y_val, y_valhat)\n",
    "# print(f'Train_Report: {classification_report(y_train,y_trainhat)}')\n",
    "print(f'Train_Accuracy: {accuracy_score(y_train,y_trainhat)}')\n",
    "# print(f'Validation_Report: {classification_report(y_val,y_valhat)}')\n",
    "print(f'Validation_Accuracy: {accuracy_score(y_val,y_valhat)}')\n",
    "print('**'*30)"
   ]
  },
  {
   "cell_type": "code",
   "execution_count": null,
   "metadata": {},
   "outputs": [],
   "source": []
  },
  {
   "cell_type": "code",
   "execution_count": null,
   "metadata": {},
   "outputs": [],
   "source": []
  },
  {
   "cell_type": "code",
   "execution_count": null,
   "metadata": {
    "ExecuteTime": {
     "end_time": "2021-09-11T20:52:15.508522Z",
     "start_time": "2021-09-11T20:52:15.267383Z"
    },
    "id": "djFK3cIS5g-k"
   },
   "outputs": [],
   "source": [
    "y_test_predicted = Model.predict(X_test)\n",
    "\n",
    "dfTestO['y'] = y_test_predicted\n",
    "\n",
    "dfTestO.drop(columns=\"ID\",inplace=True)\n",
    "dfTest=pd.concat([dfTestO, ID],axis=1)\n",
    "\n",
    "#dfTestEncoded2[['ID', 'y']].to_csv('/kaggle/working/submission.csv', index=False)\n",
    "dfTest[['ID', 'y']].to_csv('submission.csv', index=False)"
   ]
  },
  {
   "cell_type": "code",
   "execution_count": null,
   "metadata": {},
   "outputs": [],
   "source": [
    "dfTest[['ID', 'y']]"
   ]
  },
  {
   "cell_type": "code",
   "execution_count": null,
   "metadata": {},
   "outputs": [],
   "source": []
  },
  {
   "cell_type": "code",
   "execution_count": null,
   "metadata": {},
   "outputs": [],
   "source": []
  },
  {
   "cell_type": "code",
   "execution_count": null,
   "metadata": {},
   "outputs": [],
   "source": []
  },
  {
   "cell_type": "code",
   "execution_count": null,
   "metadata": {},
   "outputs": [],
   "source": []
  },
  {
   "cell_type": "code",
   "execution_count": null,
   "metadata": {},
   "outputs": [],
   "source": []
  },
  {
   "cell_type": "markdown",
   "metadata": {},
   "source": [
    "# Test ActualData vs TestData"
   ]
  },
  {
   "cell_type": "code",
   "execution_count": 22,
   "metadata": {},
   "outputs": [],
   "source": [
    "#DifferenceActualTest.csv\n",
    "testAcual = pd.read_csv(\"update.csv\" , )"
   ]
  },
  {
   "cell_type": "code",
   "execution_count": 23,
   "metadata": {},
   "outputs": [
    {
     "data": {
      "text/plain": [
       "Index(['ID', 'Area', 'Perimeter', 'MajorAxisLength', 'MinorAxisLength',\n",
       "       'AspectRation', 'Eccentricity', 'ConvexArea', 'EquivDiameter', 'Extent',\n",
       "       'Solidity', 'roundness', 'Compactness', 'ShapeFactor1', 'ShapeFactor2',\n",
       "       'ShapeFactor3', 'ShapeFactor4', 'Class'],\n",
       "      dtype='object')"
      ]
     },
     "execution_count": 23,
     "metadata": {},
     "output_type": "execute_result"
    }
   ],
   "source": [
    "testAcual.columns"
   ]
  },
  {
   "cell_type": "code",
   "execution_count": 24,
   "metadata": {},
   "outputs": [
    {
     "data": {
      "text/plain": [
       "(array(['BARBUNYA', 'BOMBAY', 'CALI', 'DERMASON', 'HOROZ', 'SEKER', 'SIRA'],\n",
       "       dtype=object),\n",
       " array([1900, 1900, 1900, 1900, 1900, 1900, 1900], dtype=int64))"
      ]
     },
     "execution_count": 24,
     "metadata": {},
     "output_type": "execute_result"
    }
   ],
   "source": [
    "from imblearn.over_sampling import SMOTE\n",
    "smt = SMOTE(random_state=0)\n",
    "X_train, y_train = smt.fit_resample(X_train, y_train)\n",
    "np.unique(y_train , return_counts=True)"
   ]
  },
  {
   "cell_type": "code",
   "execution_count": 25,
   "metadata": {},
   "outputs": [
    {
     "data": {
      "text/plain": [
       "0       SEKER\n",
       "1       SEKER\n",
       "2       SEKER\n",
       "3       SEKER\n",
       "4       SEKER\n",
       "        ...  \n",
       "2716      NaN\n",
       "2717      NaN\n",
       "2718      NaN\n",
       "2719      NaN\n",
       "2720      NaN\n",
       "Name: Class, Length: 2721, dtype: object"
      ]
     },
     "execution_count": 25,
     "metadata": {},
     "output_type": "execute_result"
    }
   ],
   "source": [
    "testAcual[\"Class\"]"
   ]
  },
  {
   "cell_type": "code",
   "execution_count": null,
   "metadata": {},
   "outputs": [],
   "source": []
  },
  {
   "cell_type": "code",
   "execution_count": null,
   "metadata": {},
   "outputs": [],
   "source": []
  },
  {
   "cell_type": "code",
   "execution_count": null,
   "metadata": {},
   "outputs": [],
   "source": []
  },
  {
   "cell_type": "code",
   "execution_count": null,
   "metadata": {},
   "outputs": [],
   "source": []
  }
 ],
 "metadata": {
  "colab": {
   "collapsed_sections": [
    "eb47725f"
   ],
   "name": "Dry_Beans_Classification.ipynb",
   "provenance": []
  },
  "kernelspec": {
   "display_name": "Python 3",
   "language": "python",
   "name": "python3"
  },
  "language_info": {
   "codemirror_mode": {
    "name": "ipython",
    "version": 3
   },
   "file_extension": ".py",
   "mimetype": "text/x-python",
   "name": "python",
   "nbconvert_exporter": "python",
   "pygments_lexer": "ipython3",
   "version": "3.8.5"
  },
  "papermill": {
   "default_parameters": {},
   "duration": 32.773199,
   "end_time": "2021-08-04T00:03:45.490507",
   "environment_variables": {},
   "exception": null,
   "input_path": "__notebook__.ipynb",
   "output_path": "__notebook__.ipynb",
   "parameters": {},
   "start_time": "2021-08-04T00:03:12.717308",
   "version": "2.3.3"
  },
  "toc": {
   "base_numbering": 1,
   "nav_menu": {},
   "number_sections": true,
   "sideBar": true,
   "skip_h1_title": false,
   "title_cell": "Table of Contents",
   "title_sidebar": "Contents",
   "toc_cell": false,
   "toc_position": {
    "height": "calc(100% - 180px)",
    "left": "10px",
    "top": "150px",
    "width": "238.188px"
   },
   "toc_section_display": true,
   "toc_window_display": false
  },
  "varInspector": {
   "cols": {
    "lenName": 16,
    "lenType": 16,
    "lenVar": 40
   },
   "kernels_config": {
    "python": {
     "delete_cmd_postfix": "",
     "delete_cmd_prefix": "del ",
     "library": "var_list.py",
     "varRefreshCmd": "print(var_dic_list())"
    },
    "r": {
     "delete_cmd_postfix": ") ",
     "delete_cmd_prefix": "rm(",
     "library": "var_list.r",
     "varRefreshCmd": "cat(var_dic_list()) "
    }
   },
   "types_to_exclude": [
    "module",
    "function",
    "builtin_function_or_method",
    "instance",
    "_Feature"
   ],
   "window_display": false
  }
 },
 "nbformat": 4,
 "nbformat_minor": 5
}
